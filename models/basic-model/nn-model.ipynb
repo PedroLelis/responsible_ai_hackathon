{
 "cells": [
  {
   "cell_type": "markdown",
   "metadata": {},
   "source": [
    "# Neural Network Model\n",
    "\n",
    "The aim of the notebook is demo end to end pipeline for Ads prediction in Tensorflow"
   ]
  },
  {
   "cell_type": "code",
   "execution_count": null,
   "metadata": {
    "scrolled": true
   },
   "outputs": [],
   "source": [
    "# ! ./setup.sh # uncomment if you wish to install any new packages"
   ]
  },
  {
   "cell_type": "code",
   "execution_count": 2,
   "metadata": {},
   "outputs": [],
   "source": [
    "%matplotlib inline"
   ]
  },
  {
   "cell_type": "code",
   "execution_count": null,
   "metadata": {},
   "outputs": [],
   "source": [
    "import tensorflow as tf\n",
    "import tensorflow_docs as tfdocs\n",
    "import tensorflow_docs.modeling\n",
    "import sys\n",
    "from pathlib import Path\n",
    "import datetime\n",
    "import time\n",
    "import numpy as np\n",
    "import pandas as pd\n",
    "from pprint import pprint\n",
    "from typing import Dict, Any, Union, List, Tuple\n",
    "from functools import partial\n",
    "import re\n",
    "import string\n",
    "from sklearn.preprocessing import MultiLabelBinarizer\n",
    "from sklearn.metrics import confusion_matrix\n",
    "from math import ceil\n",
    "from collections import namedtuple\n",
    "from sklearn.model_selection import train_test_split\n",
    "import pickle\n",
    "\n",
    "import chakin\n",
    "import json\n",
    "import os\n",
    "from collections import defaultdict\n",
    "import zipfile\n",
    "import sqlite3\n",
    "import logging\n",
    "from tempfile import TemporaryDirectory\n",
    "from fastprogress import progress_bar\n",
    "from imblearn.over_sampling import SMOTE\n",
    "from imblearn.under_sampling import NearMiss\n",
    "from imblearn.over_sampling import RandomOverSampler\n",
    "\n",
    "from tensorflow.keras.preprocessing.text import Tokenizer\n",
    "from tensorflow.keras.preprocessing.sequence import pad_sequences\n",
    "from tensorflow.keras.models import Model\n",
    "from tensorflow.keras.layers import Input\n",
    "from tensorflow.keras.layers import Dense\n",
    "from tensorflow.keras.layers import Embedding\n",
    "from tensorflow.keras.layers import Flatten\n",
    "from tensorflow.keras.layers import concatenate\n",
    "\n",
    "\n",
    "from aif360.metrics import BinaryLabelDatasetMetric\n",
    "from aif360.algorithms.preprocessing import Reweighing\n",
    "from aif360.datasets import BinaryLabelDataset  # To handle the data\n",
    "\n",
    "import matplotlib.pyplot as plt\n",
    "import seaborn as sns\n",
    "\n",
    "from EmbeddingFactory import EmbeddingFactory\n",
    "\n",
    "pd.set_option('display.max_rows', None)\n",
    "\n",
    "print(f\"Using Tensorflow, {tf.__version__} on Python interpreter, {sys.version_info}\")"
   ]
  },
  {
   "cell_type": "code",
   "execution_count": null,
   "metadata": {},
   "outputs": [
    {
     "name": "stdout",
     "output_type": "stream",
     "text": [
      "Using random seed, 1589097364\n"
     ]
    }
   ],
   "source": [
    "RANDOM_SEED = int(time.time())\n",
    "\n",
    "tf.random.set_seed(RANDOM_SEED)\n",
    "np.random.seed(RANDOM_SEED)\n",
    "\n",
    "print(f\"Using random seed, {RANDOM_SEED}\")"
   ]
  },
  {
   "cell_type": "markdown",
   "metadata": {},
   "source": [
    "## Load Data"
   ]
  },
  {
   "cell_type": "markdown",
   "metadata": {},
   "source": [
    "Dataset credits:\n",
    "```\n",
    "@inproceedings{roffo2016personality,\n",
    "  title={Personality in computational advertising: A benchmark},\n",
    "  author={Roffo, Giorgio and Vinciarelli, Alessandro},\n",
    "  booktitle={4 th Workshop on Emotions and Personality in Personalized Systems (EMPIRE) 2016},\n",
    "  pages={18},\n",
    "  year={2016}\n",
    "}\n",
    "```"
   ]
  },
  {
   "cell_type": "code",
   "execution_count": null,
   "metadata": {},
   "outputs": [],
   "source": [
    "DATA_FOLDER = Path(\"../../dataset/\")\n",
    "BATCH_SIZE = 4096 # bigger the batch, faster the training but bigger the RAM needed\n",
    "TARGET_COL = \"Rating\"\n",
    "\n",
    "# data files path are relative DATA_FOLDER\n",
    "users_ads_rating_csv = DATA_FOLDER/\"users-ads-without-gcp-ratings_OHE_MLB_FAV_UNFAV_Merged.csv\""
   ]
  },
  {
   "cell_type": "markdown",
   "metadata": {
    "heading_collapsed": true
   },
   "source": [
    "### Declare columns names"
   ]
  },
  {
   "cell_type": "code",
   "execution_count": null,
   "metadata": {
    "hidden": true
   },
   "outputs": [],
   "source": [
    "USER_ID = \"UserId\"\n",
    "AD_ID = \"AdId\"\n",
    "AGE = \"Age\"\n",
    "ZIP_CODE = \"CapZipCode\"\n",
    "COUNTRIES_VISITED = \"Countriesvisited\"\n",
    "FAVE_SPORTS = \"FaveSports\"\n",
    "GENDER = \"Gender\"\n",
    "HOME_COUNTRY = \"Homecountry\"\n",
    "HOME_TOWN = \"Hometown\"\n",
    "INCOME = \"Income\"\n",
    "LAST_NAME = \"LastName\"\n",
    "MOST_LISTENED_MUSICS = \"Mostlistenedmusics\"\n",
    "MOST_READ_BOOKS = \"Mostreadbooks\"\n",
    "MOST_VISITED_WEBSITES = \"Mostvisitedwebsites\"\n",
    "MOST_WATCHED_MOVIES = \"Mostwatchedmovies\"\n",
    "MOST_WATCHED_TV_PROGRAMMES = \"Mostwatchedtvprogrammes\"\n",
    "NAME = \"Name\"\n",
    "PAYPAL = \"Paypal\"\n",
    "TIMEPASS = \"Timepass\"\n",
    "TYPE_OF_JOB = \"TypeofJob\"\n",
    "WEEKLY_WORKING_HOURS = \"Weeklyworkinghours\"\n",
    "ADFILEPATH = \"AdFilePath\"\n",
    "GENDER_F = \"Gender_F\"\n",
    "GENDER_M = \"Gender_M\"\n",
    "# HomeCountry = 12 Columns\n",
    "HOMECOUNTRY_CANADA = \"Homecountry_Canada\"\n",
    "HOMECOUNTRY_CZECHREPUBLIC = \"Homecountry_CzechRepublic\"\n",
    "HOMECOUNTRY_GREATBRITAIN = \"Homecountry_GreatBritain\"\n",
    "HOMECOUNTRY_INDIA = \"Homecountry_India\"\n",
    "HOMECOUNTRY_ITALY = \"Homecountry_Italy\"\n",
    "HOMECOUNTRY_PHILLIPINES = \"Homecountry_Phillipines\"\n",
    "HOMECOUNTRY_ROMANIA = \"Homecountry_Romania\"\n",
    "HOMECOUNTRY_SAUDIARABIA = \"Homecountry_SaudiArabia\"\n",
    "HOMECOUNTRY_SINGAPORE = \"Homecountry_Singapore\"\n",
    "HOMECOUNTRY_SLOVENIA = \"Homecountry_Slovenia\"\n",
    "HOMECOUNTRY_UNITEDKINGDOM = \"Homecountry_UnitedKingdom\"\n",
    "HOMECOUNTRY_UNITEDSTATESOFAMERICA = \"Homecountry_UnitedStatesofAmerica\"\n",
    "# Income = 4 Columns\n",
    "INCOME_0 = \"Income_0\"\n",
    "INCOME_1 = \"Income_1\"\n",
    "INCOME_2 = \"Income_2\"\n",
    "INCOME_3 = \"Income_3\"\n",
    "# Mostlistenedmusics = 22 Columns\n",
    "MOSTLISTENEDMUSICS_1 = \"AlternativeMusic\"\n",
    "MOSTLISTENEDMUSICS_2 = \"AsianPopJPoporKpop\"\n",
    "MOSTLISTENEDMUSICS_3 = \"Blues\"\n",
    "MOSTLISTENEDMUSICS_4 = \"ClassicalMusic\"\n",
    "MOSTLISTENEDMUSICS_5 = \"CountryMusic\"\n",
    "MOSTLISTENEDMUSICS_6 = \"DanceMusic\"\n",
    "MOSTLISTENEDMUSICS_7 = \"EasyListening\"\n",
    "MOSTLISTENEDMUSICS_8 = \"ElectronicMusic\"\n",
    "MOSTLISTENEDMUSICS_9 = \"EuropeanMusicFolkPop\"\n",
    "MOSTLISTENEDMUSICS_10 = \"HipHopRap\"\n",
    "MOSTLISTENEDMUSICS_11 = \"IndiePop\"\n",
    "MOSTLISTENEDMUSICS_12 = \"InspirationalinclGospel\"\n",
    "MOSTLISTENEDMUSICS_13 = \"Jazz\"\n",
    "MOSTLISTENEDMUSICS_14 = \"LatinMusic\"\n",
    "MOSTLISTENEDMUSICS_15 = \"NewAge\"\n",
    "MOSTLISTENEDMUSICS_16 = \"Opera\"\n",
    "MOSTLISTENEDMUSICS_17 = \"PopPopularmusic\"\n",
    "MOSTLISTENEDMUSICS_18 = \"RampBSoul\"\n",
    "MOSTLISTENEDMUSICS_19 = \"Reggae\"\n",
    "MOSTLISTENEDMUSICS_20 = \"Rock\"\n",
    "MOSTLISTENEDMUSICS_21 = \"SingerSongwriterincFolk\"\n",
    "MOSTLISTENEDMUSICS_22 = \"WorldMusicBeats\"\n",
    "# Mostreadbooks = 31 Columns\n",
    "MOSTREADBOOKS_1 = \"ActionandAdventure\"\n",
    "MOSTREADBOOKS_2 = \"Anthologies\"\n",
    "MOSTREADBOOKS_3 = \"Art\"\n",
    "MOSTREADBOOKS_4 = \"Autobiographies\"\n",
    "MOSTREADBOOKS_5 = \"Biographies\"\n",
    "MOSTREADBOOKS_6 = \"Childrens\"\n",
    "MOSTREADBOOKS_7 = \"Childrensliterature\"\n",
    "MOSTREADBOOKS_8 = \"Comics\"\n",
    "MOSTREADBOOKS_9 = \"Cookbooks\"\n",
    "MOSTREADBOOKS_10 = \"Diaries\"\n",
    "MOSTREADBOOKS_11 = \"Drama\"\n",
    "MOSTREADBOOKS_12 = \"Encyclopedias\"\n",
    "MOSTREADBOOKS_13 = \"Eroticfiction\"\n",
    "MOSTREADBOOKS_14 = \"Fantasy\"\n",
    "MOSTREADBOOKS_15 = \"Guide\"\n",
    "MOSTREADBOOKS_16 = \"History\"\n",
    "MOSTREADBOOKS_17 = \"Horror\"\n",
    "MOSTREADBOOKS_18 = \"Journals\"\n",
    "MOSTREADBOOKS_19 = \"Math\"\n",
    "MOSTREADBOOKS_20 = \"Mystery\"\n",
    "MOSTREADBOOKS_21 = \"Poetry\"\n",
    "MOSTREADBOOKS_22 = \"Prayerbooks\"\n",
    "MOSTREADBOOKS_23 = \"Religious\"\n",
    "MOSTREADBOOKS_24 = \"Romance\"\n",
    "MOSTREADBOOKS_25 = \"Satire\"\n",
    "MOSTREADBOOKS_26 = \"Science\"\n",
    "MOSTREADBOOKS_27 = \"Sciencefiction\"\n",
    "MOSTREADBOOKS_28 = \"Selfhelp\"\n",
    "MOSTREADBOOKS_29 = \"Series\"\n",
    "MOSTREADBOOKS_30 = \"Travel\"\n",
    "MOSTREADBOOKS_31 = \"Trilogies\"\n",
    "# Mostwatchedmovies = 21 Columns\n",
    "MOSTWATCHEDMOVIES_1 = \"Mostwatchedmovies_Action\"\n",
    "MOSTWATCHEDMOVIES_2 = \"Mostwatchedmovies_Adventure\"\n",
    "MOSTWATCHEDMOVIES_3 = \"Mostwatchedmovies_Animation\"\n",
    "MOSTWATCHEDMOVIES_4 = \"Mostwatchedmovies_Biography\"\n",
    "MOSTWATCHEDMOVIES_5 = \"Mostwatchedmovies_Comedy\"\n",
    "MOSTWATCHEDMOVIES_6 = \"Mostwatchedmovies_CrimeandGangster\"\n",
    "MOSTWATCHEDMOVIES_7 = \"Mostwatchedmovies_Documentary\"\n",
    "MOSTWATCHEDMOVIES_8 = \"Mostwatchedmovies_Drama\"\n",
    "MOSTWATCHEDMOVIES_9 = \"Mostwatchedmovies_EpicHistorical\"\n",
    "MOSTWATCHEDMOVIES_10 = \"Mostwatchedmovies_Erotic\"\n",
    "MOSTWATCHEDMOVIES_11 = \"Mostwatchedmovies_Family\"\n",
    "MOSTWATCHEDMOVIES_12 = \"Mostwatchedmovies_Fantasy\"\n",
    "MOSTWATCHEDMOVIES_13 = \"Mostwatchedmovies_Horror\"\n",
    "MOSTWATCHEDMOVIES_14 = \"Mostwatchedmovies_Musical\"\n",
    "MOSTWATCHEDMOVIES_15 = \"Mostwatchedmovies_Mystery\"\n",
    "MOSTWATCHEDMOVIES_16 = \"Mostwatchedmovies_Romance\"\n",
    "MOSTWATCHEDMOVIES_17 = \"Mostwatchedmovies_SciFi\"\n",
    "MOSTWATCHEDMOVIES_18 = \"Mostwatchedmovies_Sport\"\n",
    "MOSTWATCHEDMOVIES_19 = \"Mostwatchedmovies_Thriller\"\n",
    "MOSTWATCHEDMOVIES_20 = \"Mostwatchedmovies_War\"\n",
    "MOSTWATCHEDMOVIES_21 = \"Mostwatchedmovies_Western\"\n",
    "# Mostwatchedtvprogrammes = 11 Columns\n",
    "MOSTWATCHEDTVPROGRAMMES_1 = \"Mostwatchedtvprogrammes_Childrens\"\n",
    "MOSTWATCHEDTVPROGRAMMES_2 = \"Mostwatchedtvprogrammes_Comedy\"\n",
    "MOSTWATCHEDTVPROGRAMMES_3 = \"Mostwatchedtvprogrammes_Drama\"\n",
    "MOSTWATCHEDTVPROGRAMMES_4 = \"Mostwatchedtvprogrammes_EntertainmentVarietyShows\"\n",
    "MOSTWATCHEDTVPROGRAMMES_5 = \"Mostwatchedtvprogrammes_Factual\"\n",
    "MOSTWATCHEDTVPROGRAMMES_6 = \"Mostwatchedtvprogrammes_Learning\"\n",
    "MOSTWATCHEDTVPROGRAMMES_7 = \"Mostwatchedtvprogrammes_Music\"\n",
    "MOSTWATCHEDTVPROGRAMMES_8 = \"Mostwatchedtvprogrammes_News\"\n",
    "MOSTWATCHEDTVPROGRAMMES_9 = \"Mostwatchedtvprogrammes_ReligionampEthics\"\n",
    "MOSTWATCHEDTVPROGRAMMES_10 = \"Mostwatchedtvprogrammes_Sport\"\n",
    "MOSTWATCHEDTVPROGRAMMES_11 = \"Mostwatchedtvprogrammes_Weather\"\n",
    "\n",
    "RATING = \"Rating\"\n",
    "AD_NUM_FACES = \"ad_num_faces\"\n",
    "AD_LABEL_FEATURE_1 = 'ad_isAdvertising'\n",
    "AD_LABEL_FEATURE_2 = 'ad_isBrand'\n",
    "AD_LABEL_FEATURE_3 = 'ad_isElectronicdevice'\n",
    "AD_LABEL_FEATURE_4 = 'ad_isElectronics'\n",
    "AD_LABEL_FEATURE_5 = 'ad_isFashionaccessory'\n",
    "AD_LABEL_FEATURE_6 = 'ad_isFictionalcharacter'\n",
    "AD_LABEL_FEATURE_7 = 'ad_isFont'\n",
    "AD_LABEL_FEATURE_8 = 'ad_isFurniture'\n",
    "AD_LABEL_FEATURE_9 = 'ad_isGadget'\n",
    "AD_LABEL_FEATURE_10 = 'ad_isGames'\n",
    "AD_LABEL_FEATURE_11 = 'ad_isGraphicdesign'\n",
    "AD_LABEL_FEATURE_12 = 'ad_isGraphics'\n",
    "AD_LABEL_FEATURE_13 = 'ad_isJewellery'\n",
    "AD_LABEL_FEATURE_14 = 'ad_isLine'\n",
    "AD_LABEL_FEATURE_15 = 'ad_isLogo'\n",
    "AD_LABEL_FEATURE_16 = 'ad_isMagenta'\n",
    "AD_LABEL_FEATURE_17 = 'ad_isMaterialproperty'\n",
    "AD_LABEL_FEATURE_18 = 'ad_isMultimedia'\n",
    "AD_LABEL_FEATURE_19 = 'ad_isProduct'\n",
    "AD_LABEL_FEATURE_20 = 'ad_isRectangle'\n",
    "AD_LABEL_FEATURE_21 = 'ad_isSkin'\n",
    "AD_LABEL_FEATURE_22 = 'ad_isTechnology'\n",
    "AD_LABEL_FEATURE_23 = 'ad_isText'\n",
    "AD_LABEL_FEATURE_24 = 'ad_isVehicle'\n",
    "AD_LABEL_FEATURE_25 = 'ad_isYellow'\n",
    "AD_SAFESEARCH_FEATURE_1 = 'ad_isAdult_UNLIKELY'\n",
    "AD_SAFESEARCH_FEATURE_2 ='ad_isAdult_VERY_UNLIKELY'\n",
    "AD_SAFESEARCH_FEATURE_3 ='ad_isSpoof_POSSIBLE'\n",
    "AD_SAFESEARCH_FEATURE_4 ='ad_isSpoof_UNLIKELY'\n",
    "AD_SAFESEARCH_FEATURE_5 ='ad_isSpoof_VERY_UNLIKELY'\n",
    "AD_SAFESEARCH_FEATURE_6 ='ad_isMedical_POSSIBLE'\n",
    "AD_SAFESEARCH_FEATURE_7 ='ad_isMedical_UNLIKELY'\n",
    "AD_SAFESEARCH_FEATURE_8 ='ad_isMedical_VERY_UNLIKELY'\n",
    "AD_SAFESEARCH_FEATURE_9 ='ad_isViolence_VERY_UNLIKELY'\n",
    "AD_SAFESEARCH_FEATURE_10 ='ad_isRacy_POSSIBLE'\n",
    "AD_SAFESEARCH_FEATURE_11 ='ad_isRacy_UNLIKELY'\n",
    "AD_SAFESEARCH_FEATURE_12 ='ad_isRacy_VERY_LIKELY'\n",
    "AD_SAFESEARCH_FEATURE_13 ='ad_isRacy_VERY_UNLIKELY'\n",
    "AD_OBJECT_FEATURE_1 = 'ad_isAnimal'\n",
    "AD_OBJECT_FEATURE_2 ='ad_isBelt'\n",
    "AD_OBJECT_FEATURE_3 ='ad_isBottle'\n",
    "AD_OBJECT_FEATURE_4 ='ad_isBox'\n",
    "AD_OBJECT_FEATURE_5 ='ad_isCameralens'\n",
    "AD_OBJECT_FEATURE_6 ='ad_isChair'\n",
    "AD_OBJECT_FEATURE_7 ='ad_isClothing'\n",
    "AD_OBJECT_FEATURE_8 ='ad_isEarrings'\n",
    "AD_OBJECT_FEATURE_9 ='ad_isFood'\n",
    "AD_OBJECT_FEATURE_10 ='ad_isHat'\n",
    "AD_OBJECT_FEATURE_11 ='ad_isLuggagebags'\n",
    "AD_OBJECT_FEATURE_12 ='ad_isMobilephone'\n",
    "AD_OBJECT_FEATURE_13 ='ad_isNecklace'\n",
    "AD_OBJECT_FEATURE_14 ='ad_isPackagedgoods'\n",
    "AD_OBJECT_FEATURE_15 ='ad_isPants'\n",
    "AD_OBJECT_FEATURE_16 ='ad_isPen'\n",
    "AD_OBJECT_FEATURE_17 ='ad_isPerson'\n",
    "AD_OBJECT_FEATURE_18 ='ad_isPillow'\n",
    "AD_OBJECT_FEATURE_19 ='ad_isPoster'\n",
    "AD_OBJECT_FEATURE_20 ='ad_isShoe'\n",
    "AD_OBJECT_FEATURE_21 ='ad_isTop'\n",
    "AD_OBJECT_FEATURE_22 ='ad_isToy'\n",
    "AD_OBJECT_FEATURE_23 ='ad_isWatch'\n",
    "AD_OBJECT_FEATURE_24  ='ad_isWheel'\n",
    "FAV = 'fav'\n",
    "UNFAV = 'unfav'\n",
    "\n",
    "\n",
    "# Read all columns as strings to avoid any errors\n",
    "COL_DEFAULTS = {\n",
    "    USER_ID: \"**\",\n",
    "    AD_ID: \"**\",\n",
    "    AGE: \"**\",\n",
    "    ZIP_CODE: \"**\",\n",
    "    COUNTRIES_VISITED: \"**\",\n",
    "    FAVE_SPORTS: \"**\",\n",
    "    GENDER: \"**\",\n",
    "    HOME_COUNTRY: \"**\",\n",
    "    HOME_TOWN: \"**\",\n",
    "    INCOME: \"**\",\n",
    "    LAST_NAME: \"**\",\n",
    "    MOST_LISTENED_MUSICS: \"**\",\n",
    "    MOST_READ_BOOKS: \"**\",\n",
    "    MOST_VISITED_WEBSITES: \"**\",\n",
    "    MOST_WATCHED_MOVIES: \"**\",\n",
    "    MOST_WATCHED_TV_PROGRAMMES: \"**\",\n",
    "    NAME: \"**\",\n",
    "    PAYPAL: \"**\",\n",
    "    TIMEPASS: \"**\",\n",
    "    TYPE_OF_JOB: \"**\",\n",
    "    WEEKLY_WORKING_HOURS: \"**\",\n",
    "    ADFILEPATH: \"**\",\n",
    "    GENDER_F: \"**\",\n",
    "    GENDER_M: \"**\",\n",
    "    HOMECOUNTRY_CANADA: \"**\",\n",
    "    HOMECOUNTRY_CZECHREPUBLIC: \"**\",\n",
    "    HOMECOUNTRY_GREATBRITAIN: \"**\",\n",
    "    HOMECOUNTRY_INDIA: \"**\",\n",
    "    HOMECOUNTRY_ITALY: \"**\",\n",
    "    HOMECOUNTRY_PHILLIPINES: \"**\",\n",
    "    HOMECOUNTRY_ROMANIA: \"**\",\n",
    "    HOMECOUNTRY_SAUDIARABIA: \"**\",\n",
    "    HOMECOUNTRY_SINGAPORE: \"**\",\n",
    "    HOMECOUNTRY_SLOVENIA: \"**\",\n",
    "    HOMECOUNTRY_UNITEDKINGDOM: \"**\",\n",
    "    HOMECOUNTRY_UNITEDSTATESOFAMERICA: \"**\",\n",
    "    INCOME_0: \"**\",\n",
    "    INCOME_1: \"**\",\n",
    "    INCOME_2: \"**\",\n",
    "    INCOME_3: \"**\",\n",
    "    MOSTLISTENEDMUSICS_1: \"**\",\n",
    "    MOSTLISTENEDMUSICS_2: \"**\",\n",
    "    MOSTLISTENEDMUSICS_3: \"**\",\n",
    "    MOSTLISTENEDMUSICS_4: \"**\",\n",
    "    MOSTLISTENEDMUSICS_5: \"**\",\n",
    "    MOSTLISTENEDMUSICS_6: \"**\",\n",
    "    MOSTLISTENEDMUSICS_7: \"**\",\n",
    "    MOSTLISTENEDMUSICS_8: \"**\",\n",
    "    MOSTLISTENEDMUSICS_9: \"**\",\n",
    "    MOSTLISTENEDMUSICS_10: \"**\",\n",
    "    MOSTLISTENEDMUSICS_11: \"**\",\n",
    "    MOSTLISTENEDMUSICS_12: \"**\",\n",
    "    MOSTLISTENEDMUSICS_13: \"**\",\n",
    "    MOSTLISTENEDMUSICS_14: \"**\",\n",
    "    MOSTLISTENEDMUSICS_15: \"**\",\n",
    "    MOSTLISTENEDMUSICS_16: \"**\",\n",
    "    MOSTLISTENEDMUSICS_17: \"**\",\n",
    "    MOSTLISTENEDMUSICS_18: \"**\",\n",
    "    MOSTLISTENEDMUSICS_19: \"**\",\n",
    "    MOSTLISTENEDMUSICS_20: \"**\",\n",
    "    MOSTLISTENEDMUSICS_21: \"**\",\n",
    "    MOSTLISTENEDMUSICS_22: \"**\",\n",
    "    MOSTREADBOOKS_1: \"**\",\n",
    "    MOSTREADBOOKS_2: \"**\",\n",
    "    MOSTREADBOOKS_3: \"**\",\n",
    "    MOSTREADBOOKS_4: \"**\",\n",
    "    MOSTREADBOOKS_5: \"**\",\n",
    "    MOSTREADBOOKS_6: \"**\",\n",
    "    MOSTREADBOOKS_7: \"**\",\n",
    "    MOSTREADBOOKS_8: \"**\",\n",
    "    MOSTREADBOOKS_9: \"**\",\n",
    "    MOSTREADBOOKS_10: \"**\",\n",
    "    MOSTREADBOOKS_11: \"**\",\n",
    "    MOSTREADBOOKS_12: \"**\",\n",
    "    MOSTREADBOOKS_13: \"**\",\n",
    "    MOSTREADBOOKS_14: \"**\",\n",
    "    MOSTREADBOOKS_15: \"**\",\n",
    "    MOSTREADBOOKS_16: \"**\",\n",
    "    MOSTREADBOOKS_17: \"**\",\n",
    "    MOSTREADBOOKS_18: \"**\",\n",
    "    MOSTREADBOOKS_19: \"**\",\n",
    "    MOSTREADBOOKS_20: \"**\",\n",
    "    MOSTREADBOOKS_21: \"**\",\n",
    "    MOSTREADBOOKS_22: \"**\",\n",
    "    MOSTREADBOOKS_23: \"**\",\n",
    "    MOSTREADBOOKS_24: \"**\",\n",
    "    MOSTREADBOOKS_25: \"**\",\n",
    "    MOSTREADBOOKS_26: \"**\",\n",
    "    MOSTREADBOOKS_27: \"**\",\n",
    "    MOSTREADBOOKS_28: \"**\",\n",
    "    MOSTREADBOOKS_29: \"**\",\n",
    "    MOSTREADBOOKS_30: \"**\",\n",
    "    MOSTREADBOOKS_31: \"**\",\n",
    "    MOSTWATCHEDMOVIES_1: \"**\",\n",
    "    MOSTWATCHEDMOVIES_2: \"**\",\n",
    "    MOSTWATCHEDMOVIES_3: \"**\",\n",
    "    MOSTWATCHEDMOVIES_4: \"**\",\n",
    "    MOSTWATCHEDMOVIES_5: \"**\",\n",
    "    MOSTWATCHEDMOVIES_6: \"**\",\n",
    "    MOSTWATCHEDMOVIES_7: \"**\",\n",
    "    MOSTWATCHEDMOVIES_8: \"**\",\n",
    "    MOSTWATCHEDMOVIES_9: \"**\",\n",
    "    MOSTWATCHEDMOVIES_10: \"**\",\n",
    "    MOSTWATCHEDMOVIES_11: \"**\",\n",
    "    MOSTWATCHEDMOVIES_12: \"**\",\n",
    "    MOSTWATCHEDMOVIES_13: \"**\",\n",
    "    MOSTWATCHEDMOVIES_14: \"**\",\n",
    "    MOSTWATCHEDMOVIES_15: \"**\",\n",
    "    MOSTWATCHEDMOVIES_16: \"**\",\n",
    "    MOSTWATCHEDMOVIES_17: \"**\",\n",
    "    MOSTWATCHEDMOVIES_18: \"**\",\n",
    "    MOSTWATCHEDMOVIES_19: \"**\",\n",
    "    MOSTWATCHEDMOVIES_20: \"**\",\n",
    "    MOSTWATCHEDMOVIES_21: \"**\",\n",
    "    MOSTWATCHEDTVPROGRAMMES_1: \"**\",\n",
    "    MOSTWATCHEDTVPROGRAMMES_2: \"**\",\n",
    "    MOSTWATCHEDTVPROGRAMMES_3: \"**\",\n",
    "    MOSTWATCHEDTVPROGRAMMES_4: \"**\",\n",
    "    MOSTWATCHEDTVPROGRAMMES_5: \"**\",\n",
    "    MOSTWATCHEDTVPROGRAMMES_6: \"**\",\n",
    "    MOSTWATCHEDTVPROGRAMMES_7: \"**\",\n",
    "    MOSTWATCHEDTVPROGRAMMES_8: \"**\",\n",
    "    MOSTWATCHEDTVPROGRAMMES_9: \"**\",\n",
    "    MOSTWATCHEDTVPROGRAMMES_10: \"**\",\n",
    "    MOSTWATCHEDTVPROGRAMMES_11: \"**\",    \n",
    "    RATING: \"**\",\n",
    "    AD_NUM_FACES: \"**\",\n",
    "    FAV: \"**\",\n",
    "    UNFAV: \"**\"\n",
    "}\n",
    "\n",
    "\n",
    "AD_FACE_COLS = [AD_NUM_FACES]\n",
    "AD_LABEL_COLS = [AD_LABEL_FEATURE_1,AD_LABEL_FEATURE_2,AD_LABEL_FEATURE_3,AD_LABEL_FEATURE_4,AD_LABEL_FEATURE_5,\n",
    "                AD_LABEL_FEATURE_6,AD_LABEL_FEATURE_7,AD_LABEL_FEATURE_8,AD_LABEL_FEATURE_9,AD_LABEL_FEATURE_10,\n",
    "                AD_LABEL_FEATURE_11,AD_LABEL_FEATURE_12,AD_LABEL_FEATURE_13,AD_LABEL_FEATURE_14,AD_LABEL_FEATURE_15,\n",
    "                AD_LABEL_FEATURE_16,AD_LABEL_FEATURE_17,AD_LABEL_FEATURE_18,AD_LABEL_FEATURE_19,AD_LABEL_FEATURE_20,\n",
    "                AD_LABEL_FEATURE_21,AD_LABEL_FEATURE_22,AD_LABEL_FEATURE_23,AD_LABEL_FEATURE_24,AD_LABEL_FEATURE_25]\n",
    "\n",
    "AD_OBJECT_COLS = [AD_OBJECT_FEATURE_1,AD_OBJECT_FEATURE_2,AD_OBJECT_FEATURE_3,AD_OBJECT_FEATURE_4,AD_OBJECT_FEATURE_5,\n",
    "                AD_OBJECT_FEATURE_6,AD_OBJECT_FEATURE_7,AD_OBJECT_FEATURE_8,AD_OBJECT_FEATURE_9,AD_OBJECT_FEATURE_10,\n",
    "                AD_OBJECT_FEATURE_11,AD_OBJECT_FEATURE_12,AD_OBJECT_FEATURE_13,AD_OBJECT_FEATURE_14,AD_OBJECT_FEATURE_15,\n",
    "                AD_OBJECT_FEATURE_16,AD_OBJECT_FEATURE_17,AD_OBJECT_FEATURE_18,AD_OBJECT_FEATURE_19,AD_OBJECT_FEATURE_20,\n",
    "                AD_OBJECT_FEATURE_21,AD_OBJECT_FEATURE_22,AD_OBJECT_FEATURE_23,AD_OBJECT_FEATURE_24]\n",
    "\n",
    "\n",
    "AD_SAFE_SEARCH_COLS = [AD_SAFESEARCH_FEATURE_1,AD_SAFESEARCH_FEATURE_2,AD_SAFESEARCH_FEATURE_3,AD_SAFESEARCH_FEATURE_4,\n",
    "                      AD_SAFESEARCH_FEATURE_5,AD_SAFESEARCH_FEATURE_6,AD_SAFESEARCH_FEATURE_7,AD_SAFESEARCH_FEATURE_8,\n",
    "                      AD_SAFESEARCH_FEATURE_9,AD_SAFESEARCH_FEATURE_10,AD_SAFESEARCH_FEATURE_11,AD_SAFESEARCH_FEATURE_12,AD_SAFESEARCH_FEATURE_13]\n",
    "\n",
    "\n",
    "SELECTED_AD_COLS = AD_FACE_COLS  + AD_LABEL_COLS + AD_OBJECT_COLS + AD_SAFE_SEARCH_COLS\n",
    "\n",
    "SELECTED_HOMECOUNTRY_COLS = [HOMECOUNTRY_CANADA, HOMECOUNTRY_CZECHREPUBLIC, HOMECOUNTRY_GREATBRITAIN,\n",
    "                             HOMECOUNTRY_INDIA, HOMECOUNTRY_ITALY, HOMECOUNTRY_PHILLIPINES, HOMECOUNTRY_ROMANIA,\n",
    "                             HOMECOUNTRY_SAUDIARABIA, HOMECOUNTRY_SINGAPORE, HOMECOUNTRY_SLOVENIA,\n",
    "                             HOMECOUNTRY_UNITEDKINGDOM, HOMECOUNTRY_UNITEDSTATESOFAMERICA]\n",
    "\n",
    "SELECTED_INCOME_COLS = [INCOME_0, INCOME_1, INCOME_2, INCOME_3]\n",
    "\n",
    "SELECTED_MOSTLISTENEDMUSICS_COLS = [MOSTLISTENEDMUSICS_1, MOSTLISTENEDMUSICS_2, MOSTLISTENEDMUSICS_3,\n",
    "                                    MOSTLISTENEDMUSICS_4, MOSTLISTENEDMUSICS_5, MOSTLISTENEDMUSICS_6,\n",
    "                                    MOSTLISTENEDMUSICS_7, MOSTLISTENEDMUSICS_8, MOSTLISTENEDMUSICS_9,\n",
    "                                    MOSTLISTENEDMUSICS_10, MOSTLISTENEDMUSICS_11, MOSTLISTENEDMUSICS_12,\n",
    "                                    MOSTLISTENEDMUSICS_13, MOSTLISTENEDMUSICS_14, MOSTLISTENEDMUSICS_15,\n",
    "                                    MOSTLISTENEDMUSICS_16, MOSTLISTENEDMUSICS_17, MOSTLISTENEDMUSICS_18,\n",
    "                                    MOSTLISTENEDMUSICS_19, MOSTLISTENEDMUSICS_20, MOSTLISTENEDMUSICS_21,\n",
    "                                    MOSTLISTENEDMUSICS_22]\n",
    "\n",
    "SELECTED_MOSTREADBOOKS_COLS = [MOSTREADBOOKS_1, MOSTREADBOOKS_2, MOSTREADBOOKS_3, MOSTREADBOOKS_4,\n",
    "                               MOSTREADBOOKS_5, MOSTREADBOOKS_6, MOSTREADBOOKS_7, MOSTREADBOOKS_8,\n",
    "                               MOSTREADBOOKS_9, MOSTREADBOOKS_10, MOSTREADBOOKS_11, MOSTREADBOOKS_12,\n",
    "                               MOSTREADBOOKS_13, MOSTREADBOOKS_14, MOSTREADBOOKS_15, MOSTREADBOOKS_16,\n",
    "                               MOSTREADBOOKS_17, MOSTREADBOOKS_18, MOSTREADBOOKS_19, MOSTREADBOOKS_20,\n",
    "                               MOSTREADBOOKS_21, MOSTREADBOOKS_22, MOSTREADBOOKS_23, MOSTREADBOOKS_24,\n",
    "                               MOSTREADBOOKS_25, MOSTREADBOOKS_26, MOSTREADBOOKS_27, MOSTREADBOOKS_28,\n",
    "                               MOSTREADBOOKS_29, MOSTREADBOOKS_30, MOSTREADBOOKS_31] \n",
    "\n",
    "SELECTED_MOSTWATCHEDMOVIES_COLS = [MOSTWATCHEDMOVIES_1, MOSTWATCHEDMOVIES_2, MOSTWATCHEDMOVIES_3,\n",
    "                                   MOSTWATCHEDMOVIES_4, MOSTWATCHEDMOVIES_5, MOSTWATCHEDMOVIES_6,\n",
    "                                   MOSTWATCHEDMOVIES_7, MOSTWATCHEDMOVIES_8, MOSTWATCHEDMOVIES_9,\n",
    "                                   MOSTWATCHEDMOVIES_10, MOSTWATCHEDMOVIES_11, MOSTWATCHEDMOVIES_12,\n",
    "                                   MOSTWATCHEDMOVIES_13, MOSTWATCHEDMOVIES_14, MOSTWATCHEDMOVIES_15,\n",
    "                                   MOSTWATCHEDMOVIES_16, MOSTWATCHEDMOVIES_17, MOSTWATCHEDMOVIES_18,\n",
    "                                   MOSTWATCHEDMOVIES_19, MOSTWATCHEDMOVIES_20, MOSTWATCHEDMOVIES_21]\n",
    "\n",
    "SELECTED_MOSTWATCHEDTVPROGRAMMES_COLS = [MOSTWATCHEDTVPROGRAMMES_1, MOSTWATCHEDTVPROGRAMMES_2,\n",
    "                                         MOSTWATCHEDTVPROGRAMMES_3, MOSTWATCHEDTVPROGRAMMES_4,\n",
    "                                         MOSTWATCHEDTVPROGRAMMES_5, MOSTWATCHEDTVPROGRAMMES_6,\n",
    "                                         MOSTWATCHEDTVPROGRAMMES_7, MOSTWATCHEDTVPROGRAMMES_8,\n",
    "                                         MOSTWATCHEDTVPROGRAMMES_9, MOSTWATCHEDTVPROGRAMMES_10,\n",
    "                                         MOSTWATCHEDTVPROGRAMMES_11]\n",
    "                                   \n",
    "SELECTED_INP_COLS = [AGE, ZIP_CODE, FAVE_SPORTS, GENDER_F, GENDER_M] +\\\n",
    "                    SELECTED_AD_COLS +\\\n",
    "                    SELECTED_HOMECOUNTRY_COLS +\\\n",
    "                    SELECTED_INCOME_COLS +\\\n",
    "                    SELECTED_MOSTLISTENEDMUSICS_COLS +\\\n",
    "                    SELECTED_MOSTREADBOOKS_COLS +\\\n",
    "                    SELECTED_MOSTWATCHEDMOVIES_COLS +\\\n",
    "                    SELECTED_MOSTWATCHEDTVPROGRAMMES_COLS\n",
    "\n",
    "EMBED_COLS = [FAV, UNFAV]\n",
    "\n",
    "SELECTED_COLS = SELECTED_INP_COLS + [TARGET_COL]\n",
    "\n",
    "print(SELECTED_COLS)"
   ]
  },
  {
   "cell_type": "markdown",
   "metadata": {},
   "source": [
    "### Fairness - Preprocess mitigation plan : Reweighing"
   ]
  },
  {
   "cell_type": "code",
   "execution_count": null,
   "metadata": {},
   "outputs": [],
   "source": [
    "def reweigh_biased_cols(bias_cols,df):\n",
    "   \n",
    "    X = df[bias_cols]\n",
    "    y = df[[RATING]]\n",
    "    \n",
    "    # Assumtion for each column (except AGE) value 1 : privilaged , value 0 : non-privilaged\n",
    "    priv_cols = []\n",
    "    \n",
    "    for col in bias_cols: \n",
    "        if col == AGE:\n",
    "            X[AGE] = pd.to_numeric(X[AGE])\n",
    "            bucket_boundaries = [0, 20, 40, 100] # refer pandas.cut() for syntax on binning\n",
    "            X[\"Age_bucket\"] = pd.cut(X[AGE], bins=bucket_boundaries, labels=[\"young\", \"middle-age\", \"old\"])\n",
    "            X['privilaged_age_bucket'] = 0.0\n",
    "            #considering young and old as privilaged group\n",
    "            X.loc[X['Age_bucket'] != \"young\", 'privilaged_age_bucket'] = 1.0 \n",
    "            priv_cols.append('privilaged_age_bucket')\n",
    "        elif col == GENDER_F:\n",
    "            X[col] = pd.to_numeric(X[col])\n",
    "            priv_cols.append(col)  \n",
    "        else:\n",
    "            raise NotImplementedError(f\"Don't know how to reweigh {col}\")\n",
    "    \n",
    "    y[RATING] = pd.to_numeric(y[RATING])\n",
    "    y.loc[y[RATING] != 1.0, RATING] = 2.0\n",
    "    y[RATING] = y[RATING] - 1.0\n",
    "    \n",
    "    X = X[priv_cols]\n",
    "    \n",
    "    train_pp_bld = BinaryLabelDataset(df=pd.concat((X, y),axis=1),\n",
    "                                      label_names=[RATING],\n",
    "                                      protected_attribute_names=priv_cols,\n",
    "                                      favorable_label=1.0,\n",
    "                                      unfavorable_label=0.0)\n",
    "    \n",
    "    privileged_dict = {}\n",
    "    unprivileged_dict = {}\n",
    "    for col in priv_cols:\n",
    "        privileged_dict[col] = 1\n",
    "        unprivileged_dict[col] = 0\n",
    "    \n",
    "    privileged_groups = [privileged_dict]\n",
    "    unprivileged_groups = [unprivileged_dict]\n",
    "    \n",
    "    \n",
    "    # Create the metric object\n",
    "    metric_train_bld = BinaryLabelDatasetMetric(train_pp_bld,\n",
    "                                            unprivileged_groups=unprivileged_groups,\n",
    "                                            privileged_groups=privileged_groups)\n",
    "    \n",
    "    \n",
    "    rw = Reweighing(unprivileged_groups=unprivileged_groups, privileged_groups=privileged_groups)\n",
    "    train_pp_bld_f = rw.fit_transform(train_pp_bld)\n",
    "    \n",
    "    #df[\"fairness_privilage_weight\"] = train_pp_bld_f.instance_weights\n",
    "    #df[\"fairness_privilage_weight\"] = df[\"fairness_privilage_weight\"].astype(str)\n",
    "    \n",
    "    return train_pp_bld_f.instance_weights"
   ]
  },
  {
   "cell_type": "markdown",
   "metadata": {},
   "source": [
    "### Load dataset"
   ]
  },
  {
   "cell_type": "code",
   "execution_count": null,
   "metadata": {},
   "outputs": [],
   "source": [
    "def ad_dataset_pd(usecols:List[str]=None, **read_csv_kwargs):\n",
    "    \"\"\"\n",
    "    Read from csv files given set of columns into Pandas Dataframe\n",
    "    \"\"\"\n",
    "    return pd.read_csv(users_ads_rating_csv, usecols=usecols, dtype=str, **read_csv_kwargs)"
   ]
  },
  {
   "cell_type": "code",
   "execution_count": null,
   "metadata": {
    "scrolled": true
   },
   "outputs": [
    {
     "data": {
      "text/html": [
       "<div>\n",
       "<style scoped>\n",
       "    .dataframe tbody tr th:only-of-type {\n",
       "        vertical-align: middle;\n",
       "    }\n",
       "\n",
       "    .dataframe tbody tr th {\n",
       "        vertical-align: top;\n",
       "    }\n",
       "\n",
       "    .dataframe thead th {\n",
       "        text-align: right;\n",
       "    }\n",
       "</style>\n",
       "<table border=\"1\" class=\"dataframe\">\n",
       "  <thead>\n",
       "    <tr style=\"text-align: right;\">\n",
       "      <th></th>\n",
       "      <th>22803</th>\n",
       "      <th>322</th>\n",
       "      <th>12507</th>\n",
       "      <th>35070</th>\n",
       "      <th>26321</th>\n",
       "    </tr>\n",
       "  </thead>\n",
       "  <tbody>\n",
       "    <tr>\n",
       "      <th>Age</th>\n",
       "      <td>30</td>\n",
       "      <td>26</td>\n",
       "      <td>36</td>\n",
       "      <td>55</td>\n",
       "      <td>26</td>\n",
       "    </tr>\n",
       "    <tr>\n",
       "      <th>CapZipCode</th>\n",
       "      <td>EH45 8QR</td>\n",
       "      <td>60638</td>\n",
       "      <td>40218</td>\n",
       "      <td>90706</td>\n",
       "      <td>422101</td>\n",
       "    </tr>\n",
       "    <tr>\n",
       "      <th>FaveSports</th>\n",
       "      <td>I do not like Sports</td>\n",
       "      <td>Nothing</td>\n",
       "      <td>Individual sports‎ (Tennis, Archery, ...), End...</td>\n",
       "      <td>Olympic sports‎, Equestrian sports‎, Motor spo...</td>\n",
       "      <td>Individual sports‎ (Tennis, Archery, ...), Ind...</td>\n",
       "    </tr>\n",
       "    <tr>\n",
       "      <th>Rating</th>\n",
       "      <td>3.0</td>\n",
       "      <td>1.0</td>\n",
       "      <td>1.0</td>\n",
       "      <td>3.0</td>\n",
       "      <td>2.0</td>\n",
       "    </tr>\n",
       "    <tr>\n",
       "      <th>Gender_F</th>\n",
       "      <td>1</td>\n",
       "      <td>1</td>\n",
       "      <td>1</td>\n",
       "      <td>1</td>\n",
       "      <td>1</td>\n",
       "    </tr>\n",
       "    <tr>\n",
       "      <th>Gender_M</th>\n",
       "      <td>0</td>\n",
       "      <td>0</td>\n",
       "      <td>0</td>\n",
       "      <td>0</td>\n",
       "      <td>0</td>\n",
       "    </tr>\n",
       "    <tr>\n",
       "      <th>Homecountry_Canada</th>\n",
       "      <td>0</td>\n",
       "      <td>0</td>\n",
       "      <td>0</td>\n",
       "      <td>0</td>\n",
       "      <td>0</td>\n",
       "    </tr>\n",
       "    <tr>\n",
       "      <th>Homecountry_CzechRepublic</th>\n",
       "      <td>0</td>\n",
       "      <td>0</td>\n",
       "      <td>0</td>\n",
       "      <td>0</td>\n",
       "      <td>0</td>\n",
       "    </tr>\n",
       "    <tr>\n",
       "      <th>Homecountry_GreatBritain</th>\n",
       "      <td>0</td>\n",
       "      <td>0</td>\n",
       "      <td>0</td>\n",
       "      <td>0</td>\n",
       "      <td>0</td>\n",
       "    </tr>\n",
       "    <tr>\n",
       "      <th>Homecountry_India</th>\n",
       "      <td>0</td>\n",
       "      <td>0</td>\n",
       "      <td>0</td>\n",
       "      <td>0</td>\n",
       "      <td>1</td>\n",
       "    </tr>\n",
       "    <tr>\n",
       "      <th>Homecountry_Italy</th>\n",
       "      <td>0</td>\n",
       "      <td>0</td>\n",
       "      <td>0</td>\n",
       "      <td>0</td>\n",
       "      <td>0</td>\n",
       "    </tr>\n",
       "    <tr>\n",
       "      <th>Homecountry_Phillipines</th>\n",
       "      <td>0</td>\n",
       "      <td>0</td>\n",
       "      <td>0</td>\n",
       "      <td>0</td>\n",
       "      <td>0</td>\n",
       "    </tr>\n",
       "    <tr>\n",
       "      <th>Homecountry_Romania</th>\n",
       "      <td>0</td>\n",
       "      <td>0</td>\n",
       "      <td>0</td>\n",
       "      <td>0</td>\n",
       "      <td>0</td>\n",
       "    </tr>\n",
       "    <tr>\n",
       "      <th>Homecountry_SaudiArabia</th>\n",
       "      <td>0</td>\n",
       "      <td>0</td>\n",
       "      <td>0</td>\n",
       "      <td>0</td>\n",
       "      <td>0</td>\n",
       "    </tr>\n",
       "    <tr>\n",
       "      <th>Homecountry_Singapore</th>\n",
       "      <td>0</td>\n",
       "      <td>0</td>\n",
       "      <td>0</td>\n",
       "      <td>0</td>\n",
       "      <td>0</td>\n",
       "    </tr>\n",
       "    <tr>\n",
       "      <th>Homecountry_Slovenia</th>\n",
       "      <td>0</td>\n",
       "      <td>0</td>\n",
       "      <td>0</td>\n",
       "      <td>0</td>\n",
       "      <td>0</td>\n",
       "    </tr>\n",
       "    <tr>\n",
       "      <th>Homecountry_UnitedKingdom</th>\n",
       "      <td>1</td>\n",
       "      <td>0</td>\n",
       "      <td>0</td>\n",
       "      <td>0</td>\n",
       "      <td>0</td>\n",
       "    </tr>\n",
       "    <tr>\n",
       "      <th>Homecountry_UnitedStatesofAmerica</th>\n",
       "      <td>0</td>\n",
       "      <td>1</td>\n",
       "      <td>1</td>\n",
       "      <td>1</td>\n",
       "      <td>0</td>\n",
       "    </tr>\n",
       "    <tr>\n",
       "      <th>Income_0</th>\n",
       "      <td>0</td>\n",
       "      <td>0</td>\n",
       "      <td>0</td>\n",
       "      <td>0</td>\n",
       "      <td>1</td>\n",
       "    </tr>\n",
       "    <tr>\n",
       "      <th>Income_1</th>\n",
       "      <td>1</td>\n",
       "      <td>1</td>\n",
       "      <td>0</td>\n",
       "      <td>0</td>\n",
       "      <td>0</td>\n",
       "    </tr>\n",
       "    <tr>\n",
       "      <th>Income_2</th>\n",
       "      <td>0</td>\n",
       "      <td>0</td>\n",
       "      <td>1</td>\n",
       "      <td>1</td>\n",
       "      <td>0</td>\n",
       "    </tr>\n",
       "    <tr>\n",
       "      <th>Income_3</th>\n",
       "      <td>0</td>\n",
       "      <td>0</td>\n",
       "      <td>0</td>\n",
       "      <td>0</td>\n",
       "      <td>0</td>\n",
       "    </tr>\n",
       "    <tr>\n",
       "      <th>AlternativeMusic</th>\n",
       "      <td>0</td>\n",
       "      <td>0</td>\n",
       "      <td>0</td>\n",
       "      <td>0</td>\n",
       "      <td>0</td>\n",
       "    </tr>\n",
       "    <tr>\n",
       "      <th>AsianPopJPoporKpop</th>\n",
       "      <td>0</td>\n",
       "      <td>0</td>\n",
       "      <td>0</td>\n",
       "      <td>0</td>\n",
       "      <td>0</td>\n",
       "    </tr>\n",
       "    <tr>\n",
       "      <th>Blues</th>\n",
       "      <td>0</td>\n",
       "      <td>0</td>\n",
       "      <td>0</td>\n",
       "      <td>0</td>\n",
       "      <td>1</td>\n",
       "    </tr>\n",
       "    <tr>\n",
       "      <th>ClassicalMusic</th>\n",
       "      <td>0</td>\n",
       "      <td>0</td>\n",
       "      <td>0</td>\n",
       "      <td>0</td>\n",
       "      <td>0</td>\n",
       "    </tr>\n",
       "    <tr>\n",
       "      <th>CountryMusic</th>\n",
       "      <td>0</td>\n",
       "      <td>0</td>\n",
       "      <td>1</td>\n",
       "      <td>0</td>\n",
       "      <td>0</td>\n",
       "    </tr>\n",
       "    <tr>\n",
       "      <th>DanceMusic</th>\n",
       "      <td>0</td>\n",
       "      <td>1</td>\n",
       "      <td>0</td>\n",
       "      <td>0</td>\n",
       "      <td>0</td>\n",
       "    </tr>\n",
       "    <tr>\n",
       "      <th>EasyListening</th>\n",
       "      <td>0</td>\n",
       "      <td>0</td>\n",
       "      <td>0</td>\n",
       "      <td>0</td>\n",
       "      <td>0</td>\n",
       "    </tr>\n",
       "    <tr>\n",
       "      <th>ElectronicMusic</th>\n",
       "      <td>0</td>\n",
       "      <td>1</td>\n",
       "      <td>0</td>\n",
       "      <td>0</td>\n",
       "      <td>0</td>\n",
       "    </tr>\n",
       "    <tr>\n",
       "      <th>EuropeanMusicFolkPop</th>\n",
       "      <td>1</td>\n",
       "      <td>0</td>\n",
       "      <td>0</td>\n",
       "      <td>0</td>\n",
       "      <td>0</td>\n",
       "    </tr>\n",
       "    <tr>\n",
       "      <th>HipHopRap</th>\n",
       "      <td>0</td>\n",
       "      <td>0</td>\n",
       "      <td>0</td>\n",
       "      <td>1</td>\n",
       "      <td>1</td>\n",
       "    </tr>\n",
       "    <tr>\n",
       "      <th>IndiePop</th>\n",
       "      <td>0</td>\n",
       "      <td>1</td>\n",
       "      <td>0</td>\n",
       "      <td>0</td>\n",
       "      <td>0</td>\n",
       "    </tr>\n",
       "    <tr>\n",
       "      <th>InspirationalinclGospel</th>\n",
       "      <td>0</td>\n",
       "      <td>0</td>\n",
       "      <td>0</td>\n",
       "      <td>0</td>\n",
       "      <td>0</td>\n",
       "    </tr>\n",
       "    <tr>\n",
       "      <th>Jazz</th>\n",
       "      <td>0</td>\n",
       "      <td>0</td>\n",
       "      <td>0</td>\n",
       "      <td>0</td>\n",
       "      <td>0</td>\n",
       "    </tr>\n",
       "    <tr>\n",
       "      <th>LatinMusic</th>\n",
       "      <td>0</td>\n",
       "      <td>0</td>\n",
       "      <td>0</td>\n",
       "      <td>0</td>\n",
       "      <td>0</td>\n",
       "    </tr>\n",
       "    <tr>\n",
       "      <th>NewAge</th>\n",
       "      <td>0</td>\n",
       "      <td>0</td>\n",
       "      <td>0</td>\n",
       "      <td>0</td>\n",
       "      <td>0</td>\n",
       "    </tr>\n",
       "    <tr>\n",
       "      <th>Opera</th>\n",
       "      <td>0</td>\n",
       "      <td>0</td>\n",
       "      <td>0</td>\n",
       "      <td>0</td>\n",
       "      <td>0</td>\n",
       "    </tr>\n",
       "    <tr>\n",
       "      <th>PopPopularmusic</th>\n",
       "      <td>0</td>\n",
       "      <td>1</td>\n",
       "      <td>0</td>\n",
       "      <td>1</td>\n",
       "      <td>0</td>\n",
       "    </tr>\n",
       "    <tr>\n",
       "      <th>RampBSoul</th>\n",
       "      <td>0</td>\n",
       "      <td>0</td>\n",
       "      <td>0</td>\n",
       "      <td>1</td>\n",
       "      <td>0</td>\n",
       "    </tr>\n",
       "    <tr>\n",
       "      <th>Reggae</th>\n",
       "      <td>0</td>\n",
       "      <td>0</td>\n",
       "      <td>0</td>\n",
       "      <td>0</td>\n",
       "      <td>1</td>\n",
       "    </tr>\n",
       "    <tr>\n",
       "      <th>Rock</th>\n",
       "      <td>0</td>\n",
       "      <td>1</td>\n",
       "      <td>0</td>\n",
       "      <td>0</td>\n",
       "      <td>0</td>\n",
       "    </tr>\n",
       "    <tr>\n",
       "      <th>SingerSongwriterincFolk</th>\n",
       "      <td>0</td>\n",
       "      <td>0</td>\n",
       "      <td>0</td>\n",
       "      <td>0</td>\n",
       "      <td>0</td>\n",
       "    </tr>\n",
       "    <tr>\n",
       "      <th>WorldMusicBeats</th>\n",
       "      <td>0</td>\n",
       "      <td>0</td>\n",
       "      <td>0</td>\n",
       "      <td>0</td>\n",
       "      <td>0</td>\n",
       "    </tr>\n",
       "    <tr>\n",
       "      <th>ActionandAdventure</th>\n",
       "      <td>0</td>\n",
       "      <td>0</td>\n",
       "      <td>0</td>\n",
       "      <td>0</td>\n",
       "      <td>0</td>\n",
       "    </tr>\n",
       "    <tr>\n",
       "      <th>Anthologies</th>\n",
       "      <td>0</td>\n",
       "      <td>0</td>\n",
       "      <td>0</td>\n",
       "      <td>0</td>\n",
       "      <td>0</td>\n",
       "    </tr>\n",
       "    <tr>\n",
       "      <th>Art</th>\n",
       "      <td>0</td>\n",
       "      <td>0</td>\n",
       "      <td>0</td>\n",
       "      <td>0</td>\n",
       "      <td>0</td>\n",
       "    </tr>\n",
       "    <tr>\n",
       "      <th>Autobiographies</th>\n",
       "      <td>0</td>\n",
       "      <td>0</td>\n",
       "      <td>0</td>\n",
       "      <td>0</td>\n",
       "      <td>0</td>\n",
       "    </tr>\n",
       "    <tr>\n",
       "      <th>Biographies</th>\n",
       "      <td>0</td>\n",
       "      <td>0</td>\n",
       "      <td>0</td>\n",
       "      <td>0</td>\n",
       "      <td>0</td>\n",
       "    </tr>\n",
       "    <tr>\n",
       "      <th>Childrens</th>\n",
       "      <td>0</td>\n",
       "      <td>0</td>\n",
       "      <td>0</td>\n",
       "      <td>0</td>\n",
       "      <td>0</td>\n",
       "    </tr>\n",
       "    <tr>\n",
       "      <th>Childrensliterature</th>\n",
       "      <td>0</td>\n",
       "      <td>0</td>\n",
       "      <td>0</td>\n",
       "      <td>0</td>\n",
       "      <td>0</td>\n",
       "    </tr>\n",
       "    <tr>\n",
       "      <th>Comics</th>\n",
       "      <td>0</td>\n",
       "      <td>0</td>\n",
       "      <td>0</td>\n",
       "      <td>0</td>\n",
       "      <td>1</td>\n",
       "    </tr>\n",
       "    <tr>\n",
       "      <th>Cookbooks</th>\n",
       "      <td>0</td>\n",
       "      <td>0</td>\n",
       "      <td>0</td>\n",
       "      <td>0</td>\n",
       "      <td>1</td>\n",
       "    </tr>\n",
       "    <tr>\n",
       "      <th>Diaries</th>\n",
       "      <td>0</td>\n",
       "      <td>0</td>\n",
       "      <td>0</td>\n",
       "      <td>0</td>\n",
       "      <td>0</td>\n",
       "    </tr>\n",
       "    <tr>\n",
       "      <th>Drama</th>\n",
       "      <td>0</td>\n",
       "      <td>0</td>\n",
       "      <td>0</td>\n",
       "      <td>1</td>\n",
       "      <td>0</td>\n",
       "    </tr>\n",
       "    <tr>\n",
       "      <th>Encyclopedias</th>\n",
       "      <td>0</td>\n",
       "      <td>0</td>\n",
       "      <td>0</td>\n",
       "      <td>0</td>\n",
       "      <td>1</td>\n",
       "    </tr>\n",
       "    <tr>\n",
       "      <th>Eroticfiction</th>\n",
       "      <td>0</td>\n",
       "      <td>0</td>\n",
       "      <td>0</td>\n",
       "      <td>0</td>\n",
       "      <td>0</td>\n",
       "    </tr>\n",
       "    <tr>\n",
       "      <th>Fantasy</th>\n",
       "      <td>0</td>\n",
       "      <td>0</td>\n",
       "      <td>0</td>\n",
       "      <td>0</td>\n",
       "      <td>0</td>\n",
       "    </tr>\n",
       "    <tr>\n",
       "      <th>Guide</th>\n",
       "      <td>0</td>\n",
       "      <td>0</td>\n",
       "      <td>0</td>\n",
       "      <td>0</td>\n",
       "      <td>1</td>\n",
       "    </tr>\n",
       "    <tr>\n",
       "      <th>History</th>\n",
       "      <td>1</td>\n",
       "      <td>0</td>\n",
       "      <td>0</td>\n",
       "      <td>0</td>\n",
       "      <td>0</td>\n",
       "    </tr>\n",
       "    <tr>\n",
       "      <th>Horror</th>\n",
       "      <td>0</td>\n",
       "      <td>0</td>\n",
       "      <td>0</td>\n",
       "      <td>0</td>\n",
       "      <td>0</td>\n",
       "    </tr>\n",
       "    <tr>\n",
       "      <th>Journals</th>\n",
       "      <td>0</td>\n",
       "      <td>0</td>\n",
       "      <td>0</td>\n",
       "      <td>0</td>\n",
       "      <td>0</td>\n",
       "    </tr>\n",
       "    <tr>\n",
       "      <th>Math</th>\n",
       "      <td>0</td>\n",
       "      <td>0</td>\n",
       "      <td>0</td>\n",
       "      <td>0</td>\n",
       "      <td>0</td>\n",
       "    </tr>\n",
       "    <tr>\n",
       "      <th>Mystery</th>\n",
       "      <td>0</td>\n",
       "      <td>1</td>\n",
       "      <td>0</td>\n",
       "      <td>1</td>\n",
       "      <td>0</td>\n",
       "    </tr>\n",
       "    <tr>\n",
       "      <th>Poetry</th>\n",
       "      <td>0</td>\n",
       "      <td>0</td>\n",
       "      <td>0</td>\n",
       "      <td>0</td>\n",
       "      <td>0</td>\n",
       "    </tr>\n",
       "    <tr>\n",
       "      <th>Prayerbooks</th>\n",
       "      <td>0</td>\n",
       "      <td>0</td>\n",
       "      <td>0</td>\n",
       "      <td>0</td>\n",
       "      <td>0</td>\n",
       "    </tr>\n",
       "    <tr>\n",
       "      <th>Religious</th>\n",
       "      <td>0</td>\n",
       "      <td>0</td>\n",
       "      <td>0</td>\n",
       "      <td>0</td>\n",
       "      <td>0</td>\n",
       "    </tr>\n",
       "    <tr>\n",
       "      <th>Romance</th>\n",
       "      <td>0</td>\n",
       "      <td>1</td>\n",
       "      <td>1</td>\n",
       "      <td>1</td>\n",
       "      <td>0</td>\n",
       "    </tr>\n",
       "    <tr>\n",
       "      <th>Satire</th>\n",
       "      <td>0</td>\n",
       "      <td>0</td>\n",
       "      <td>0</td>\n",
       "      <td>0</td>\n",
       "      <td>0</td>\n",
       "    </tr>\n",
       "    <tr>\n",
       "      <th>Science</th>\n",
       "      <td>0</td>\n",
       "      <td>1</td>\n",
       "      <td>0</td>\n",
       "      <td>0</td>\n",
       "      <td>0</td>\n",
       "    </tr>\n",
       "    <tr>\n",
       "      <th>Sciencefiction</th>\n",
       "      <td>0</td>\n",
       "      <td>1</td>\n",
       "      <td>0</td>\n",
       "      <td>0</td>\n",
       "      <td>1</td>\n",
       "    </tr>\n",
       "    <tr>\n",
       "      <th>Selfhelp</th>\n",
       "      <td>0</td>\n",
       "      <td>0</td>\n",
       "      <td>0</td>\n",
       "      <td>0</td>\n",
       "      <td>0</td>\n",
       "    </tr>\n",
       "    <tr>\n",
       "      <th>Series</th>\n",
       "      <td>0</td>\n",
       "      <td>0</td>\n",
       "      <td>0</td>\n",
       "      <td>0</td>\n",
       "      <td>0</td>\n",
       "    </tr>\n",
       "    <tr>\n",
       "      <th>Travel</th>\n",
       "      <td>0</td>\n",
       "      <td>0</td>\n",
       "      <td>0</td>\n",
       "      <td>0</td>\n",
       "      <td>0</td>\n",
       "    </tr>\n",
       "    <tr>\n",
       "      <th>Trilogies</th>\n",
       "      <td>0</td>\n",
       "      <td>0</td>\n",
       "      <td>0</td>\n",
       "      <td>0</td>\n",
       "      <td>0</td>\n",
       "    </tr>\n",
       "    <tr>\n",
       "      <th>ad_isAdvertising</th>\n",
       "      <td>0</td>\n",
       "      <td>0</td>\n",
       "      <td>0</td>\n",
       "      <td>0</td>\n",
       "      <td>0</td>\n",
       "    </tr>\n",
       "    <tr>\n",
       "      <th>ad_isBrand</th>\n",
       "      <td>0</td>\n",
       "      <td>0</td>\n",
       "      <td>0</td>\n",
       "      <td>0</td>\n",
       "      <td>0</td>\n",
       "    </tr>\n",
       "    <tr>\n",
       "      <th>ad_isElectronicdevice</th>\n",
       "      <td>0</td>\n",
       "      <td>1</td>\n",
       "      <td>0</td>\n",
       "      <td>0</td>\n",
       "      <td>0</td>\n",
       "    </tr>\n",
       "    <tr>\n",
       "      <th>ad_isElectronics</th>\n",
       "      <td>0</td>\n",
       "      <td>0</td>\n",
       "      <td>0</td>\n",
       "      <td>0</td>\n",
       "      <td>0</td>\n",
       "    </tr>\n",
       "    <tr>\n",
       "      <th>ad_isFashionaccessory</th>\n",
       "      <td>0</td>\n",
       "      <td>0</td>\n",
       "      <td>0</td>\n",
       "      <td>0</td>\n",
       "      <td>0</td>\n",
       "    </tr>\n",
       "    <tr>\n",
       "      <th>ad_isFictionalcharacter</th>\n",
       "      <td>0</td>\n",
       "      <td>0</td>\n",
       "      <td>0</td>\n",
       "      <td>0</td>\n",
       "      <td>0</td>\n",
       "    </tr>\n",
       "    <tr>\n",
       "      <th>ad_isFont</th>\n",
       "      <td>1</td>\n",
       "      <td>1</td>\n",
       "      <td>0</td>\n",
       "      <td>1</td>\n",
       "      <td>0</td>\n",
       "    </tr>\n",
       "    <tr>\n",
       "      <th>ad_isFurniture</th>\n",
       "      <td>0</td>\n",
       "      <td>0</td>\n",
       "      <td>0</td>\n",
       "      <td>0</td>\n",
       "      <td>0</td>\n",
       "    </tr>\n",
       "    <tr>\n",
       "      <th>ad_isGadget</th>\n",
       "      <td>0</td>\n",
       "      <td>0</td>\n",
       "      <td>0</td>\n",
       "      <td>0</td>\n",
       "      <td>0</td>\n",
       "    </tr>\n",
       "    <tr>\n",
       "      <th>ad_isGames</th>\n",
       "      <td>0</td>\n",
       "      <td>0</td>\n",
       "      <td>0</td>\n",
       "      <td>0</td>\n",
       "      <td>0</td>\n",
       "    </tr>\n",
       "    <tr>\n",
       "      <th>ad_isGraphicdesign</th>\n",
       "      <td>0</td>\n",
       "      <td>0</td>\n",
       "      <td>0</td>\n",
       "      <td>0</td>\n",
       "      <td>0</td>\n",
       "    </tr>\n",
       "    <tr>\n",
       "      <th>ad_isGraphics</th>\n",
       "      <td>0</td>\n",
       "      <td>0</td>\n",
       "      <td>0</td>\n",
       "      <td>0</td>\n",
       "      <td>0</td>\n",
       "    </tr>\n",
       "    <tr>\n",
       "      <th>ad_isJewellery</th>\n",
       "      <td>0</td>\n",
       "      <td>0</td>\n",
       "      <td>0</td>\n",
       "      <td>0</td>\n",
       "      <td>0</td>\n",
       "    </tr>\n",
       "    <tr>\n",
       "      <th>ad_isLine</th>\n",
       "      <td>1</td>\n",
       "      <td>0</td>\n",
       "      <td>0</td>\n",
       "      <td>1</td>\n",
       "      <td>0</td>\n",
       "    </tr>\n",
       "    <tr>\n",
       "      <th>ad_isLogo</th>\n",
       "      <td>0</td>\n",
       "      <td>0</td>\n",
       "      <td>0</td>\n",
       "      <td>0</td>\n",
       "      <td>0</td>\n",
       "    </tr>\n",
       "    <tr>\n",
       "      <th>ad_isMagenta</th>\n",
       "      <td>0</td>\n",
       "      <td>0</td>\n",
       "      <td>0</td>\n",
       "      <td>0</td>\n",
       "      <td>0</td>\n",
       "    </tr>\n",
       "    <tr>\n",
       "      <th>ad_isMaterialproperty</th>\n",
       "      <td>0</td>\n",
       "      <td>0</td>\n",
       "      <td>0</td>\n",
       "      <td>0</td>\n",
       "      <td>0</td>\n",
       "    </tr>\n",
       "    <tr>\n",
       "      <th>ad_isMultimedia</th>\n",
       "      <td>0</td>\n",
       "      <td>0</td>\n",
       "      <td>0</td>\n",
       "      <td>0</td>\n",
       "      <td>0</td>\n",
       "    </tr>\n",
       "    <tr>\n",
       "      <th>ad_isProduct</th>\n",
       "      <td>0</td>\n",
       "      <td>0</td>\n",
       "      <td>0</td>\n",
       "      <td>0</td>\n",
       "      <td>1</td>\n",
       "    </tr>\n",
       "    <tr>\n",
       "      <th>ad_isRectangle</th>\n",
       "      <td>0</td>\n",
       "      <td>0</td>\n",
       "      <td>0</td>\n",
       "      <td>0</td>\n",
       "      <td>0</td>\n",
       "    </tr>\n",
       "    <tr>\n",
       "      <th>ad_isSkin</th>\n",
       "      <td>0</td>\n",
       "      <td>0</td>\n",
       "      <td>0</td>\n",
       "      <td>0</td>\n",
       "      <td>0</td>\n",
       "    </tr>\n",
       "    <tr>\n",
       "      <th>ad_isTechnology</th>\n",
       "      <td>0</td>\n",
       "      <td>1</td>\n",
       "      <td>0</td>\n",
       "      <td>0</td>\n",
       "      <td>0</td>\n",
       "    </tr>\n",
       "    <tr>\n",
       "      <th>ad_isText</th>\n",
       "      <td>1</td>\n",
       "      <td>0</td>\n",
       "      <td>0</td>\n",
       "      <td>1</td>\n",
       "      <td>0</td>\n",
       "    </tr>\n",
       "    <tr>\n",
       "      <th>ad_isVehicle</th>\n",
       "      <td>0</td>\n",
       "      <td>0</td>\n",
       "      <td>0</td>\n",
       "      <td>0</td>\n",
       "      <td>0</td>\n",
       "    </tr>\n",
       "    <tr>\n",
       "      <th>ad_isYellow</th>\n",
       "      <td>0</td>\n",
       "      <td>0</td>\n",
       "      <td>0</td>\n",
       "      <td>0</td>\n",
       "      <td>0</td>\n",
       "    </tr>\n",
       "    <tr>\n",
       "      <th>ad_num_faces</th>\n",
       "      <td>0</td>\n",
       "      <td>0</td>\n",
       "      <td>0</td>\n",
       "      <td>0</td>\n",
       "      <td>0</td>\n",
       "    </tr>\n",
       "    <tr>\n",
       "      <th>ad_isAdult_UNLIKELY</th>\n",
       "      <td>0</td>\n",
       "      <td>0</td>\n",
       "      <td>0</td>\n",
       "      <td>0</td>\n",
       "      <td>0</td>\n",
       "    </tr>\n",
       "    <tr>\n",
       "      <th>ad_isAdult_VERY_UNLIKELY</th>\n",
       "      <td>1</td>\n",
       "      <td>1</td>\n",
       "      <td>1</td>\n",
       "      <td>1</td>\n",
       "      <td>1</td>\n",
       "    </tr>\n",
       "    <tr>\n",
       "      <th>ad_isSpoof_POSSIBLE</th>\n",
       "      <td>0</td>\n",
       "      <td>0</td>\n",
       "      <td>0</td>\n",
       "      <td>0</td>\n",
       "      <td>0</td>\n",
       "    </tr>\n",
       "    <tr>\n",
       "      <th>ad_isSpoof_UNLIKELY</th>\n",
       "      <td>0</td>\n",
       "      <td>1</td>\n",
       "      <td>1</td>\n",
       "      <td>0</td>\n",
       "      <td>0</td>\n",
       "    </tr>\n",
       "    <tr>\n",
       "      <th>ad_isSpoof_VERY_UNLIKELY</th>\n",
       "      <td>1</td>\n",
       "      <td>0</td>\n",
       "      <td>0</td>\n",
       "      <td>1</td>\n",
       "      <td>1</td>\n",
       "    </tr>\n",
       "    <tr>\n",
       "      <th>ad_isMedical_POSSIBLE</th>\n",
       "      <td>0</td>\n",
       "      <td>0</td>\n",
       "      <td>0</td>\n",
       "      <td>0</td>\n",
       "      <td>0</td>\n",
       "    </tr>\n",
       "    <tr>\n",
       "      <th>ad_isMedical_UNLIKELY</th>\n",
       "      <td>1</td>\n",
       "      <td>0</td>\n",
       "      <td>1</td>\n",
       "      <td>1</td>\n",
       "      <td>1</td>\n",
       "    </tr>\n",
       "    <tr>\n",
       "      <th>ad_isMedical_VERY_UNLIKELY</th>\n",
       "      <td>0</td>\n",
       "      <td>1</td>\n",
       "      <td>0</td>\n",
       "      <td>0</td>\n",
       "      <td>0</td>\n",
       "    </tr>\n",
       "    <tr>\n",
       "      <th>ad_isViolence_VERY_UNLIKELY</th>\n",
       "      <td>1</td>\n",
       "      <td>1</td>\n",
       "      <td>0</td>\n",
       "      <td>1</td>\n",
       "      <td>1</td>\n",
       "    </tr>\n",
       "    <tr>\n",
       "      <th>ad_isRacy_POSSIBLE</th>\n",
       "      <td>0</td>\n",
       "      <td>0</td>\n",
       "      <td>1</td>\n",
       "      <td>0</td>\n",
       "      <td>0</td>\n",
       "    </tr>\n",
       "    <tr>\n",
       "      <th>ad_isRacy_UNLIKELY</th>\n",
       "      <td>0</td>\n",
       "      <td>0</td>\n",
       "      <td>0</td>\n",
       "      <td>0</td>\n",
       "      <td>0</td>\n",
       "    </tr>\n",
       "    <tr>\n",
       "      <th>ad_isRacy_VERY_LIKELY</th>\n",
       "      <td>0</td>\n",
       "      <td>0</td>\n",
       "      <td>0</td>\n",
       "      <td>0</td>\n",
       "      <td>0</td>\n",
       "    </tr>\n",
       "    <tr>\n",
       "      <th>ad_isRacy_VERY_UNLIKELY</th>\n",
       "      <td>1</td>\n",
       "      <td>1</td>\n",
       "      <td>0</td>\n",
       "      <td>1</td>\n",
       "      <td>1</td>\n",
       "    </tr>\n",
       "    <tr>\n",
       "      <th>ad_isAnimal</th>\n",
       "      <td>0</td>\n",
       "      <td>0</td>\n",
       "      <td>0</td>\n",
       "      <td>0</td>\n",
       "      <td>0</td>\n",
       "    </tr>\n",
       "    <tr>\n",
       "      <th>ad_isBelt</th>\n",
       "      <td>0</td>\n",
       "      <td>0</td>\n",
       "      <td>0</td>\n",
       "      <td>0</td>\n",
       "      <td>0</td>\n",
       "    </tr>\n",
       "    <tr>\n",
       "      <th>ad_isBottle</th>\n",
       "      <td>0</td>\n",
       "      <td>0</td>\n",
       "      <td>0</td>\n",
       "      <td>0</td>\n",
       "      <td>0</td>\n",
       "    </tr>\n",
       "    <tr>\n",
       "      <th>ad_isBox</th>\n",
       "      <td>0</td>\n",
       "      <td>0</td>\n",
       "      <td>0</td>\n",
       "      <td>0</td>\n",
       "      <td>0</td>\n",
       "    </tr>\n",
       "    <tr>\n",
       "      <th>ad_isCameralens</th>\n",
       "      <td>0</td>\n",
       "      <td>0</td>\n",
       "      <td>0</td>\n",
       "      <td>0</td>\n",
       "      <td>0</td>\n",
       "    </tr>\n",
       "    <tr>\n",
       "      <th>ad_isChair</th>\n",
       "      <td>0</td>\n",
       "      <td>0</td>\n",
       "      <td>0</td>\n",
       "      <td>0</td>\n",
       "      <td>0</td>\n",
       "    </tr>\n",
       "    <tr>\n",
       "      <th>ad_isClothing</th>\n",
       "      <td>0</td>\n",
       "      <td>0</td>\n",
       "      <td>0</td>\n",
       "      <td>0</td>\n",
       "      <td>0</td>\n",
       "    </tr>\n",
       "    <tr>\n",
       "      <th>ad_isEarrings</th>\n",
       "      <td>0</td>\n",
       "      <td>0</td>\n",
       "      <td>0</td>\n",
       "      <td>0</td>\n",
       "      <td>0</td>\n",
       "    </tr>\n",
       "    <tr>\n",
       "      <th>ad_isFood</th>\n",
       "      <td>0</td>\n",
       "      <td>0</td>\n",
       "      <td>0</td>\n",
       "      <td>0</td>\n",
       "      <td>0</td>\n",
       "    </tr>\n",
       "    <tr>\n",
       "      <th>ad_isHat</th>\n",
       "      <td>0</td>\n",
       "      <td>0</td>\n",
       "      <td>0</td>\n",
       "      <td>0</td>\n",
       "      <td>0</td>\n",
       "    </tr>\n",
       "    <tr>\n",
       "      <th>ad_isLuggagebags</th>\n",
       "      <td>0</td>\n",
       "      <td>0</td>\n",
       "      <td>0</td>\n",
       "      <td>0</td>\n",
       "      <td>0</td>\n",
       "    </tr>\n",
       "    <tr>\n",
       "      <th>ad_isMobilephone</th>\n",
       "      <td>0</td>\n",
       "      <td>0</td>\n",
       "      <td>0</td>\n",
       "      <td>0</td>\n",
       "      <td>0</td>\n",
       "    </tr>\n",
       "    <tr>\n",
       "      <th>ad_isNecklace</th>\n",
       "      <td>0</td>\n",
       "      <td>0</td>\n",
       "      <td>0</td>\n",
       "      <td>0</td>\n",
       "      <td>0</td>\n",
       "    </tr>\n",
       "    <tr>\n",
       "      <th>ad_isPackagedgoods</th>\n",
       "      <td>0</td>\n",
       "      <td>0</td>\n",
       "      <td>0</td>\n",
       "      <td>0</td>\n",
       "      <td>1</td>\n",
       "    </tr>\n",
       "    <tr>\n",
       "      <th>ad_isPants</th>\n",
       "      <td>0</td>\n",
       "      <td>0</td>\n",
       "      <td>0</td>\n",
       "      <td>0</td>\n",
       "      <td>0</td>\n",
       "    </tr>\n",
       "    <tr>\n",
       "      <th>ad_isPen</th>\n",
       "      <td>0</td>\n",
       "      <td>0</td>\n",
       "      <td>0</td>\n",
       "      <td>0</td>\n",
       "      <td>0</td>\n",
       "    </tr>\n",
       "    <tr>\n",
       "      <th>ad_isPerson</th>\n",
       "      <td>0</td>\n",
       "      <td>0</td>\n",
       "      <td>0</td>\n",
       "      <td>0</td>\n",
       "      <td>0</td>\n",
       "    </tr>\n",
       "    <tr>\n",
       "      <th>ad_isPillow</th>\n",
       "      <td>0</td>\n",
       "      <td>0</td>\n",
       "      <td>0</td>\n",
       "      <td>0</td>\n",
       "      <td>0</td>\n",
       "    </tr>\n",
       "    <tr>\n",
       "      <th>ad_isPoster</th>\n",
       "      <td>0</td>\n",
       "      <td>0</td>\n",
       "      <td>0</td>\n",
       "      <td>0</td>\n",
       "      <td>0</td>\n",
       "    </tr>\n",
       "    <tr>\n",
       "      <th>ad_isShoe</th>\n",
       "      <td>0</td>\n",
       "      <td>0</td>\n",
       "      <td>0</td>\n",
       "      <td>0</td>\n",
       "      <td>0</td>\n",
       "    </tr>\n",
       "    <tr>\n",
       "      <th>ad_isTop</th>\n",
       "      <td>0</td>\n",
       "      <td>0</td>\n",
       "      <td>0</td>\n",
       "      <td>0</td>\n",
       "      <td>0</td>\n",
       "    </tr>\n",
       "    <tr>\n",
       "      <th>ad_isToy</th>\n",
       "      <td>0</td>\n",
       "      <td>0</td>\n",
       "      <td>0</td>\n",
       "      <td>0</td>\n",
       "      <td>0</td>\n",
       "    </tr>\n",
       "    <tr>\n",
       "      <th>ad_isWatch</th>\n",
       "      <td>0</td>\n",
       "      <td>0</td>\n",
       "      <td>0</td>\n",
       "      <td>0</td>\n",
       "      <td>0</td>\n",
       "    </tr>\n",
       "    <tr>\n",
       "      <th>ad_isWheel</th>\n",
       "      <td>0</td>\n",
       "      <td>0</td>\n",
       "      <td>0</td>\n",
       "      <td>0</td>\n",
       "      <td>0</td>\n",
       "    </tr>\n",
       "    <tr>\n",
       "      <th>Mostwatchedmovies_Action</th>\n",
       "      <td>0</td>\n",
       "      <td>0</td>\n",
       "      <td>0</td>\n",
       "      <td>0</td>\n",
       "      <td>1</td>\n",
       "    </tr>\n",
       "    <tr>\n",
       "      <th>Mostwatchedmovies_Adventure</th>\n",
       "      <td>0</td>\n",
       "      <td>0</td>\n",
       "      <td>0</td>\n",
       "      <td>0</td>\n",
       "      <td>0</td>\n",
       "    </tr>\n",
       "    <tr>\n",
       "      <th>Mostwatchedmovies_Animation</th>\n",
       "      <td>0</td>\n",
       "      <td>0</td>\n",
       "      <td>0</td>\n",
       "      <td>0</td>\n",
       "      <td>0</td>\n",
       "    </tr>\n",
       "    <tr>\n",
       "      <th>Mostwatchedmovies_Biography</th>\n",
       "      <td>0</td>\n",
       "      <td>0</td>\n",
       "      <td>0</td>\n",
       "      <td>0</td>\n",
       "      <td>0</td>\n",
       "    </tr>\n",
       "    <tr>\n",
       "      <th>Mostwatchedmovies_Comedy</th>\n",
       "      <td>0</td>\n",
       "      <td>0</td>\n",
       "      <td>1</td>\n",
       "      <td>1</td>\n",
       "      <td>1</td>\n",
       "    </tr>\n",
       "    <tr>\n",
       "      <th>Mostwatchedmovies_CrimeandGangster</th>\n",
       "      <td>0</td>\n",
       "      <td>0</td>\n",
       "      <td>0</td>\n",
       "      <td>1</td>\n",
       "      <td>0</td>\n",
       "    </tr>\n",
       "    <tr>\n",
       "      <th>Mostwatchedmovies_Documentary</th>\n",
       "      <td>1</td>\n",
       "      <td>0</td>\n",
       "      <td>0</td>\n",
       "      <td>0</td>\n",
       "      <td>0</td>\n",
       "    </tr>\n",
       "    <tr>\n",
       "      <th>Mostwatchedmovies_Drama</th>\n",
       "      <td>1</td>\n",
       "      <td>1</td>\n",
       "      <td>0</td>\n",
       "      <td>1</td>\n",
       "      <td>0</td>\n",
       "    </tr>\n",
       "    <tr>\n",
       "      <th>Mostwatchedmovies_EpicHistorical</th>\n",
       "      <td>0</td>\n",
       "      <td>0</td>\n",
       "      <td>0</td>\n",
       "      <td>0</td>\n",
       "      <td>0</td>\n",
       "    </tr>\n",
       "    <tr>\n",
       "      <th>Mostwatchedmovies_Erotic</th>\n",
       "      <td>0</td>\n",
       "      <td>0</td>\n",
       "      <td>0</td>\n",
       "      <td>0</td>\n",
       "      <td>0</td>\n",
       "    </tr>\n",
       "    <tr>\n",
       "      <th>Mostwatchedmovies_Family</th>\n",
       "      <td>0</td>\n",
       "      <td>0</td>\n",
       "      <td>0</td>\n",
       "      <td>0</td>\n",
       "      <td>0</td>\n",
       "    </tr>\n",
       "    <tr>\n",
       "      <th>Mostwatchedmovies_Fantasy</th>\n",
       "      <td>0</td>\n",
       "      <td>0</td>\n",
       "      <td>0</td>\n",
       "      <td>0</td>\n",
       "      <td>0</td>\n",
       "    </tr>\n",
       "    <tr>\n",
       "      <th>Mostwatchedmovies_Horror</th>\n",
       "      <td>0</td>\n",
       "      <td>0</td>\n",
       "      <td>0</td>\n",
       "      <td>0</td>\n",
       "      <td>0</td>\n",
       "    </tr>\n",
       "    <tr>\n",
       "      <th>Mostwatchedmovies_Musical</th>\n",
       "      <td>0</td>\n",
       "      <td>0</td>\n",
       "      <td>0</td>\n",
       "      <td>0</td>\n",
       "      <td>0</td>\n",
       "    </tr>\n",
       "    <tr>\n",
       "      <th>Mostwatchedmovies_Mystery</th>\n",
       "      <td>0</td>\n",
       "      <td>0</td>\n",
       "      <td>0</td>\n",
       "      <td>0</td>\n",
       "      <td>0</td>\n",
       "    </tr>\n",
       "    <tr>\n",
       "      <th>Mostwatchedmovies_Romance</th>\n",
       "      <td>0</td>\n",
       "      <td>0</td>\n",
       "      <td>0</td>\n",
       "      <td>0</td>\n",
       "      <td>1</td>\n",
       "    </tr>\n",
       "    <tr>\n",
       "      <th>Mostwatchedmovies_SciFi</th>\n",
       "      <td>0</td>\n",
       "      <td>0</td>\n",
       "      <td>0</td>\n",
       "      <td>0</td>\n",
       "      <td>0</td>\n",
       "    </tr>\n",
       "    <tr>\n",
       "      <th>Mostwatchedmovies_Sport</th>\n",
       "      <td>0</td>\n",
       "      <td>0</td>\n",
       "      <td>0</td>\n",
       "      <td>0</td>\n",
       "      <td>0</td>\n",
       "    </tr>\n",
       "    <tr>\n",
       "      <th>Mostwatchedmovies_Thriller</th>\n",
       "      <td>0</td>\n",
       "      <td>0</td>\n",
       "      <td>0</td>\n",
       "      <td>0</td>\n",
       "      <td>1</td>\n",
       "    </tr>\n",
       "    <tr>\n",
       "      <th>Mostwatchedmovies_War</th>\n",
       "      <td>0</td>\n",
       "      <td>0</td>\n",
       "      <td>0</td>\n",
       "      <td>0</td>\n",
       "      <td>0</td>\n",
       "    </tr>\n",
       "    <tr>\n",
       "      <th>Mostwatchedmovies_Western</th>\n",
       "      <td>0</td>\n",
       "      <td>0</td>\n",
       "      <td>0</td>\n",
       "      <td>0</td>\n",
       "      <td>0</td>\n",
       "    </tr>\n",
       "    <tr>\n",
       "      <th>Mostwatchedtvprogrammes_Childrens</th>\n",
       "      <td>0</td>\n",
       "      <td>0</td>\n",
       "      <td>0</td>\n",
       "      <td>0</td>\n",
       "      <td>0</td>\n",
       "    </tr>\n",
       "    <tr>\n",
       "      <th>Mostwatchedtvprogrammes_Comedy</th>\n",
       "      <td>0</td>\n",
       "      <td>0</td>\n",
       "      <td>0</td>\n",
       "      <td>1</td>\n",
       "      <td>1</td>\n",
       "    </tr>\n",
       "    <tr>\n",
       "      <th>Mostwatchedtvprogrammes_Drama</th>\n",
       "      <td>1</td>\n",
       "      <td>1</td>\n",
       "      <td>1</td>\n",
       "      <td>1</td>\n",
       "      <td>1</td>\n",
       "    </tr>\n",
       "    <tr>\n",
       "      <th>Mostwatchedtvprogrammes_EntertainmentVarietyShows</th>\n",
       "      <td>0</td>\n",
       "      <td>0</td>\n",
       "      <td>0</td>\n",
       "      <td>1</td>\n",
       "      <td>0</td>\n",
       "    </tr>\n",
       "    <tr>\n",
       "      <th>Mostwatchedtvprogrammes_Factual</th>\n",
       "      <td>0</td>\n",
       "      <td>0</td>\n",
       "      <td>0</td>\n",
       "      <td>1</td>\n",
       "      <td>1</td>\n",
       "    </tr>\n",
       "    <tr>\n",
       "      <th>Mostwatchedtvprogrammes_Learning</th>\n",
       "      <td>0</td>\n",
       "      <td>0</td>\n",
       "      <td>0</td>\n",
       "      <td>0</td>\n",
       "      <td>0</td>\n",
       "    </tr>\n",
       "    <tr>\n",
       "      <th>Mostwatchedtvprogrammes_Music</th>\n",
       "      <td>0</td>\n",
       "      <td>0</td>\n",
       "      <td>0</td>\n",
       "      <td>0</td>\n",
       "      <td>0</td>\n",
       "    </tr>\n",
       "    <tr>\n",
       "      <th>Mostwatchedtvprogrammes_News</th>\n",
       "      <td>0</td>\n",
       "      <td>0</td>\n",
       "      <td>0</td>\n",
       "      <td>1</td>\n",
       "      <td>1</td>\n",
       "    </tr>\n",
       "    <tr>\n",
       "      <th>Mostwatchedtvprogrammes_ReligionampEthics</th>\n",
       "      <td>0</td>\n",
       "      <td>0</td>\n",
       "      <td>0</td>\n",
       "      <td>0</td>\n",
       "      <td>0</td>\n",
       "    </tr>\n",
       "    <tr>\n",
       "      <th>Mostwatchedtvprogrammes_Sport</th>\n",
       "      <td>0</td>\n",
       "      <td>0</td>\n",
       "      <td>0</td>\n",
       "      <td>0</td>\n",
       "      <td>0</td>\n",
       "    </tr>\n",
       "    <tr>\n",
       "      <th>Mostwatchedtvprogrammes_Weather</th>\n",
       "      <td>0</td>\n",
       "      <td>0</td>\n",
       "      <td>0</td>\n",
       "      <td>0</td>\n",
       "      <td>0</td>\n",
       "    </tr>\n",
       "  </tbody>\n",
       "</table>\n",
       "</div>"
      ],
      "text/plain": [
       "                                                                  22803  \\\n",
       "Age                                                                  30   \n",
       "CapZipCode                                                     EH45 8QR   \n",
       "FaveSports                                         I do not like Sports   \n",
       "Rating                                                              3.0   \n",
       "Gender_F                                                              1   \n",
       "Gender_M                                                              0   \n",
       "Homecountry_Canada                                                    0   \n",
       "Homecountry_CzechRepublic                                             0   \n",
       "Homecountry_GreatBritain                                              0   \n",
       "Homecountry_India                                                     0   \n",
       "Homecountry_Italy                                                     0   \n",
       "Homecountry_Phillipines                                               0   \n",
       "Homecountry_Romania                                                   0   \n",
       "Homecountry_SaudiArabia                                               0   \n",
       "Homecountry_Singapore                                                 0   \n",
       "Homecountry_Slovenia                                                  0   \n",
       "Homecountry_UnitedKingdom                                             1   \n",
       "Homecountry_UnitedStatesofAmerica                                     0   \n",
       "Income_0                                                              0   \n",
       "Income_1                                                              1   \n",
       "Income_2                                                              0   \n",
       "Income_3                                                              0   \n",
       "AlternativeMusic                                                      0   \n",
       "AsianPopJPoporKpop                                                    0   \n",
       "Blues                                                                 0   \n",
       "ClassicalMusic                                                        0   \n",
       "CountryMusic                                                          0   \n",
       "DanceMusic                                                            0   \n",
       "EasyListening                                                         0   \n",
       "ElectronicMusic                                                       0   \n",
       "EuropeanMusicFolkPop                                                  1   \n",
       "HipHopRap                                                             0   \n",
       "IndiePop                                                              0   \n",
       "InspirationalinclGospel                                               0   \n",
       "Jazz                                                                  0   \n",
       "LatinMusic                                                            0   \n",
       "NewAge                                                                0   \n",
       "Opera                                                                 0   \n",
       "PopPopularmusic                                                       0   \n",
       "RampBSoul                                                             0   \n",
       "Reggae                                                                0   \n",
       "Rock                                                                  0   \n",
       "SingerSongwriterincFolk                                               0   \n",
       "WorldMusicBeats                                                       0   \n",
       "ActionandAdventure                                                    0   \n",
       "Anthologies                                                           0   \n",
       "Art                                                                   0   \n",
       "Autobiographies                                                       0   \n",
       "Biographies                                                           0   \n",
       "Childrens                                                             0   \n",
       "Childrensliterature                                                   0   \n",
       "Comics                                                                0   \n",
       "Cookbooks                                                             0   \n",
       "Diaries                                                               0   \n",
       "Drama                                                                 0   \n",
       "Encyclopedias                                                         0   \n",
       "Eroticfiction                                                         0   \n",
       "Fantasy                                                               0   \n",
       "Guide                                                                 0   \n",
       "History                                                               1   \n",
       "Horror                                                                0   \n",
       "Journals                                                              0   \n",
       "Math                                                                  0   \n",
       "Mystery                                                               0   \n",
       "Poetry                                                                0   \n",
       "Prayerbooks                                                           0   \n",
       "Religious                                                             0   \n",
       "Romance                                                               0   \n",
       "Satire                                                                0   \n",
       "Science                                                               0   \n",
       "Sciencefiction                                                        0   \n",
       "Selfhelp                                                              0   \n",
       "Series                                                                0   \n",
       "Travel                                                                0   \n",
       "Trilogies                                                             0   \n",
       "ad_isAdvertising                                                      0   \n",
       "ad_isBrand                                                            0   \n",
       "ad_isElectronicdevice                                                 0   \n",
       "ad_isElectronics                                                      0   \n",
       "ad_isFashionaccessory                                                 0   \n",
       "ad_isFictionalcharacter                                               0   \n",
       "ad_isFont                                                             1   \n",
       "ad_isFurniture                                                        0   \n",
       "ad_isGadget                                                           0   \n",
       "ad_isGames                                                            0   \n",
       "ad_isGraphicdesign                                                    0   \n",
       "ad_isGraphics                                                         0   \n",
       "ad_isJewellery                                                        0   \n",
       "ad_isLine                                                             1   \n",
       "ad_isLogo                                                             0   \n",
       "ad_isMagenta                                                          0   \n",
       "ad_isMaterialproperty                                                 0   \n",
       "ad_isMultimedia                                                       0   \n",
       "ad_isProduct                                                          0   \n",
       "ad_isRectangle                                                        0   \n",
       "ad_isSkin                                                             0   \n",
       "ad_isTechnology                                                       0   \n",
       "ad_isText                                                             1   \n",
       "ad_isVehicle                                                          0   \n",
       "ad_isYellow                                                           0   \n",
       "ad_num_faces                                                          0   \n",
       "ad_isAdult_UNLIKELY                                                   0   \n",
       "ad_isAdult_VERY_UNLIKELY                                              1   \n",
       "ad_isSpoof_POSSIBLE                                                   0   \n",
       "ad_isSpoof_UNLIKELY                                                   0   \n",
       "ad_isSpoof_VERY_UNLIKELY                                              1   \n",
       "ad_isMedical_POSSIBLE                                                 0   \n",
       "ad_isMedical_UNLIKELY                                                 1   \n",
       "ad_isMedical_VERY_UNLIKELY                                            0   \n",
       "ad_isViolence_VERY_UNLIKELY                                           1   \n",
       "ad_isRacy_POSSIBLE                                                    0   \n",
       "ad_isRacy_UNLIKELY                                                    0   \n",
       "ad_isRacy_VERY_LIKELY                                                 0   \n",
       "ad_isRacy_VERY_UNLIKELY                                               1   \n",
       "ad_isAnimal                                                           0   \n",
       "ad_isBelt                                                             0   \n",
       "ad_isBottle                                                           0   \n",
       "ad_isBox                                                              0   \n",
       "ad_isCameralens                                                       0   \n",
       "ad_isChair                                                            0   \n",
       "ad_isClothing                                                         0   \n",
       "ad_isEarrings                                                         0   \n",
       "ad_isFood                                                             0   \n",
       "ad_isHat                                                              0   \n",
       "ad_isLuggagebags                                                      0   \n",
       "ad_isMobilephone                                                      0   \n",
       "ad_isNecklace                                                         0   \n",
       "ad_isPackagedgoods                                                    0   \n",
       "ad_isPants                                                            0   \n",
       "ad_isPen                                                              0   \n",
       "ad_isPerson                                                           0   \n",
       "ad_isPillow                                                           0   \n",
       "ad_isPoster                                                           0   \n",
       "ad_isShoe                                                             0   \n",
       "ad_isTop                                                              0   \n",
       "ad_isToy                                                              0   \n",
       "ad_isWatch                                                            0   \n",
       "ad_isWheel                                                            0   \n",
       "Mostwatchedmovies_Action                                              0   \n",
       "Mostwatchedmovies_Adventure                                           0   \n",
       "Mostwatchedmovies_Animation                                           0   \n",
       "Mostwatchedmovies_Biography                                           0   \n",
       "Mostwatchedmovies_Comedy                                              0   \n",
       "Mostwatchedmovies_CrimeandGangster                                    0   \n",
       "Mostwatchedmovies_Documentary                                         1   \n",
       "Mostwatchedmovies_Drama                                               1   \n",
       "Mostwatchedmovies_EpicHistorical                                      0   \n",
       "Mostwatchedmovies_Erotic                                              0   \n",
       "Mostwatchedmovies_Family                                              0   \n",
       "Mostwatchedmovies_Fantasy                                             0   \n",
       "Mostwatchedmovies_Horror                                              0   \n",
       "Mostwatchedmovies_Musical                                             0   \n",
       "Mostwatchedmovies_Mystery                                             0   \n",
       "Mostwatchedmovies_Romance                                             0   \n",
       "Mostwatchedmovies_SciFi                                               0   \n",
       "Mostwatchedmovies_Sport                                               0   \n",
       "Mostwatchedmovies_Thriller                                            0   \n",
       "Mostwatchedmovies_War                                                 0   \n",
       "Mostwatchedmovies_Western                                             0   \n",
       "Mostwatchedtvprogrammes_Childrens                                     0   \n",
       "Mostwatchedtvprogrammes_Comedy                                        0   \n",
       "Mostwatchedtvprogrammes_Drama                                         1   \n",
       "Mostwatchedtvprogrammes_EntertainmentVarietyShows                     0   \n",
       "Mostwatchedtvprogrammes_Factual                                       0   \n",
       "Mostwatchedtvprogrammes_Learning                                      0   \n",
       "Mostwatchedtvprogrammes_Music                                         0   \n",
       "Mostwatchedtvprogrammes_News                                          0   \n",
       "Mostwatchedtvprogrammes_ReligionampEthics                             0   \n",
       "Mostwatchedtvprogrammes_Sport                                         0   \n",
       "Mostwatchedtvprogrammes_Weather                                       0   \n",
       "\n",
       "                                                     322    \\\n",
       "Age                                                     26   \n",
       "CapZipCode                                           60638   \n",
       "FaveSports                                         Nothing   \n",
       "Rating                                                 1.0   \n",
       "Gender_F                                                 1   \n",
       "Gender_M                                                 0   \n",
       "Homecountry_Canada                                       0   \n",
       "Homecountry_CzechRepublic                                0   \n",
       "Homecountry_GreatBritain                                 0   \n",
       "Homecountry_India                                        0   \n",
       "Homecountry_Italy                                        0   \n",
       "Homecountry_Phillipines                                  0   \n",
       "Homecountry_Romania                                      0   \n",
       "Homecountry_SaudiArabia                                  0   \n",
       "Homecountry_Singapore                                    0   \n",
       "Homecountry_Slovenia                                     0   \n",
       "Homecountry_UnitedKingdom                                0   \n",
       "Homecountry_UnitedStatesofAmerica                        1   \n",
       "Income_0                                                 0   \n",
       "Income_1                                                 1   \n",
       "Income_2                                                 0   \n",
       "Income_3                                                 0   \n",
       "AlternativeMusic                                         0   \n",
       "AsianPopJPoporKpop                                       0   \n",
       "Blues                                                    0   \n",
       "ClassicalMusic                                           0   \n",
       "CountryMusic                                             0   \n",
       "DanceMusic                                               1   \n",
       "EasyListening                                            0   \n",
       "ElectronicMusic                                          1   \n",
       "EuropeanMusicFolkPop                                     0   \n",
       "HipHopRap                                                0   \n",
       "IndiePop                                                 1   \n",
       "InspirationalinclGospel                                  0   \n",
       "Jazz                                                     0   \n",
       "LatinMusic                                               0   \n",
       "NewAge                                                   0   \n",
       "Opera                                                    0   \n",
       "PopPopularmusic                                          1   \n",
       "RampBSoul                                                0   \n",
       "Reggae                                                   0   \n",
       "Rock                                                     1   \n",
       "SingerSongwriterincFolk                                  0   \n",
       "WorldMusicBeats                                          0   \n",
       "ActionandAdventure                                       0   \n",
       "Anthologies                                              0   \n",
       "Art                                                      0   \n",
       "Autobiographies                                          0   \n",
       "Biographies                                              0   \n",
       "Childrens                                                0   \n",
       "Childrensliterature                                      0   \n",
       "Comics                                                   0   \n",
       "Cookbooks                                                0   \n",
       "Diaries                                                  0   \n",
       "Drama                                                    0   \n",
       "Encyclopedias                                            0   \n",
       "Eroticfiction                                            0   \n",
       "Fantasy                                                  0   \n",
       "Guide                                                    0   \n",
       "History                                                  0   \n",
       "Horror                                                   0   \n",
       "Journals                                                 0   \n",
       "Math                                                     0   \n",
       "Mystery                                                  1   \n",
       "Poetry                                                   0   \n",
       "Prayerbooks                                              0   \n",
       "Religious                                                0   \n",
       "Romance                                                  1   \n",
       "Satire                                                   0   \n",
       "Science                                                  1   \n",
       "Sciencefiction                                           1   \n",
       "Selfhelp                                                 0   \n",
       "Series                                                   0   \n",
       "Travel                                                   0   \n",
       "Trilogies                                                0   \n",
       "ad_isAdvertising                                         0   \n",
       "ad_isBrand                                               0   \n",
       "ad_isElectronicdevice                                    1   \n",
       "ad_isElectronics                                         0   \n",
       "ad_isFashionaccessory                                    0   \n",
       "ad_isFictionalcharacter                                  0   \n",
       "ad_isFont                                                1   \n",
       "ad_isFurniture                                           0   \n",
       "ad_isGadget                                              0   \n",
       "ad_isGames                                               0   \n",
       "ad_isGraphicdesign                                       0   \n",
       "ad_isGraphics                                            0   \n",
       "ad_isJewellery                                           0   \n",
       "ad_isLine                                                0   \n",
       "ad_isLogo                                                0   \n",
       "ad_isMagenta                                             0   \n",
       "ad_isMaterialproperty                                    0   \n",
       "ad_isMultimedia                                          0   \n",
       "ad_isProduct                                             0   \n",
       "ad_isRectangle                                           0   \n",
       "ad_isSkin                                                0   \n",
       "ad_isTechnology                                          1   \n",
       "ad_isText                                                0   \n",
       "ad_isVehicle                                             0   \n",
       "ad_isYellow                                              0   \n",
       "ad_num_faces                                             0   \n",
       "ad_isAdult_UNLIKELY                                      0   \n",
       "ad_isAdult_VERY_UNLIKELY                                 1   \n",
       "ad_isSpoof_POSSIBLE                                      0   \n",
       "ad_isSpoof_UNLIKELY                                      1   \n",
       "ad_isSpoof_VERY_UNLIKELY                                 0   \n",
       "ad_isMedical_POSSIBLE                                    0   \n",
       "ad_isMedical_UNLIKELY                                    0   \n",
       "ad_isMedical_VERY_UNLIKELY                               1   \n",
       "ad_isViolence_VERY_UNLIKELY                              1   \n",
       "ad_isRacy_POSSIBLE                                       0   \n",
       "ad_isRacy_UNLIKELY                                       0   \n",
       "ad_isRacy_VERY_LIKELY                                    0   \n",
       "ad_isRacy_VERY_UNLIKELY                                  1   \n",
       "ad_isAnimal                                              0   \n",
       "ad_isBelt                                                0   \n",
       "ad_isBottle                                              0   \n",
       "ad_isBox                                                 0   \n",
       "ad_isCameralens                                          0   \n",
       "ad_isChair                                               0   \n",
       "ad_isClothing                                            0   \n",
       "ad_isEarrings                                            0   \n",
       "ad_isFood                                                0   \n",
       "ad_isHat                                                 0   \n",
       "ad_isLuggagebags                                         0   \n",
       "ad_isMobilephone                                         0   \n",
       "ad_isNecklace                                            0   \n",
       "ad_isPackagedgoods                                       0   \n",
       "ad_isPants                                               0   \n",
       "ad_isPen                                                 0   \n",
       "ad_isPerson                                              0   \n",
       "ad_isPillow                                              0   \n",
       "ad_isPoster                                              0   \n",
       "ad_isShoe                                                0   \n",
       "ad_isTop                                                 0   \n",
       "ad_isToy                                                 0   \n",
       "ad_isWatch                                               0   \n",
       "ad_isWheel                                               0   \n",
       "Mostwatchedmovies_Action                                 0   \n",
       "Mostwatchedmovies_Adventure                              0   \n",
       "Mostwatchedmovies_Animation                              0   \n",
       "Mostwatchedmovies_Biography                              0   \n",
       "Mostwatchedmovies_Comedy                                 0   \n",
       "Mostwatchedmovies_CrimeandGangster                       0   \n",
       "Mostwatchedmovies_Documentary                            0   \n",
       "Mostwatchedmovies_Drama                                  1   \n",
       "Mostwatchedmovies_EpicHistorical                         0   \n",
       "Mostwatchedmovies_Erotic                                 0   \n",
       "Mostwatchedmovies_Family                                 0   \n",
       "Mostwatchedmovies_Fantasy                                0   \n",
       "Mostwatchedmovies_Horror                                 0   \n",
       "Mostwatchedmovies_Musical                                0   \n",
       "Mostwatchedmovies_Mystery                                0   \n",
       "Mostwatchedmovies_Romance                                0   \n",
       "Mostwatchedmovies_SciFi                                  0   \n",
       "Mostwatchedmovies_Sport                                  0   \n",
       "Mostwatchedmovies_Thriller                               0   \n",
       "Mostwatchedmovies_War                                    0   \n",
       "Mostwatchedmovies_Western                                0   \n",
       "Mostwatchedtvprogrammes_Childrens                        0   \n",
       "Mostwatchedtvprogrammes_Comedy                           0   \n",
       "Mostwatchedtvprogrammes_Drama                            1   \n",
       "Mostwatchedtvprogrammes_EntertainmentVarietyShows        0   \n",
       "Mostwatchedtvprogrammes_Factual                          0   \n",
       "Mostwatchedtvprogrammes_Learning                         0   \n",
       "Mostwatchedtvprogrammes_Music                            0   \n",
       "Mostwatchedtvprogrammes_News                             0   \n",
       "Mostwatchedtvprogrammes_ReligionampEthics                0   \n",
       "Mostwatchedtvprogrammes_Sport                            0   \n",
       "Mostwatchedtvprogrammes_Weather                          0   \n",
       "\n",
       "                                                                                               12507  \\\n",
       "Age                                                                                               36   \n",
       "CapZipCode                                                                                     40218   \n",
       "FaveSports                                         Individual sports‎ (Tennis, Archery, ...), End...   \n",
       "Rating                                                                                           1.0   \n",
       "Gender_F                                                                                           1   \n",
       "Gender_M                                                                                           0   \n",
       "Homecountry_Canada                                                                                 0   \n",
       "Homecountry_CzechRepublic                                                                          0   \n",
       "Homecountry_GreatBritain                                                                           0   \n",
       "Homecountry_India                                                                                  0   \n",
       "Homecountry_Italy                                                                                  0   \n",
       "Homecountry_Phillipines                                                                            0   \n",
       "Homecountry_Romania                                                                                0   \n",
       "Homecountry_SaudiArabia                                                                            0   \n",
       "Homecountry_Singapore                                                                              0   \n",
       "Homecountry_Slovenia                                                                               0   \n",
       "Homecountry_UnitedKingdom                                                                          0   \n",
       "Homecountry_UnitedStatesofAmerica                                                                  1   \n",
       "Income_0                                                                                           0   \n",
       "Income_1                                                                                           0   \n",
       "Income_2                                                                                           1   \n",
       "Income_3                                                                                           0   \n",
       "AlternativeMusic                                                                                   0   \n",
       "AsianPopJPoporKpop                                                                                 0   \n",
       "Blues                                                                                              0   \n",
       "ClassicalMusic                                                                                     0   \n",
       "CountryMusic                                                                                       1   \n",
       "DanceMusic                                                                                         0   \n",
       "EasyListening                                                                                      0   \n",
       "ElectronicMusic                                                                                    0   \n",
       "EuropeanMusicFolkPop                                                                               0   \n",
       "HipHopRap                                                                                          0   \n",
       "IndiePop                                                                                           0   \n",
       "InspirationalinclGospel                                                                            0   \n",
       "Jazz                                                                                               0   \n",
       "LatinMusic                                                                                         0   \n",
       "NewAge                                                                                             0   \n",
       "Opera                                                                                              0   \n",
       "PopPopularmusic                                                                                    0   \n",
       "RampBSoul                                                                                          0   \n",
       "Reggae                                                                                             0   \n",
       "Rock                                                                                               0   \n",
       "SingerSongwriterincFolk                                                                            0   \n",
       "WorldMusicBeats                                                                                    0   \n",
       "ActionandAdventure                                                                                 0   \n",
       "Anthologies                                                                                        0   \n",
       "Art                                                                                                0   \n",
       "Autobiographies                                                                                    0   \n",
       "Biographies                                                                                        0   \n",
       "Childrens                                                                                          0   \n",
       "Childrensliterature                                                                                0   \n",
       "Comics                                                                                             0   \n",
       "Cookbooks                                                                                          0   \n",
       "Diaries                                                                                            0   \n",
       "Drama                                                                                              0   \n",
       "Encyclopedias                                                                                      0   \n",
       "Eroticfiction                                                                                      0   \n",
       "Fantasy                                                                                            0   \n",
       "Guide                                                                                              0   \n",
       "History                                                                                            0   \n",
       "Horror                                                                                             0   \n",
       "Journals                                                                                           0   \n",
       "Math                                                                                               0   \n",
       "Mystery                                                                                            0   \n",
       "Poetry                                                                                             0   \n",
       "Prayerbooks                                                                                        0   \n",
       "Religious                                                                                          0   \n",
       "Romance                                                                                            1   \n",
       "Satire                                                                                             0   \n",
       "Science                                                                                            0   \n",
       "Sciencefiction                                                                                     0   \n",
       "Selfhelp                                                                                           0   \n",
       "Series                                                                                             0   \n",
       "Travel                                                                                             0   \n",
       "Trilogies                                                                                          0   \n",
       "ad_isAdvertising                                                                                   0   \n",
       "ad_isBrand                                                                                         0   \n",
       "ad_isElectronicdevice                                                                              0   \n",
       "ad_isElectronics                                                                                   0   \n",
       "ad_isFashionaccessory                                                                              0   \n",
       "ad_isFictionalcharacter                                                                            0   \n",
       "ad_isFont                                                                                          0   \n",
       "ad_isFurniture                                                                                     0   \n",
       "ad_isGadget                                                                                        0   \n",
       "ad_isGames                                                                                         0   \n",
       "ad_isGraphicdesign                                                                                 0   \n",
       "ad_isGraphics                                                                                      0   \n",
       "ad_isJewellery                                                                                     0   \n",
       "ad_isLine                                                                                          0   \n",
       "ad_isLogo                                                                                          0   \n",
       "ad_isMagenta                                                                                       0   \n",
       "ad_isMaterialproperty                                                                              0   \n",
       "ad_isMultimedia                                                                                    0   \n",
       "ad_isProduct                                                                                       0   \n",
       "ad_isRectangle                                                                                     0   \n",
       "ad_isSkin                                                                                          0   \n",
       "ad_isTechnology                                                                                    0   \n",
       "ad_isText                                                                                          0   \n",
       "ad_isVehicle                                                                                       0   \n",
       "ad_isYellow                                                                                        0   \n",
       "ad_num_faces                                                                                       0   \n",
       "ad_isAdult_UNLIKELY                                                                                0   \n",
       "ad_isAdult_VERY_UNLIKELY                                                                           1   \n",
       "ad_isSpoof_POSSIBLE                                                                                0   \n",
       "ad_isSpoof_UNLIKELY                                                                                1   \n",
       "ad_isSpoof_VERY_UNLIKELY                                                                           0   \n",
       "ad_isMedical_POSSIBLE                                                                              0   \n",
       "ad_isMedical_UNLIKELY                                                                              1   \n",
       "ad_isMedical_VERY_UNLIKELY                                                                         0   \n",
       "ad_isViolence_VERY_UNLIKELY                                                                        0   \n",
       "ad_isRacy_POSSIBLE                                                                                 1   \n",
       "ad_isRacy_UNLIKELY                                                                                 0   \n",
       "ad_isRacy_VERY_LIKELY                                                                              0   \n",
       "ad_isRacy_VERY_UNLIKELY                                                                            0   \n",
       "ad_isAnimal                                                                                        0   \n",
       "ad_isBelt                                                                                          0   \n",
       "ad_isBottle                                                                                        0   \n",
       "ad_isBox                                                                                           0   \n",
       "ad_isCameralens                                                                                    0   \n",
       "ad_isChair                                                                                         0   \n",
       "ad_isClothing                                                                                      0   \n",
       "ad_isEarrings                                                                                      0   \n",
       "ad_isFood                                                                                          0   \n",
       "ad_isHat                                                                                           0   \n",
       "ad_isLuggagebags                                                                                   0   \n",
       "ad_isMobilephone                                                                                   0   \n",
       "ad_isNecklace                                                                                      0   \n",
       "ad_isPackagedgoods                                                                                 0   \n",
       "ad_isPants                                                                                         0   \n",
       "ad_isPen                                                                                           0   \n",
       "ad_isPerson                                                                                        0   \n",
       "ad_isPillow                                                                                        0   \n",
       "ad_isPoster                                                                                        0   \n",
       "ad_isShoe                                                                                          0   \n",
       "ad_isTop                                                                                           0   \n",
       "ad_isToy                                                                                           0   \n",
       "ad_isWatch                                                                                         0   \n",
       "ad_isWheel                                                                                         0   \n",
       "Mostwatchedmovies_Action                                                                           0   \n",
       "Mostwatchedmovies_Adventure                                                                        0   \n",
       "Mostwatchedmovies_Animation                                                                        0   \n",
       "Mostwatchedmovies_Biography                                                                        0   \n",
       "Mostwatchedmovies_Comedy                                                                           1   \n",
       "Mostwatchedmovies_CrimeandGangster                                                                 0   \n",
       "Mostwatchedmovies_Documentary                                                                      0   \n",
       "Mostwatchedmovies_Drama                                                                            0   \n",
       "Mostwatchedmovies_EpicHistorical                                                                   0   \n",
       "Mostwatchedmovies_Erotic                                                                           0   \n",
       "Mostwatchedmovies_Family                                                                           0   \n",
       "Mostwatchedmovies_Fantasy                                                                          0   \n",
       "Mostwatchedmovies_Horror                                                                           0   \n",
       "Mostwatchedmovies_Musical                                                                          0   \n",
       "Mostwatchedmovies_Mystery                                                                          0   \n",
       "Mostwatchedmovies_Romance                                                                          0   \n",
       "Mostwatchedmovies_SciFi                                                                            0   \n",
       "Mostwatchedmovies_Sport                                                                            0   \n",
       "Mostwatchedmovies_Thriller                                                                         0   \n",
       "Mostwatchedmovies_War                                                                              0   \n",
       "Mostwatchedmovies_Western                                                                          0   \n",
       "Mostwatchedtvprogrammes_Childrens                                                                  0   \n",
       "Mostwatchedtvprogrammes_Comedy                                                                     0   \n",
       "Mostwatchedtvprogrammes_Drama                                                                      1   \n",
       "Mostwatchedtvprogrammes_EntertainmentVarietyShows                                                  0   \n",
       "Mostwatchedtvprogrammes_Factual                                                                    0   \n",
       "Mostwatchedtvprogrammes_Learning                                                                   0   \n",
       "Mostwatchedtvprogrammes_Music                                                                      0   \n",
       "Mostwatchedtvprogrammes_News                                                                       0   \n",
       "Mostwatchedtvprogrammes_ReligionampEthics                                                          0   \n",
       "Mostwatchedtvprogrammes_Sport                                                                      0   \n",
       "Mostwatchedtvprogrammes_Weather                                                                    0   \n",
       "\n",
       "                                                                                               35070  \\\n",
       "Age                                                                                               55   \n",
       "CapZipCode                                                                                     90706   \n",
       "FaveSports                                         Olympic sports‎, Equestrian sports‎, Motor spo...   \n",
       "Rating                                                                                           3.0   \n",
       "Gender_F                                                                                           1   \n",
       "Gender_M                                                                                           0   \n",
       "Homecountry_Canada                                                                                 0   \n",
       "Homecountry_CzechRepublic                                                                          0   \n",
       "Homecountry_GreatBritain                                                                           0   \n",
       "Homecountry_India                                                                                  0   \n",
       "Homecountry_Italy                                                                                  0   \n",
       "Homecountry_Phillipines                                                                            0   \n",
       "Homecountry_Romania                                                                                0   \n",
       "Homecountry_SaudiArabia                                                                            0   \n",
       "Homecountry_Singapore                                                                              0   \n",
       "Homecountry_Slovenia                                                                               0   \n",
       "Homecountry_UnitedKingdom                                                                          0   \n",
       "Homecountry_UnitedStatesofAmerica                                                                  1   \n",
       "Income_0                                                                                           0   \n",
       "Income_1                                                                                           0   \n",
       "Income_2                                                                                           1   \n",
       "Income_3                                                                                           0   \n",
       "AlternativeMusic                                                                                   0   \n",
       "AsianPopJPoporKpop                                                                                 0   \n",
       "Blues                                                                                              0   \n",
       "ClassicalMusic                                                                                     0   \n",
       "CountryMusic                                                                                       0   \n",
       "DanceMusic                                                                                         0   \n",
       "EasyListening                                                                                      0   \n",
       "ElectronicMusic                                                                                    0   \n",
       "EuropeanMusicFolkPop                                                                               0   \n",
       "HipHopRap                                                                                          1   \n",
       "IndiePop                                                                                           0   \n",
       "InspirationalinclGospel                                                                            0   \n",
       "Jazz                                                                                               0   \n",
       "LatinMusic                                                                                         0   \n",
       "NewAge                                                                                             0   \n",
       "Opera                                                                                              0   \n",
       "PopPopularmusic                                                                                    1   \n",
       "RampBSoul                                                                                          1   \n",
       "Reggae                                                                                             0   \n",
       "Rock                                                                                               0   \n",
       "SingerSongwriterincFolk                                                                            0   \n",
       "WorldMusicBeats                                                                                    0   \n",
       "ActionandAdventure                                                                                 0   \n",
       "Anthologies                                                                                        0   \n",
       "Art                                                                                                0   \n",
       "Autobiographies                                                                                    0   \n",
       "Biographies                                                                                        0   \n",
       "Childrens                                                                                          0   \n",
       "Childrensliterature                                                                                0   \n",
       "Comics                                                                                             0   \n",
       "Cookbooks                                                                                          0   \n",
       "Diaries                                                                                            0   \n",
       "Drama                                                                                              1   \n",
       "Encyclopedias                                                                                      0   \n",
       "Eroticfiction                                                                                      0   \n",
       "Fantasy                                                                                            0   \n",
       "Guide                                                                                              0   \n",
       "History                                                                                            0   \n",
       "Horror                                                                                             0   \n",
       "Journals                                                                                           0   \n",
       "Math                                                                                               0   \n",
       "Mystery                                                                                            1   \n",
       "Poetry                                                                                             0   \n",
       "Prayerbooks                                                                                        0   \n",
       "Religious                                                                                          0   \n",
       "Romance                                                                                            1   \n",
       "Satire                                                                                             0   \n",
       "Science                                                                                            0   \n",
       "Sciencefiction                                                                                     0   \n",
       "Selfhelp                                                                                           0   \n",
       "Series                                                                                             0   \n",
       "Travel                                                                                             0   \n",
       "Trilogies                                                                                          0   \n",
       "ad_isAdvertising                                                                                   0   \n",
       "ad_isBrand                                                                                         0   \n",
       "ad_isElectronicdevice                                                                              0   \n",
       "ad_isElectronics                                                                                   0   \n",
       "ad_isFashionaccessory                                                                              0   \n",
       "ad_isFictionalcharacter                                                                            0   \n",
       "ad_isFont                                                                                          1   \n",
       "ad_isFurniture                                                                                     0   \n",
       "ad_isGadget                                                                                        0   \n",
       "ad_isGames                                                                                         0   \n",
       "ad_isGraphicdesign                                                                                 0   \n",
       "ad_isGraphics                                                                                      0   \n",
       "ad_isJewellery                                                                                     0   \n",
       "ad_isLine                                                                                          1   \n",
       "ad_isLogo                                                                                          0   \n",
       "ad_isMagenta                                                                                       0   \n",
       "ad_isMaterialproperty                                                                              0   \n",
       "ad_isMultimedia                                                                                    0   \n",
       "ad_isProduct                                                                                       0   \n",
       "ad_isRectangle                                                                                     0   \n",
       "ad_isSkin                                                                                          0   \n",
       "ad_isTechnology                                                                                    0   \n",
       "ad_isText                                                                                          1   \n",
       "ad_isVehicle                                                                                       0   \n",
       "ad_isYellow                                                                                        0   \n",
       "ad_num_faces                                                                                       0   \n",
       "ad_isAdult_UNLIKELY                                                                                0   \n",
       "ad_isAdult_VERY_UNLIKELY                                                                           1   \n",
       "ad_isSpoof_POSSIBLE                                                                                0   \n",
       "ad_isSpoof_UNLIKELY                                                                                0   \n",
       "ad_isSpoof_VERY_UNLIKELY                                                                           1   \n",
       "ad_isMedical_POSSIBLE                                                                              0   \n",
       "ad_isMedical_UNLIKELY                                                                              1   \n",
       "ad_isMedical_VERY_UNLIKELY                                                                         0   \n",
       "ad_isViolence_VERY_UNLIKELY                                                                        1   \n",
       "ad_isRacy_POSSIBLE                                                                                 0   \n",
       "ad_isRacy_UNLIKELY                                                                                 0   \n",
       "ad_isRacy_VERY_LIKELY                                                                              0   \n",
       "ad_isRacy_VERY_UNLIKELY                                                                            1   \n",
       "ad_isAnimal                                                                                        0   \n",
       "ad_isBelt                                                                                          0   \n",
       "ad_isBottle                                                                                        0   \n",
       "ad_isBox                                                                                           0   \n",
       "ad_isCameralens                                                                                    0   \n",
       "ad_isChair                                                                                         0   \n",
       "ad_isClothing                                                                                      0   \n",
       "ad_isEarrings                                                                                      0   \n",
       "ad_isFood                                                                                          0   \n",
       "ad_isHat                                                                                           0   \n",
       "ad_isLuggagebags                                                                                   0   \n",
       "ad_isMobilephone                                                                                   0   \n",
       "ad_isNecklace                                                                                      0   \n",
       "ad_isPackagedgoods                                                                                 0   \n",
       "ad_isPants                                                                                         0   \n",
       "ad_isPen                                                                                           0   \n",
       "ad_isPerson                                                                                        0   \n",
       "ad_isPillow                                                                                        0   \n",
       "ad_isPoster                                                                                        0   \n",
       "ad_isShoe                                                                                          0   \n",
       "ad_isTop                                                                                           0   \n",
       "ad_isToy                                                                                           0   \n",
       "ad_isWatch                                                                                         0   \n",
       "ad_isWheel                                                                                         0   \n",
       "Mostwatchedmovies_Action                                                                           0   \n",
       "Mostwatchedmovies_Adventure                                                                        0   \n",
       "Mostwatchedmovies_Animation                                                                        0   \n",
       "Mostwatchedmovies_Biography                                                                        0   \n",
       "Mostwatchedmovies_Comedy                                                                           1   \n",
       "Mostwatchedmovies_CrimeandGangster                                                                 1   \n",
       "Mostwatchedmovies_Documentary                                                                      0   \n",
       "Mostwatchedmovies_Drama                                                                            1   \n",
       "Mostwatchedmovies_EpicHistorical                                                                   0   \n",
       "Mostwatchedmovies_Erotic                                                                           0   \n",
       "Mostwatchedmovies_Family                                                                           0   \n",
       "Mostwatchedmovies_Fantasy                                                                          0   \n",
       "Mostwatchedmovies_Horror                                                                           0   \n",
       "Mostwatchedmovies_Musical                                                                          0   \n",
       "Mostwatchedmovies_Mystery                                                                          0   \n",
       "Mostwatchedmovies_Romance                                                                          0   \n",
       "Mostwatchedmovies_SciFi                                                                            0   \n",
       "Mostwatchedmovies_Sport                                                                            0   \n",
       "Mostwatchedmovies_Thriller                                                                         0   \n",
       "Mostwatchedmovies_War                                                                              0   \n",
       "Mostwatchedmovies_Western                                                                          0   \n",
       "Mostwatchedtvprogrammes_Childrens                                                                  0   \n",
       "Mostwatchedtvprogrammes_Comedy                                                                     1   \n",
       "Mostwatchedtvprogrammes_Drama                                                                      1   \n",
       "Mostwatchedtvprogrammes_EntertainmentVarietyShows                                                  1   \n",
       "Mostwatchedtvprogrammes_Factual                                                                    1   \n",
       "Mostwatchedtvprogrammes_Learning                                                                   0   \n",
       "Mostwatchedtvprogrammes_Music                                                                      0   \n",
       "Mostwatchedtvprogrammes_News                                                                       1   \n",
       "Mostwatchedtvprogrammes_ReligionampEthics                                                          0   \n",
       "Mostwatchedtvprogrammes_Sport                                                                      0   \n",
       "Mostwatchedtvprogrammes_Weather                                                                    0   \n",
       "\n",
       "                                                                                               26321  \n",
       "Age                                                                                               26  \n",
       "CapZipCode                                                                                    422101  \n",
       "FaveSports                                         Individual sports‎ (Tennis, Archery, ...), Ind...  \n",
       "Rating                                                                                           2.0  \n",
       "Gender_F                                                                                           1  \n",
       "Gender_M                                                                                           0  \n",
       "Homecountry_Canada                                                                                 0  \n",
       "Homecountry_CzechRepublic                                                                          0  \n",
       "Homecountry_GreatBritain                                                                           0  \n",
       "Homecountry_India                                                                                  1  \n",
       "Homecountry_Italy                                                                                  0  \n",
       "Homecountry_Phillipines                                                                            0  \n",
       "Homecountry_Romania                                                                                0  \n",
       "Homecountry_SaudiArabia                                                                            0  \n",
       "Homecountry_Singapore                                                                              0  \n",
       "Homecountry_Slovenia                                                                               0  \n",
       "Homecountry_UnitedKingdom                                                                          0  \n",
       "Homecountry_UnitedStatesofAmerica                                                                  0  \n",
       "Income_0                                                                                           1  \n",
       "Income_1                                                                                           0  \n",
       "Income_2                                                                                           0  \n",
       "Income_3                                                                                           0  \n",
       "AlternativeMusic                                                                                   0  \n",
       "AsianPopJPoporKpop                                                                                 0  \n",
       "Blues                                                                                              1  \n",
       "ClassicalMusic                                                                                     0  \n",
       "CountryMusic                                                                                       0  \n",
       "DanceMusic                                                                                         0  \n",
       "EasyListening                                                                                      0  \n",
       "ElectronicMusic                                                                                    0  \n",
       "EuropeanMusicFolkPop                                                                               0  \n",
       "HipHopRap                                                                                          1  \n",
       "IndiePop                                                                                           0  \n",
       "InspirationalinclGospel                                                                            0  \n",
       "Jazz                                                                                               0  \n",
       "LatinMusic                                                                                         0  \n",
       "NewAge                                                                                             0  \n",
       "Opera                                                                                              0  \n",
       "PopPopularmusic                                                                                    0  \n",
       "RampBSoul                                                                                          0  \n",
       "Reggae                                                                                             1  \n",
       "Rock                                                                                               0  \n",
       "SingerSongwriterincFolk                                                                            0  \n",
       "WorldMusicBeats                                                                                    0  \n",
       "ActionandAdventure                                                                                 0  \n",
       "Anthologies                                                                                        0  \n",
       "Art                                                                                                0  \n",
       "Autobiographies                                                                                    0  \n",
       "Biographies                                                                                        0  \n",
       "Childrens                                                                                          0  \n",
       "Childrensliterature                                                                                0  \n",
       "Comics                                                                                             1  \n",
       "Cookbooks                                                                                          1  \n",
       "Diaries                                                                                            0  \n",
       "Drama                                                                                              0  \n",
       "Encyclopedias                                                                                      1  \n",
       "Eroticfiction                                                                                      0  \n",
       "Fantasy                                                                                            0  \n",
       "Guide                                                                                              1  \n",
       "History                                                                                            0  \n",
       "Horror                                                                                             0  \n",
       "Journals                                                                                           0  \n",
       "Math                                                                                               0  \n",
       "Mystery                                                                                            0  \n",
       "Poetry                                                                                             0  \n",
       "Prayerbooks                                                                                        0  \n",
       "Religious                                                                                          0  \n",
       "Romance                                                                                            0  \n",
       "Satire                                                                                             0  \n",
       "Science                                                                                            0  \n",
       "Sciencefiction                                                                                     1  \n",
       "Selfhelp                                                                                           0  \n",
       "Series                                                                                             0  \n",
       "Travel                                                                                             0  \n",
       "Trilogies                                                                                          0  \n",
       "ad_isAdvertising                                                                                   0  \n",
       "ad_isBrand                                                                                         0  \n",
       "ad_isElectronicdevice                                                                              0  \n",
       "ad_isElectronics                                                                                   0  \n",
       "ad_isFashionaccessory                                                                              0  \n",
       "ad_isFictionalcharacter                                                                            0  \n",
       "ad_isFont                                                                                          0  \n",
       "ad_isFurniture                                                                                     0  \n",
       "ad_isGadget                                                                                        0  \n",
       "ad_isGames                                                                                         0  \n",
       "ad_isGraphicdesign                                                                                 0  \n",
       "ad_isGraphics                                                                                      0  \n",
       "ad_isJewellery                                                                                     0  \n",
       "ad_isLine                                                                                          0  \n",
       "ad_isLogo                                                                                          0  \n",
       "ad_isMagenta                                                                                       0  \n",
       "ad_isMaterialproperty                                                                              0  \n",
       "ad_isMultimedia                                                                                    0  \n",
       "ad_isProduct                                                                                       1  \n",
       "ad_isRectangle                                                                                     0  \n",
       "ad_isSkin                                                                                          0  \n",
       "ad_isTechnology                                                                                    0  \n",
       "ad_isText                                                                                          0  \n",
       "ad_isVehicle                                                                                       0  \n",
       "ad_isYellow                                                                                        0  \n",
       "ad_num_faces                                                                                       0  \n",
       "ad_isAdult_UNLIKELY                                                                                0  \n",
       "ad_isAdult_VERY_UNLIKELY                                                                           1  \n",
       "ad_isSpoof_POSSIBLE                                                                                0  \n",
       "ad_isSpoof_UNLIKELY                                                                                0  \n",
       "ad_isSpoof_VERY_UNLIKELY                                                                           1  \n",
       "ad_isMedical_POSSIBLE                                                                              0  \n",
       "ad_isMedical_UNLIKELY                                                                              1  \n",
       "ad_isMedical_VERY_UNLIKELY                                                                         0  \n",
       "ad_isViolence_VERY_UNLIKELY                                                                        1  \n",
       "ad_isRacy_POSSIBLE                                                                                 0  \n",
       "ad_isRacy_UNLIKELY                                                                                 0  \n",
       "ad_isRacy_VERY_LIKELY                                                                              0  \n",
       "ad_isRacy_VERY_UNLIKELY                                                                            1  \n",
       "ad_isAnimal                                                                                        0  \n",
       "ad_isBelt                                                                                          0  \n",
       "ad_isBottle                                                                                        0  \n",
       "ad_isBox                                                                                           0  \n",
       "ad_isCameralens                                                                                    0  \n",
       "ad_isChair                                                                                         0  \n",
       "ad_isClothing                                                                                      0  \n",
       "ad_isEarrings                                                                                      0  \n",
       "ad_isFood                                                                                          0  \n",
       "ad_isHat                                                                                           0  \n",
       "ad_isLuggagebags                                                                                   0  \n",
       "ad_isMobilephone                                                                                   0  \n",
       "ad_isNecklace                                                                                      0  \n",
       "ad_isPackagedgoods                                                                                 1  \n",
       "ad_isPants                                                                                         0  \n",
       "ad_isPen                                                                                           0  \n",
       "ad_isPerson                                                                                        0  \n",
       "ad_isPillow                                                                                        0  \n",
       "ad_isPoster                                                                                        0  \n",
       "ad_isShoe                                                                                          0  \n",
       "ad_isTop                                                                                           0  \n",
       "ad_isToy                                                                                           0  \n",
       "ad_isWatch                                                                                         0  \n",
       "ad_isWheel                                                                                         0  \n",
       "Mostwatchedmovies_Action                                                                           1  \n",
       "Mostwatchedmovies_Adventure                                                                        0  \n",
       "Mostwatchedmovies_Animation                                                                        0  \n",
       "Mostwatchedmovies_Biography                                                                        0  \n",
       "Mostwatchedmovies_Comedy                                                                           1  \n",
       "Mostwatchedmovies_CrimeandGangster                                                                 0  \n",
       "Mostwatchedmovies_Documentary                                                                      0  \n",
       "Mostwatchedmovies_Drama                                                                            0  \n",
       "Mostwatchedmovies_EpicHistorical                                                                   0  \n",
       "Mostwatchedmovies_Erotic                                                                           0  \n",
       "Mostwatchedmovies_Family                                                                           0  \n",
       "Mostwatchedmovies_Fantasy                                                                          0  \n",
       "Mostwatchedmovies_Horror                                                                           0  \n",
       "Mostwatchedmovies_Musical                                                                          0  \n",
       "Mostwatchedmovies_Mystery                                                                          0  \n",
       "Mostwatchedmovies_Romance                                                                          1  \n",
       "Mostwatchedmovies_SciFi                                                                            0  \n",
       "Mostwatchedmovies_Sport                                                                            0  \n",
       "Mostwatchedmovies_Thriller                                                                         1  \n",
       "Mostwatchedmovies_War                                                                              0  \n",
       "Mostwatchedmovies_Western                                                                          0  \n",
       "Mostwatchedtvprogrammes_Childrens                                                                  0  \n",
       "Mostwatchedtvprogrammes_Comedy                                                                     1  \n",
       "Mostwatchedtvprogrammes_Drama                                                                      1  \n",
       "Mostwatchedtvprogrammes_EntertainmentVarietyShows                                                  0  \n",
       "Mostwatchedtvprogrammes_Factual                                                                    1  \n",
       "Mostwatchedtvprogrammes_Learning                                                                   0  \n",
       "Mostwatchedtvprogrammes_Music                                                                      0  \n",
       "Mostwatchedtvprogrammes_News                                                                       1  \n",
       "Mostwatchedtvprogrammes_ReligionampEthics                                                          0  \n",
       "Mostwatchedtvprogrammes_Sport                                                                      0  \n",
       "Mostwatchedtvprogrammes_Weather                                                                    0  "
      ]
     },
     "execution_count": 9,
     "metadata": {},
     "output_type": "execute_result"
    }
   ],
   "source": [
    "ad_dataset_pd(SELECTED_COLS).sample(5).T"
   ]
  },
  {
   "cell_type": "markdown",
   "metadata": {},
   "source": [
    "## Prepare Word Embeddings"
   ]
  },
  {
   "cell_type": "code",
   "execution_count": null,
   "metadata": {},
   "outputs": [],
   "source": [
    "chakin.search(lang='English')"
   ]
  },
  {
   "cell_type": "code",
   "execution_count": null,
   "metadata": {},
   "outputs": [],
   "source": [
    "WORD_VEC_DIMENSIONS = 50"
   ]
  },
  {
   "cell_type": "code",
   "execution_count": null,
   "metadata": {},
   "outputs": [
    {
     "name": "stdout",
     "output_type": "stream",
     "text": [
      "CPU times: user 1.71 ms, sys: 2.48 ms, total: 4.19 ms\n",
      "Wall time: 4.06 ms\n"
     ]
    }
   ],
   "source": [
    "%%time\n",
    "\n",
    "embedding_index = EmbeddingFactory(Path(\"./embeddings/\"), \"GloVe.6B.50d\", WORD_VEC_DIMENSIONS, nrows=None, skiprows=None)"
   ]
  },
  {
   "cell_type": "code",
   "execution_count": null,
   "metadata": {},
   "outputs": [],
   "source": [
    "def transform_embed_col(s:pd.Series, t:Tokenizer, maxlen:int=None):\n",
    "    \"\"\"Tokenizes each row in s using t and pads them to equal length of maxlen. Computes maxlen if not provided\"\"\"\n",
    "    # integer encode the text data\n",
    "    encoded_col = t.texts_to_sequences(s)\n",
    "\n",
    "    # calculate max len of vector and make length equal by padding with zeros\n",
    "    if maxlen is None:\n",
    "        maxlen = max(len(x) for x in encoded_col) \n",
    "        \n",
    "    return pad_sequences(encoded_col, maxlen=maxlen, padding='post'), maxlen"
   ]
  },
  {
   "cell_type": "code",
   "execution_count": null,
   "metadata": {},
   "outputs": [],
   "source": [
    "def create_embedding_data(df:pd.DataFrame) -> Dict:\n",
    "    \"\"\"Compute metadata and embedding matrix for each embedding column in df\"\"\"\n",
    "    \n",
    "    es = defaultdict(dict) # embedding_store\n",
    "    for embed_col in EMBED_COLS:\n",
    "        # Input dataframe and embed_col\n",
    "        t = Tokenizer()\n",
    "        t.fit_on_texts(df[embed_col])\n",
    "        es[embed_col][\"tokenizer\"] = t\n",
    "\n",
    "        # UNK added as tokenizer starts indexing from 1\n",
    "        words = [\"UNK\"] + list(t.word_index.keys()) # in order of tokenizer\n",
    "        es[embed_col][\"vocab_size\"] = len(words)\n",
    "        es[embed_col][\"padded_col\"], es[embed_col][\"maxlen\"] = transform_embed_col(df[embed_col], t)\n",
    "\n",
    "        # create a weight matrix\n",
    "        embeddings = dict.fromkeys(words, \" \".join([\"0\"] * WORD_VEC_DIMENSIONS)) # default embeddings to all words as 0\n",
    "        embeddings.update(dict(embedding_index.fetch_word_vectors(words))) # update for known words\n",
    "        # reorder to match tokenizer's indexing\n",
    "        emb_matrix = pd.DataFrame.from_dict(embeddings, orient=\"index\").loc[words, 0].str.split(\" \", expand=True).to_numpy().astype(np.float16)\n",
    "        es[embed_col][\"embed_matrix\"] = emb_matrix\n",
    "        assert emb_matrix.shape[0] == len(words), f\"For {embed_col}, not all words have embeddings\"\n",
    "        \n",
    "    return es"
   ]
  },
  {
   "cell_type": "markdown",
   "metadata": {},
   "source": [
    "Visual Test"
   ]
  },
  {
   "cell_type": "code",
   "execution_count": null,
   "metadata": {},
   "outputs": [
    {
     "data": {
      "text/plain": [
       "defaultdict(dict,\n",
       "            {'fav': {'tokenizer': <keras_preprocessing.text.Tokenizer at 0x116843e50>,\n",
       "              'vocab_size': 31,\n",
       "              'padded_col': array([[ 1, 11, 12,  6,  1,  6,  1,  2,  7,  1,  2, 13,  1,  2, 14,  7,\n",
       "                       0],\n",
       "                     [15, 16, 17, 18, 19,  8, 20, 21, 22, 23, 24, 25, 26, 27,  8, 28,\n",
       "                       0],\n",
       "                     [ 1,  9,  1,  9, 10,  3,  4,  5, 29, 30,  3,  4,  5, 10,  3,  4,\n",
       "                       5]], dtype=int32),\n",
       "              'maxlen': 17,\n",
       "              'embed_matrix': array([[ 0.000e+00,  0.000e+00,  0.000e+00, ...,  0.000e+00,  0.000e+00,\n",
       "                       0.000e+00],\n",
       "                     [-2.727e-01,  7.754e-01, -1.018e-01, ..., -7.339e-01,  4.037e-02,\n",
       "                       2.666e-01],\n",
       "                     [-3.970e-01,  1.147e+00, -3.975e-01, ..., -7.515e-01,  3.052e-01,\n",
       "                       2.676e-01],\n",
       "                     ...,\n",
       "                     [ 1.984e-01,  7.700e-01, -8.896e-01, ..., -2.098e+00,  4.414e-01,\n",
       "                       3.662e-01],\n",
       "                     [-1.313e-01,  4.683e-01,  7.515e-01, ...,  9.265e-02,  8.011e-04,\n",
       "                       8.706e-01],\n",
       "                     [-3.476e-02,  6.416e-01, -3.735e-01, ..., -2.340e-01, -2.878e-01,\n",
       "                       9.834e-01]], dtype=float16)},\n",
       "             'unfav': {'tokenizer': <keras_preprocessing.text.Tokenizer at 0x145844c50>,\n",
       "              'vocab_size': 33,\n",
       "              'padded_col': array([[ 1,  7,  8,  9, 10,  2,  3,  4,  5,  2,  3,  4,  5, 11, 12,  0],\n",
       "                     [13, 14, 15, 16, 17, 18, 19, 20, 21, 22,  1,  6, 23, 24, 25, 26],\n",
       "                     [27, 28, 29, 30,  6, 31, 32,  0,  0,  0,  0,  0,  0,  0,  0,  0]],\n",
       "                    dtype=int32),\n",
       "              'maxlen': 16,\n",
       "              'embed_matrix': array([[ 0.0000e+00,  0.0000e+00,  0.0000e+00, ...,  0.0000e+00,\n",
       "                       0.0000e+00,  0.0000e+00],\n",
       "                     [ 1.9541e+00, -1.1260e+00, -3.7671e-01, ..., -5.5273e-01,\n",
       "                       1.4057e-03, -2.6807e-01],\n",
       "                     [-4.8706e-02,  9.3750e-02, -3.8525e-01, ..., -3.8916e-01,\n",
       "                       8.7354e-01, -4.0234e-01],\n",
       "                     ...,\n",
       "                     [ 5.2637e-01, -4.1675e-01, -8.2397e-02, ...,  3.9038e-01,\n",
       "                       2.4063e-02, -6.2891e-01],\n",
       "                     [ 6.1865e-01,  1.1914e-01, -4.6777e-01, ...,  6.4819e-02,\n",
       "                      -2.1973e-01, -5.2051e-01],\n",
       "                     [-6.2793e-01,  9.8389e-02, -5.7764e-01, ...,  1.0864e-01,\n",
       "                      -5.2588e-01, -3.0298e-01]], dtype=float16)}})"
      ]
     },
     "execution_count": 15,
     "metadata": {},
     "output_type": "execute_result"
    }
   ],
   "source": [
    "create_embedding_data(ad_dataset_pd(EMBED_COLS).sample(n=3))"
   ]
  },
  {
   "cell_type": "markdown",
   "metadata": {
    "heading_collapsed": true
   },
   "source": [
    "## Transform Data"
   ]
  },
  {
   "cell_type": "code",
   "execution_count": null,
   "metadata": {
    "hidden": true
   },
   "outputs": [],
   "source": [
    "def dict_project(d:Dict, cols:List[str]) -> Dict:\n",
    "    \"\"\"Returns a new dictionary with only cols keys\"\"\"\n",
    "    return {k:v for k, v in d.items() if k in cols}"
   ]
  },
  {
   "cell_type": "code",
   "execution_count": null,
   "metadata": {
    "hidden": true
   },
   "outputs": [],
   "source": [
    "class IndexerForVocab:\n",
    "    def __init__(self, vocab_list:List[str], oov_index:int=0):\n",
    "        \"\"\"\n",
    "        Creates a string indexer for the vocabulary with out of vocabulary (oov) indexing\n",
    "        \"\"\"\n",
    "        self._vocab_map = {v:i+1 for i, v in enumerate(vocab_list)}\n",
    "        self._oov = oov_index\n",
    "        \n",
    "    def __repr__(self):\n",
    "        return f\"Map for {len(self)} keys with 1 OOV key\"\n",
    "    \n",
    "    def __len__(self):\n",
    "        return len(self._vocab_map) + 1\n",
    "        \n",
    "    def index_of(self, item:str):\n",
    "        \"\"\"\n",
    "        Index of item in the vocabulary\n",
    "        \"\"\"\n",
    "        return self._vocab_map.get(item, self._oov)\n",
    "    \n",
    "    def index_of_mux(self, items:List[str]):\n",
    "        return [self.index_of(i) for i in items]"
   ]
  },
  {
   "cell_type": "markdown",
   "metadata": {
    "heading_collapsed": true,
    "hidden": true
   },
   "source": [
    "### Age\n",
    "\n",
    "Convert to a number and remove any outliers"
   ]
  },
  {
   "cell_type": "code",
   "execution_count": null,
   "metadata": {
    "hidden": true
   },
   "outputs": [],
   "source": [
    "# Obtained from Tensorflow Data Validation APIs data-exploration/tensorflow-data-validation.ipynb\n",
    "\n",
    "MEAN_AGE, STD_AGE, MEDIAN_AGE, MAX_AGE = 31.74, 12.07, 29, 140"
   ]
  },
  {
   "cell_type": "code",
   "execution_count": null,
   "metadata": {
    "hidden": true
   },
   "outputs": [],
   "source": [
    "def fix_age(age_str:tf.string, default_age=MEDIAN_AGE) -> int:\n",
    "    \"\"\"Typecast age to an integer and update outliers with the default\"\"\"\n",
    "    try:\n",
    "        age = int(age_str)\n",
    "        if age < 0 or age > MAX_AGE:\n",
    "            raise ValueError(f\"{age} is not a valid age\")\n",
    "    except:\n",
    "        age = default_age\n",
    "    normalized_age = (age - MEAN_AGE) / STD_AGE\n",
    "    return normalized_age"
   ]
  },
  {
   "cell_type": "markdown",
   "metadata": {
    "hidden": true
   },
   "source": [
    "#### Visual Tests"
   ]
  },
  {
   "cell_type": "code",
   "execution_count": null,
   "metadata": {
    "hidden": true
   },
   "outputs": [],
   "source": [
    "fix_age(\"50\"), fix_age(\"50.5\"), fix_age(\"-10\"), fix_age(\"bad_age_10\"), fix_age(\"300\")"
   ]
  },
  {
   "cell_type": "markdown",
   "metadata": {
    "heading_collapsed": true,
    "hidden": true
   },
   "source": [
    "### Zip Code\n",
    "\n",
    "Prepare zip-code column for one-hot encoding each character"
   ]
  },
  {
   "cell_type": "code",
   "execution_count": null,
   "metadata": {
    "hidden": true
   },
   "outputs": [],
   "source": [
    "DEFAULT_ZIP_CODE, FIRST_K_ZIP_DIGITS = \"00000\", 2\n",
    "\n",
    "zip_code_indexer = IndexerForVocab(string.digits + string.ascii_lowercase + string.ascii_uppercase)"
   ]
  },
  {
   "cell_type": "code",
   "execution_count": null,
   "metadata": {
    "hidden": true
   },
   "outputs": [],
   "source": [
    "def fix_zip_code_tensor(zip_code:tf.string, n_digits, indexer) -> List[str]:\n",
    "    \"\"\"Extracts the the first n_digits as a list\"\"\"\n",
    "    zip_digits = []\n",
    "    try:\n",
    "        if isinstance(zip_code, tf.Tensor):\n",
    "            zip_code = zip_code.numpy()[0].decode('ascii', errors=\"ignore\") # very ineffecient way\n",
    "        zip_digits = list(zip_code.strip()[:n_digits])\n",
    "    except:\n",
    "        zip_digits = list(DEFAULT_ZIP_CODE[:n_digits])\n",
    "    return tf.concat( [\n",
    "        tf.one_hot(\n",
    "            indexer.index_of(d), len(indexer)\n",
    "        ) for d in zip_digits\n",
    "    ], 0 )\n",
    "\n",
    "def fix_zip_code(zip_code:str, n_digits, indexer) -> List[str]:\n",
    "    \"\"\"Extracts the the first n_digits as a list\"\"\"\n",
    "    zip_digits = []\n",
    "    try:\n",
    "        zip_digits = list(zip_code.strip()[:n_digits])\n",
    "    except:\n",
    "        zip_digits = list(DEFAULT_ZIP_CODE[:n_digits])\n",
    "    return np.ravel(np.eye(len(indexer))[indexer.index_of_mux(zip_digits)])"
   ]
  },
  {
   "cell_type": "markdown",
   "metadata": {
    "hidden": true
   },
   "source": [
    "#### Visual Tests"
   ]
  },
  {
   "cell_type": "code",
   "execution_count": null,
   "metadata": {
    "hidden": true
   },
   "outputs": [],
   "source": [
    "test_zip_code_indexer = IndexerForVocab(string.digits)\n",
    "\n",
    "(fix_zip_code(\"43556\", 10, test_zip_code_indexer),\n",
    "fix_zip_code(\"43556\", 2, test_zip_code_indexer),\n",
    "fix_zip_code(\"43556\", 4, test_zip_code_indexer),\n",
    "fix_zip_code(None, 3, test_zip_code_indexer))"
   ]
  },
  {
   "cell_type": "markdown",
   "metadata": {
    "heading_collapsed": true,
    "hidden": true
   },
   "source": [
    "### Favorite Sports\n",
    "\n",
    "Two approaches,\n",
    "1. Consider the first `K` sports mentioned by each user and one-hot encode each separately\n",
    "2. Multi label binarize all the sports as there are only 15 unique sports"
   ]
  },
  {
   "cell_type": "code",
   "execution_count": null,
   "metadata": {
    "hidden": true
   },
   "outputs": [],
   "source": [
    "FAV_SPORTS_UNKNOWN = \"UNK_SPORT\"\n",
    "ALL_FAV_SPORTS = ['Olympic sports', 'Winter sports', 'Nothing', 'I do not like Sports', 'Equestrian sports', 'Skating sports', 'Precision sports', 'Hunting sports', 'Motor sports', 'Team sports', 'Individual sports', 'Other', 'Water sports', 'Indoor sports', 'Endurance sports']\n",
    "\n",
    "fav_sports_binarizer = MultiLabelBinarizer()\n",
    "fav_sports_binarizer.fit([ALL_FAV_SPORTS])"
   ]
  },
  {
   "cell_type": "code",
   "execution_count": null,
   "metadata": {
    "hidden": true
   },
   "outputs": [],
   "source": [
    "def fav_sports_multi_select_str_to_list(sports_str:Union[str, tf.Tensor]) -> List[str]:\n",
    "    # remove commas that dont separate different user selections\n",
    "    # example, commas inside paranthesis of \"Individual sports (Tennis, Archery, ...)\" dont make new sports\n",
    "    if isinstance(sports_str, tf.Tensor):\n",
    "        sports_str = sports_str.numpy()[0].decode('ascii', errors=\"ignore\")\n",
    "    else:\n",
    "        sports_str = sports_str.encode(\"ascii\", errors=\"ignore\").decode(\"ascii\") # remove non-ascii chars\n",
    "    sports = re.sub(r\"\\s*\\(.*,.*\\)\\s*\", \"\", sports_str)\n",
    "    return re.split(r\"\\s*,\\s*\", sports)\n",
    "\n",
    "def fix_fav_sports_mlb(sports_str:str) -> List[int]:\n",
    "    sports = fav_sports_multi_select_str_to_list(sports_str)\n",
    "    return fav_sports_binarizer.transform([sports])[0]\n",
    "\n",
    "def fix_fav_sports_firstk(sports_str:str, first_k:int, pad_constant:int) -> List[str]:\n",
    "    sports = fav_sports_multi_select_str_to_list(sports_str)\n",
    "    right_pad_width = first_k - len(sports_enc)\n",
    "    result = [sports + [pad_constant] * right_pad_width][:first_k]\n",
    "    return result"
   ]
  },
  {
   "cell_type": "markdown",
   "metadata": {
    "hidden": true
   },
   "source": [
    "#### Visual Tests"
   ]
  },
  {
   "cell_type": "code",
   "execution_count": null,
   "metadata": {
    "hidden": true
   },
   "outputs": [],
   "source": [
    "(\n",
    "    fix_fav_sports_mlb(\"Individual sports (Tennis, Archery, ...), Indoor sports, Endurance sports, Skating sports\"),\n",
    "    fix_fav_sports_mlb(\"Skating sports\"),\n",
    "    fix_fav_sports_mlb(\"Individual sports (Tennis, Archery, ...)\"),\n",
    "    fix_fav_sports_mlb(\"Indoor sports, Endurance sports, Skating sports\"),\n",
    ")"
   ]
  },
  {
   "cell_type": "markdown",
   "metadata": {
    "hidden": true
   },
   "source": [
    "### Target"
   ]
  },
  {
   "cell_type": "code",
   "execution_count": null,
   "metadata": {
    "hidden": true
   },
   "outputs": [],
   "source": [
    "RATINGS_CARDINALITY = 2 # not zero based indexing i.e. ratings range from 1 to 5"
   ]
  },
  {
   "cell_type": "code",
   "execution_count": null,
   "metadata": {
    "hidden": true
   },
   "outputs": [],
   "source": [
    "def create_target_pd(rating_str:str):\n",
    "    return np.eye(RATINGS_CARDINALITY, dtype=int)[int(float(rating_str)) - 1]"
   ]
  },
  {
   "cell_type": "markdown",
   "metadata": {},
   "source": [
    "## Featurize"
   ]
  },
  {
   "cell_type": "code",
   "execution_count": 29,
   "metadata": {},
   "outputs": [],
   "source": [
    "TEST_FRAC = 0.2\n",
    "FAIRNESS_REWEIGHING_ENABLED = False"
   ]
  },
  {
   "cell_type": "code",
   "execution_count": null,
   "metadata": {},
   "outputs": [],
   "source": [
    "def transform_pd_X(df:pd.DataFrame, inp_cols:List[str]):\n",
    "    \"\"\"Original dataframe will be modified\"\"\"\n",
    "    df[AGE] = df[AGE].apply(lambda age: [fix_age(age)])\n",
    "    df[ZIP_CODE] = df[ZIP_CODE].apply(lambda zc: fix_zip_code(zc, n_digits=2, indexer=zip_code_indexer))\n",
    "    df[FAVE_SPORTS] = df[FAVE_SPORTS].apply(fix_fav_sports_mlb)\n",
    "\n",
    "    int_cols = [GENDER_F, GENDER_M, AD_NUM_FACES] +\\\n",
    "               AD_LABEL_COLS +\\\n",
    "               AD_SAFE_SEARCH_COLS +\\\n",
    "               SELECTED_HOMECOUNTRY_COLS +\\\n",
    "               SELECTED_INCOME_COLS +\\\n",
    "               SELECTED_MOSTLISTENEDMUSICS_COLS +\\\n",
    "               SELECTED_MOSTREADBOOKS_COLS +\\\n",
    "               SELECTED_MOSTWATCHEDMOVIES_COLS +\\\n",
    "               SELECTED_MOSTWATCHEDTVPROGRAMMES_COLS +\\\n",
    "               AD_OBJECT_COLS\n",
    "    \n",
    "    df[int_cols] = df[int_cols].applymap(lambda f: [int(f)])\n",
    "    \n",
    "    df[\"X\"] = df[inp_cols].apply(np.concatenate, axis=1)\n",
    "    # TODO: vectorize, else inefficient to sequentially loop over all examples\n",
    "    X = np.array([x for x in df[\"X\"]])\n",
    "    return X"
   ]
  },
  {
   "cell_type": "code",
   "execution_count": null,
   "metadata": {},
   "outputs": [],
   "source": [
    "def merge_minority_classes(df, target_col):\n",
    "    \"\"\"Original dataframe is modified\"\"\"\n",
    "    df.loc[df[target_col] != \"1.0\", target_col] = \"2.0\"\n",
    "    return df"
   ]
  },
  {
   "cell_type": "code",
   "execution_count": null,
   "metadata": {},
   "outputs": [],
   "source": [
    "def transform_pd_y(df:pd.DataFrame, target_col:str):\n",
    "    \"\"\"Original dataframe will be modified\"\"\"\n",
    "    if (RATINGS_CARDINALITY == 2) :\n",
    "        df = merge_minority_classes(df, target_col)\n",
    "        \n",
    "    df[\"y\"] = df[target_col].apply(create_target_pd)\n",
    "    # TODO: vectorize, else inefficient to sequentially loop over all examples\n",
    "    y = np.array([y for y in df[\"y\"]])\n",
    "    return y"
   ]
  },
  {
   "cell_type": "code",
   "execution_count": null,
   "metadata": {},
   "outputs": [],
   "source": [
    "def create_dataset_pd(inp_cols:List[str]=SELECTED_INP_COLS, target_col:str=TARGET_COL, fraction:float=1, test_frac:float=TEST_FRAC) -> Tuple[np.ndarray, np.ndarray, np.ndarray, np.ndarray, List]:\n",
    "    \"\"\"\n",
    "    Prepare the dataset for training on a fraction of all input data\n",
    "    Columns using embeddings are split seperately and returned in list of tuples called embed_features\n",
    "    \"\"\"\n",
    "    # NOTE: RANDOM_SEED should be same for both splits\n",
    "    # Create (train, test) split of selected columns and target \n",
    "    df = ad_dataset_pd(SELECTED_COLS + EMBED_COLS).sample(frac=fraction)\n",
    "    \n",
    "    sample_weights = np.ones(shape=(df.shape[0],)) # equal weight to all examples\n",
    "    if FAIRNESS_REWEIGHING_ENABLED:\n",
    "        logging.warning(\"Note: Also generating weights for features\")\n",
    "        bias_cols = [GENDER_F, AGE]\n",
    "        sample_weights = reweigh_biased_cols(bias_cols, df)\n",
    "    \n",
    "    X, y = transform_pd_X(df[SELECTED_COLS], inp_cols), transform_pd_y(df[SELECTED_COLS], target_col)\n",
    "    X_train, X_test, y_train, y_test = train_test_split(X, y, test_size=test_frac, random_state=RANDOM_SEED)\n",
    "    \n",
    "    # Create (train, test) split for each embedding column\n",
    "    embed_features, embedding_store = {}, create_embedding_data(df)\n",
    "    # TODO: this loop can be vectorized for speed\n",
    "    for embed_col in EMBED_COLS:\n",
    "        X_embed_train, X_embed_test = train_test_split(embedding_store[embed_col][\"padded_col\"], test_size=test_frac, random_state=RANDOM_SEED)\n",
    "        embed_features[embed_col] = {\"train\": X_embed_train, \"test\": X_embed_test}\n",
    "        \n",
    "    sample_weights_train, _ = train_test_split(sample_weights, test_size=test_frac, random_state=RANDOM_SEED)\n",
    "        \n",
    "    return X_train, X_test, y_train, y_test, embed_features, embedding_store, sample_weights_train"
   ]
  },
  {
   "cell_type": "markdown",
   "metadata": {
    "heading_collapsed": true
   },
   "source": [
    "## Tensorboard\n",
    "\n",
    "Monitor training and other stats"
   ]
  },
  {
   "cell_type": "code",
   "execution_count": null,
   "metadata": {
    "hidden": true
   },
   "outputs": [],
   "source": [
    "from tensorboard import notebook"
   ]
  },
  {
   "cell_type": "code",
   "execution_count": null,
   "metadata": {
    "hidden": true
   },
   "outputs": [],
   "source": [
    "%reload_ext tensorboard"
   ]
  },
  {
   "cell_type": "markdown",
   "metadata": {
    "hidden": true
   },
   "source": [
    "Start tensorboard"
   ]
  },
  {
   "cell_type": "code",
   "execution_count": null,
   "metadata": {
    "hidden": true
   },
   "outputs": [],
   "source": [
    "%tensorboard --logdir logs --port 6006"
   ]
  },
  {
   "cell_type": "code",
   "execution_count": null,
   "metadata": {
    "hidden": true
   },
   "outputs": [],
   "source": [
    "notebook.list()"
   ]
  },
  {
   "cell_type": "markdown",
   "metadata": {
    "heading_collapsed": true
   },
   "source": [
    "## Model\n",
    "\n",
    "Create a model and train using high level APIs like `tf.keras` and `tf.estimator`"
   ]
  },
  {
   "cell_type": "markdown",
   "metadata": {
    "hidden": true
   },
   "source": [
    "<img src=\"https://i.imgur.com/Z1eVQu9.png\" width=\"600\" height=\"300\">\n",
    "<p style=\"text-align: center;\"><strong>Image Credits:</strong> https://www.kaggle.com/colinmorris/embedding-layers</p>"
   ]
  },
  {
   "cell_type": "code",
   "execution_count": 34,
   "metadata": {
    "hidden": true,
    "scrolled": true
   },
   "outputs": [
    {
     "name": "stderr",
     "output_type": "stream",
     "text": [
      "/Users/nipasuma/opt/miniconda3/envs/env37/lib/python3.7/site-packages/ipykernel_launcher.py:3: SettingWithCopyWarning: \n",
      "A value is trying to be set on a copy of a slice from a DataFrame.\n",
      "Try using .loc[row_indexer,col_indexer] = value instead\n",
      "\n",
      "See the caveats in the documentation: https://pandas.pydata.org/pandas-docs/stable/user_guide/indexing.html#returning-a-view-versus-a-copy\n",
      "  This is separate from the ipykernel package so we can avoid doing imports until\n",
      "/Users/nipasuma/opt/miniconda3/envs/env37/lib/python3.7/site-packages/ipykernel_launcher.py:4: SettingWithCopyWarning: \n",
      "A value is trying to be set on a copy of a slice from a DataFrame.\n",
      "Try using .loc[row_indexer,col_indexer] = value instead\n",
      "\n",
      "See the caveats in the documentation: https://pandas.pydata.org/pandas-docs/stable/user_guide/indexing.html#returning-a-view-versus-a-copy\n",
      "  after removing the cwd from sys.path.\n",
      "/Users/nipasuma/opt/miniconda3/envs/env37/lib/python3.7/site-packages/ipykernel_launcher.py:5: SettingWithCopyWarning: \n",
      "A value is trying to be set on a copy of a slice from a DataFrame.\n",
      "Try using .loc[row_indexer,col_indexer] = value instead\n",
      "\n",
      "See the caveats in the documentation: https://pandas.pydata.org/pandas-docs/stable/user_guide/indexing.html#returning-a-view-versus-a-copy\n",
      "  \"\"\"\n",
      "/Users/nipasuma/opt/miniconda3/envs/env37/lib/python3.7/site-packages/pandas/core/frame.py:2963: SettingWithCopyWarning: \n",
      "A value is trying to be set on a copy of a slice from a DataFrame.\n",
      "Try using .loc[row_indexer,col_indexer] = value instead\n",
      "\n",
      "See the caveats in the documentation: https://pandas.pydata.org/pandas-docs/stable/user_guide/indexing.html#returning-a-view-versus-a-copy\n",
      "  self[k1] = value[k2]\n",
      "/Users/nipasuma/opt/miniconda3/envs/env37/lib/python3.7/site-packages/ipykernel_launcher.py:20: SettingWithCopyWarning: \n",
      "A value is trying to be set on a copy of a slice from a DataFrame.\n",
      "Try using .loc[row_indexer,col_indexer] = value instead\n",
      "\n",
      "See the caveats in the documentation: https://pandas.pydata.org/pandas-docs/stable/user_guide/indexing.html#returning-a-view-versus-a-copy\n",
      "/Users/nipasuma/opt/miniconda3/envs/env37/lib/python3.7/site-packages/pandas/core/indexing.py:671: SettingWithCopyWarning: \n",
      "A value is trying to be set on a copy of a slice from a DataFrame\n",
      "\n",
      "See the caveats in the documentation: https://pandas.pydata.org/pandas-docs/stable/user_guide/indexing.html#returning-a-view-versus-a-copy\n",
      "  self._setitem_with_indexer(indexer, value)\n",
      "/Users/nipasuma/opt/miniconda3/envs/env37/lib/python3.7/site-packages/ipykernel_launcher.py:3: SettingWithCopyWarning: \n",
      "A value is trying to be set on a copy of a slice from a DataFrame\n",
      "\n",
      "See the caveats in the documentation: https://pandas.pydata.org/pandas-docs/stable/user_guide/indexing.html#returning-a-view-versus-a-copy\n",
      "  This is separate from the ipykernel package so we can avoid doing imports until\n",
      "/Users/nipasuma/opt/miniconda3/envs/env37/lib/python3.7/site-packages/ipykernel_launcher.py:6: SettingWithCopyWarning: \n",
      "A value is trying to be set on a copy of a slice from a DataFrame.\n",
      "Try using .loc[row_indexer,col_indexer] = value instead\n",
      "\n",
      "See the caveats in the documentation: https://pandas.pydata.org/pandas-docs/stable/user_guide/indexing.html#returning-a-view-versus-a-copy\n",
      "  \n"
     ]
    },
    {
     "name": "stdout",
     "output_type": "stream",
     "text": [
      "CPU times: user 2min 23s, sys: 1.14 s, total: 2min 24s\n",
      "Wall time: 2min 24s\n"
     ]
    }
   ],
   "source": [
    "%%time\n",
    "\n",
    "X_train, X_test, y_train, y_test, embed_features, embedding_store, sample_weights_train = create_dataset_pd()"
   ]
  },
  {
   "cell_type": "code",
   "execution_count": 35,
   "metadata": {
    "hidden": true
   },
   "outputs": [
    {
     "data": {
      "text/plain": [
       "1.0"
      ]
     },
     "execution_count": 35,
     "metadata": {},
     "output_type": "execute_result"
    }
   ],
   "source": [
    "np.mean(sample_weights_train)"
   ]
  },
  {
   "cell_type": "markdown",
   "metadata": {
    "hidden": true
   },
   "source": [
    "Save the transformed data for repeatable future experiments\n",
    "\n",
    "**TODO:** Use a dictionary instead of a tuple"
   ]
  },
  {
   "cell_type": "code",
   "execution_count": 36,
   "metadata": {
    "hidden": true
   },
   "outputs": [],
   "source": [
    "inp = X_train, X_test, y_train, y_test, embed_features, embedding_store, sample_weights_train\n",
    "\n",
    "with open(f\"inp-{RANDOM_SEED}.pickle\", \"wb\") as f:\n",
    "    pickle.dump(inp, f)"
   ]
  },
  {
   "cell_type": "markdown",
   "metadata": {
    "hidden": true
   },
   "source": [
    "### Balance training data classes : Random oversampling , SMOTE"
   ]
  },
  {
   "cell_type": "code",
   "execution_count": 37,
   "metadata": {
    "hidden": true
   },
   "outputs": [],
   "source": [
    "train_embed_feature_1 = embed_features[FAV][\"train\"]\n",
    "train_embed_feature_2 = embed_features[UNFAV][\"train\"]"
   ]
  },
  {
   "cell_type": "code",
   "execution_count": 38,
   "metadata": {
    "hidden": true
   },
   "outputs": [],
   "source": [
    "def balance_classes(X_train , y_train , train_embed_feature_1 , train_embed_feature_2 , smote:bool):\n",
    "    \n",
    "    if FAIRNESS_REWEIGHING_ENABLED:\n",
    "        raise ValueError('Cannot use class balancing with fairness reweighing (FAIRNESS_REWEIGHING_ENABLED = True)')\n",
    "        \n",
    "    # concatenate embedding columns to X_train\n",
    "    X_train_cols = X_train.shape[1]\n",
    "    train_embed_feature_1_cols = train_embed_feature_1.shape[1]\n",
    "    train_embed_feature_2_cols = train_embed_feature_2.shape[1]\n",
    "    \n",
    "    # convert OHE target to normal\n",
    "    y_train_normal = [np.where(r==1)[0][0] for r in y_train]\n",
    "    \n",
    "    x_train_concat = np.concatenate((X_train,train_embed_feature_1,train_embed_feature_2),axis=1)\n",
    "    \n",
    "    if smote:\n",
    "        smote_oversample = SMOTE()\n",
    "        X_t, y_t = smote_oversample.fit_resample(x_train_concat, y_train_normal)\n",
    "    else:\n",
    "        random_oversample = RandomOverSampler()\n",
    "        X_t, y_t = random_oversample.fit_sample(x_train_concat, y_train_normal)\n",
    "    \n",
    "    # regenerate x_train , y_train and embedding columns from X_t\n",
    "    y_train = np.eye(RATINGS_CARDINALITY, dtype=int)[y_t]\n",
    "    X_train = X_t[:,0:X_train_cols]\n",
    "    train_embed_feature_1 = X_t[:, X_train_cols : X_train_cols+train_embed_feature_1_cols]\n",
    "    train_embed_feature_2 = X_t[:, X_train_cols+train_embed_feature_1_cols : X_train_cols+train_embed_feature_1_cols+train_embed_feature_2_cols]\n",
    "    \n",
    "    return X_train, y_train, train_embed_feature_1, train_embed_feature_2"
   ]
  },
  {
   "cell_type": "code",
   "execution_count": 39,
   "metadata": {
    "hidden": true
   },
   "outputs": [],
   "source": [
    "X_train, y_train, embed_features[FAV][\"train\"], embed_features[UNFAV][\"train\"] = balance_classes(\n",
    "    X_train,y_train, train_embed_feature_1,train_embed_feature_2, True)"
   ]
  },
  {
   "cell_type": "code",
   "execution_count": 40,
   "metadata": {
    "hidden": true
   },
   "outputs": [
    {
     "data": {
      "text/plain": [
       "((31962, 308), (31962, 2), (31962, 40), (31962, 34))"
      ]
     },
     "execution_count": 40,
     "metadata": {},
     "output_type": "execute_result"
    }
   ],
   "source": [
    "X_train.shape, y_train.shape, embed_features[FAV][\"train\"].shape, embed_features[UNFAV][\"train\"].shape"
   ]
  },
  {
   "cell_type": "markdown",
   "metadata": {
    "hidden": true
   },
   "source": [
    "Check the number of samples per class"
   ]
  },
  {
   "cell_type": "code",
   "execution_count": 41,
   "metadata": {
    "hidden": true
   },
   "outputs": [
    {
     "data": {
      "text/plain": [
       "(1    15981\n",
       " 0    15981\n",
       " Name: 0, dtype: int64, 1    3933\n",
       " 0    3267\n",
       " Name: 0, dtype: int64)"
      ]
     },
     "execution_count": 41,
     "metadata": {},
     "output_type": "execute_result"
    }
   ],
   "source": [
    "pd.DataFrame(y_train)[0].value_counts(), pd.DataFrame(y_test)[0].value_counts()"
   ]
  },
  {
   "cell_type": "markdown",
   "metadata": {
    "hidden": true
   },
   "source": [
    "Save the transformed data for repeatable future experiments\n",
    "\n",
    "**TODO:** Use a dictionary instead of a tuple"
   ]
  },
  {
   "cell_type": "code",
   "execution_count": 42,
   "metadata": {
    "hidden": true
   },
   "outputs": [],
   "source": [
    "inp = X_train, X_test, y_train, y_test, embed_features, embedding_store, sample_weights_train\n",
    "\n",
    "with open(f\"inp-{RANDOM_SEED}.pickle\", \"wb\") as f:\n",
    "    pickle.dump(inp, f)"
   ]
  },
  {
   "cell_type": "markdown",
   "metadata": {
    "hidden": true
   },
   "source": [
    "### Train"
   ]
  },
  {
   "cell_type": "code",
   "execution_count": 43,
   "metadata": {
    "hidden": true
   },
   "outputs": [],
   "source": [
    "keras_model_metrics = [\n",
    "    \"accuracy\",\n",
    "    tf.keras.metrics.TruePositives(name='tp'),\n",
    "    tf.keras.metrics.FalsePositives(name='fp'),\n",
    "    tf.keras.metrics.TrueNegatives(name='tn'),\n",
    "    tf.keras.metrics.FalseNegatives(name='fn'), \n",
    "    tf.keras.metrics.Precision(name='precision'),\n",
    "    tf.keras.metrics.Recall(name='recall'),\n",
    "    tf.keras.metrics.AUC(name='auc')\n",
    "]\n",
    "train_histories = []"
   ]
  },
  {
   "cell_type": "code",
   "execution_count": 44,
   "metadata": {
    "hidden": true
   },
   "outputs": [
    {
     "name": "stdout",
     "output_type": "stream",
     "text": [
      "Size of train cat & num features  (31962, 308)\n",
      "Size of output for train  (31962, 2)\n",
      "Size of test cat & num features  (7200, 308)\n",
      "Size of output for test  (7200, 2)\n",
      "No. of embedded features  2\n"
     ]
    }
   ],
   "source": [
    "print(\"Size of train cat & num features \",X_train.shape)\n",
    "print(\"Size of output for train \",y_train.shape)\n",
    "print(\"Size of test cat & num features \",X_test.shape)\n",
    "print(\"Size of output for test \",y_test.shape)\n",
    "print(\"No. of embedded features \",len(embed_features))"
   ]
  },
  {
   "cell_type": "code",
   "execution_count": 45,
   "metadata": {
    "hidden": true
   },
   "outputs": [
    {
     "data": {
      "text/plain": [
       "defaultdict(dict,\n",
       "            {'fav': {'tokenizer': <keras_preprocessing.text.Tokenizer at 0x1413db810>,\n",
       "              'vocab_size': 1168,\n",
       "              'padded_col': array([[306,  57, 307, ...,   0,   0,   0],\n",
       "                     [149, 314, 150, ...,   0,   0,   0],\n",
       "                     [319, 320, 321, ...,   0,   0,   0],\n",
       "                     ...,\n",
       "                     [266,   7, 206, ...,   0,   0,   0],\n",
       "                     [627, 628,  24, ...,   0,   0,   0],\n",
       "                     [655, 656, 657, ...,   0,   0,   0]], dtype=int32),\n",
       "              'maxlen': 40,\n",
       "              'embed_matrix': array([[ 0.     ,  0.     ,  0.     , ...,  0.     ,  0.     ,  0.     ],\n",
       "                     [ 0.2212 , -0.1628 , -0.5483 , ..., -0.4102 ,  0.8545 ,  0.886  ],\n",
       "                     [ 0.4722 , -0.4456 , -0.5186 , ...,  0.3494 ,  0.3394 ,  0.255  ],\n",
       "                     ...,\n",
       "                     [-0.6714 ,  0.3394 ,  0.1373 , ..., -0.2112 , -0.0901 ,  1.539  ],\n",
       "                     [-0.05133, -0.2876 ,  0.8276 , ..., -0.04364,  0.6035 ,  1.58   ],\n",
       "                     [ 0.723  , -0.3352 ,  0.6626 , ..., -0.9497 , -0.1682 , -1.014  ]],\n",
       "                    dtype=float16)},\n",
       "             'unfav': {'tokenizer': <keras_preprocessing.text.Tokenizer at 0x14e144310>,\n",
       "              'vocab_size': 949,\n",
       "              'padded_col': array([[248, 249, 250, ...,   0,   0,   0],\n",
       "                     [252,  36,   1, ...,   0,   0,   0],\n",
       "                     [ 51,  12, 254, ...,   0,   0,   0],\n",
       "                     ...,\n",
       "                     [725,  12,  77, ...,   0,   0,   0],\n",
       "                     [110, 522,  39, ...,   0,   0,   0],\n",
       "                     [  7, 566, 567, ...,   0,   0,   0]], dtype=int32),\n",
       "              'maxlen': 34,\n",
       "              'embed_matrix': array([[ 0.     ,  0.     ,  0.     , ...,  0.     ,  0.     ,  0.     ],\n",
       "                     [ 0.4722 , -0.4456 , -0.5186 , ...,  0.3494 ,  0.3394 ,  0.255  ],\n",
       "                     [-0.7734 , -0.1727 ,  0.4092 , ...,  0.505  ,  0.732  ,  0.8203 ],\n",
       "                     ...,\n",
       "                     [ 0.526  ,  0.417  , -0.516  , ...,  0.4404 , -1.059  ,  0.04282],\n",
       "                     [ 0.641  ,  0.4487 , -0.1489 , ..., -0.603  , -0.4229 , -0.8247 ],\n",
       "                     [-0.1705 , -1.476  , -0.5327 , ...,  0.602  , -0.5693 , -0.4377 ]],\n",
       "                    dtype=float16)}})"
      ]
     },
     "execution_count": 45,
     "metadata": {},
     "output_type": "execute_result"
    }
   ],
   "source": [
    "embedding_store"
   ]
  },
  {
   "cell_type": "code",
   "execution_count": 46,
   "metadata": {
    "hidden": true
   },
   "outputs": [
    {
     "name": "stderr",
     "output_type": "stream",
     "text": [
      "WARNING:root:Could't find embeddings for 67 words in fav column\n",
      "WARNING:root:Could't find embeddings for 52 words in unfav column\n"
     ]
    },
    {
     "data": {
      "text/plain": [
       "(None, None)"
      ]
     },
     "execution_count": 46,
     "metadata": {},
     "output_type": "execute_result"
    }
   ],
   "source": [
    "def log_unknown_word_count(col:str):\n",
    "    unk_embed_vec = np.zeros((embedding_store[col][\"vocab_size\"], WORD_VEC_DIMENSIONS))\n",
    "    num_rows = np.count_nonzero(embedding_store[col][\"embed_matrix\"] == unk_embed_vec, axis=1).sum() / WORD_VEC_DIMENSIONS\n",
    "    logging.warning(f\"Could't find embeddings for {int(num_rows)} words in {col} column\")\n",
    "    \n",
    "log_unknown_word_count(FAV), log_unknown_word_count(UNFAV) "
   ]
  },
  {
   "cell_type": "code",
   "execution_count": 47,
   "metadata": {
    "hidden": true
   },
   "outputs": [],
   "source": [
    "def create_embed_flat_layer(col:str, trainable_embed:bool=False):\n",
    "    col_input = Input(shape=(embedding_store[col]['maxlen'],), name=col)\n",
    "    col_embedded = Embedding(embedding_store[col]['vocab_size'], WORD_VEC_DIMENSIONS, weights=[embedding_store[col]['embed_matrix']],\n",
    "                     input_length = embedding_store[col]['maxlen'], trainable=trainable_embed)(col_input)\n",
    "    col_embedded_flat = Flatten()(col_embedded)\n",
    "    return col_input, col_embedded_flat"
   ]
  },
  {
   "cell_type": "code",
   "execution_count": 48,
   "metadata": {
    "hidden": true
   },
   "outputs": [],
   "source": [
    "def model_arch(inp):\n",
    "    out = Dense(20, activation='relu')(inp)\n",
    "    out = Dense(10, activation='relu')(out)\n",
    "    return Dense(RATINGS_CARDINALITY, activation='softmax')(out) "
   ]
  },
  {
   "cell_type": "code",
   "execution_count": 49,
   "metadata": {
    "hidden": true
   },
   "outputs": [],
   "source": [
    "def create_model_with_embeddings():\n",
    "    # Input layers\n",
    "    selected_cols_input = Input(shape=(X_train.shape[1],), name=\"non_embed_inputs\")\n",
    "    fav_input, fav_embed = create_embed_flat_layer(FAV)\n",
    "    unfav_input, unfav_embed = create_embed_flat_layer(UNFAV)\n",
    "\n",
    "    # Concatenate the layers\n",
    "    concatenated = concatenate([fav_embed, unfav_embed, selected_cols_input]) \n",
    "    out = model_arch(concatenated)\n",
    "\n",
    "    # Create the model\n",
    "    return Model(\n",
    "        inputs = [fav_input, unfav_input, selected_cols_input],\n",
    "        outputs = out,\n",
    "    )"
   ]
  },
  {
   "cell_type": "code",
   "execution_count": 50,
   "metadata": {
    "hidden": true
   },
   "outputs": [],
   "source": [
    "def create_model_without_embeddings():\n",
    "    selected_cols_input = Input(shape=(X_train.shape[1],), name=\"non_embed_inputs\")\n",
    "    out = model_arch(selected_cols_input)\n",
    "\n",
    "    # Create the model\n",
    "    return Model(\n",
    "        inputs = selected_cols_input,\n",
    "        outputs = out,\n",
    "    )"
   ]
  },
  {
   "cell_type": "code",
   "execution_count": 51,
   "metadata": {
    "hidden": true
   },
   "outputs": [],
   "source": [
    "def model_fit_data(with_embed:bool=True):\n",
    "    d = {}\n",
    "    if with_embed:\n",
    "        d[\"X_train\"] = [embed_features[FAV][\"train\"], embed_features[UNFAV][\"train\"], X_train]\n",
    "        d[\"y_train\"] = y_train\n",
    "        d[\"val_data\"] = ([embed_features[FAV][\"test\"], embed_features[UNFAV][\"test\"], X_test], y_test)\n",
    "    else:\n",
    "        d[\"X_train\"] = X_train\n",
    "        d[\"y_train\"] = y_train\n",
    "        d[\"val_data\"] = (X_test, y_test)\n",
    "    return d"
   ]
  },
  {
   "cell_type": "code",
   "execution_count": 52,
   "metadata": {
    "hidden": true
   },
   "outputs": [
    {
     "name": "stdout",
     "output_type": "stream",
     "text": [
      "Model: \"model\"\n",
      "__________________________________________________________________________________________________\n",
      "Layer (type)                    Output Shape         Param #     Connected to                     \n",
      "==================================================================================================\n",
      "fav (InputLayer)                [(None, 40)]         0                                            \n",
      "__________________________________________________________________________________________________\n",
      "unfav (InputLayer)              [(None, 34)]         0                                            \n",
      "__________________________________________________________________________________________________\n",
      "embedding (Embedding)           (None, 40, 50)       58400       fav[0][0]                        \n",
      "__________________________________________________________________________________________________\n",
      "embedding_1 (Embedding)         (None, 34, 50)       47450       unfav[0][0]                      \n",
      "__________________________________________________________________________________________________\n",
      "flatten (Flatten)               (None, 2000)         0           embedding[0][0]                  \n",
      "__________________________________________________________________________________________________\n",
      "flatten_1 (Flatten)             (None, 1700)         0           embedding_1[0][0]                \n",
      "__________________________________________________________________________________________________\n",
      "non_embed_inputs (InputLayer)   [(None, 308)]        0                                            \n",
      "__________________________________________________________________________________________________\n",
      "concatenate (Concatenate)       (None, 4008)         0           flatten[0][0]                    \n",
      "                                                                 flatten_1[0][0]                  \n",
      "                                                                 non_embed_inputs[0][0]           \n",
      "__________________________________________________________________________________________________\n",
      "dense (Dense)                   (None, 20)           80180       concatenate[0][0]                \n",
      "__________________________________________________________________________________________________\n",
      "dense_1 (Dense)                 (None, 10)           210         dense[0][0]                      \n",
      "__________________________________________________________________________________________________\n",
      "dense_2 (Dense)                 (None, 2)            22          dense_1[0][0]                    \n",
      "==================================================================================================\n",
      "Total params: 186,262\n",
      "Trainable params: 80,412\n",
      "Non-trainable params: 105,850\n",
      "__________________________________________________________________________________________________\n"
     ]
    }
   ],
   "source": [
    "model = create_model_with_embeddings()\n",
    "model.compile(\n",
    "    optimizer=tf.optimizers.Adam(\n",
    "        learning_rate=0.003,\n",
    "        clipvalue=0.5\n",
    "    ), \n",
    "    loss=\"categorical_crossentropy\",\n",
    "    metrics=keras_model_metrics\n",
    ")\n",
    "\n",
    "model.summary()"
   ]
  },
  {
   "cell_type": "code",
   "execution_count": 53,
   "metadata": {
    "hidden": true
   },
   "outputs": [],
   "source": [
    "BATCH_SIZE = 4096\n",
    "EPOCHS = 300"
   ]
  },
  {
   "cell_type": "markdown",
   "metadata": {
    "hidden": true
   },
   "source": [
    "**TODO**: Track hyperparameters using https://www.tensorflow.org/tensorboard/hyperparameter_tuning_with_hparams"
   ]
  },
  {
   "cell_type": "code",
   "execution_count": 54,
   "metadata": {
    "hidden": true
   },
   "outputs": [
    {
     "name": "stdout",
     "output_type": "stream",
     "text": [
      "Logging tensorboard data at logs/1589144135\n"
     ]
    }
   ],
   "source": [
    "logdir = Path(\"logs\")/f\"{RANDOM_SEED}\" #datetime.datetime.now().strftime(\"%Y%m%d-%H%M%S\")\n",
    "tensorboard_callback = tf.keras.callbacks.TensorBoard(\n",
    "    logdir, \n",
    "    histogram_freq=max(1, ceil(EPOCHS / 20)), # to control the amount of logging\n",
    "#     embeddings_freq=epochs,\n",
    ")\n",
    "print(f\"Logging tensorboard data at {logdir}\")"
   ]
  },
  {
   "cell_type": "code",
   "execution_count": 55,
   "metadata": {
    "hidden": true
   },
   "outputs": [],
   "source": [
    "# %%time\n",
    "\n",
    "# mfd = model_fit_data(with_embed=True)\n",
    "# train_histories.append(model.fit(\n",
    "#     mfd[\"X_train\"], mfd[\"y_train\"],\n",
    "#     batch_size=BATCH_SIZE,\n",
    "#     epochs=3,\n",
    "#     validation_data=mfd[\"val_data\"],\n",
    "#     callbacks=[tfdocs.modeling.EpochDots(), tensorboard_callback], \n",
    "#     verbose=0\n",
    "# ))"
   ]
  },
  {
   "cell_type": "code",
   "execution_count": 56,
   "metadata": {
    "hidden": true
   },
   "outputs": [
    {
     "name": "stdout",
     "output_type": "stream",
     "text": [
      "\n",
      "Epoch: 0, accuracy:0.6547,  auc:0.7088,  fn:11038.0000,  fp:11038.0000,  loss:0.6248,  precision:0.6547,  recall:0.6547,  tn:20924.0000,  tp:20924.0000,  val_accuracy:0.7339,  val_auc:0.8037,  val_fn:1916.0000,  val_fp:1916.0000,  val_loss:0.5446,  val_precision:0.7339,  val_recall:0.7339,  val_tn:5284.0000,  val_tp:5284.0000,  \n",
      "....................................................................................................\n",
      "Epoch: 100, accuracy:0.7672,  auc:0.8569,  fn:7440.0000,  fp:7440.0000,  loss:0.4634,  precision:0.7672,  recall:0.7672,  tn:24522.0000,  tp:24522.0000,  val_accuracy:0.7529,  val_auc:0.8295,  val_fn:1779.0000,  val_fp:1779.0000,  val_loss:0.5115,  val_precision:0.7529,  val_recall:0.7529,  val_tn:5421.0000,  val_tp:5421.0000,  \n",
      "....................................................................................................\n",
      "Epoch: 200, accuracy:0.7765,  auc:0.8701,  fn:7143.0000,  fp:7143.0000,  loss:0.4425,  precision:0.7765,  recall:0.7765,  tn:24819.0000,  tp:24819.0000,  val_accuracy:0.7414,  val_auc:0.8207,  val_fn:1862.0000,  val_fp:1862.0000,  val_loss:0.5347,  val_precision:0.7414,  val_recall:0.7414,  val_tn:5338.0000,  val_tp:5338.0000,  \n",
      "....................................................................................................CPU times: user 10min 8s, sys: 6min 30s, total: 16min 39s\n",
      "Wall time: 3min 28s\n"
     ]
    }
   ],
   "source": [
    "%%time\n",
    "\n",
    "train_histories.append(model.fit(\n",
    "    {\n",
    "        FAV: embed_features[FAV][\"train\"],\n",
    "        UNFAV: embed_features[UNFAV][\"train\"],\n",
    "        \"non_embed_inputs\": X_train\n",
    "    }, \n",
    "    y_train,\n",
    "    batch_size=BATCH_SIZE,\n",
    "    epochs=EPOCHS,\n",
    "    validation_data=(\n",
    "        {\n",
    "            FAV: embed_features[FAV][\"test\"],\n",
    "            UNFAV: embed_features[UNFAV][\"test\"],\n",
    "            \"non_embed_inputs\": X_test\n",
    "        },\n",
    "        y_test\n",
    "    ),\n",
    "    callbacks=[tfdocs.modeling.EpochDots(), tensorboard_callback], \n",
    "    verbose=0,\n",
    "    sample_weight=sample_weights_train if FAIRNESS_REWEIGHING_ENABLED else None\n",
    "))"
   ]
  },
  {
   "cell_type": "code",
   "execution_count": 57,
   "metadata": {
    "hidden": true
   },
   "outputs": [
    {
     "data": {
      "text/html": [
       "<div>\n",
       "<style scoped>\n",
       "    .dataframe tbody tr th:only-of-type {\n",
       "        vertical-align: middle;\n",
       "    }\n",
       "\n",
       "    .dataframe tbody tr th {\n",
       "        vertical-align: top;\n",
       "    }\n",
       "\n",
       "    .dataframe thead th {\n",
       "        text-align: right;\n",
       "    }\n",
       "</style>\n",
       "<table border=\"1\" class=\"dataframe\">\n",
       "  <thead>\n",
       "    <tr style=\"text-align: right;\">\n",
       "      <th></th>\n",
       "      <th>loss</th>\n",
       "      <th>accuracy</th>\n",
       "      <th>tp</th>\n",
       "      <th>fp</th>\n",
       "      <th>tn</th>\n",
       "      <th>fn</th>\n",
       "      <th>precision</th>\n",
       "      <th>recall</th>\n",
       "      <th>auc</th>\n",
       "      <th>val_loss</th>\n",
       "      <th>val_accuracy</th>\n",
       "      <th>val_tp</th>\n",
       "      <th>val_fp</th>\n",
       "      <th>val_tn</th>\n",
       "      <th>val_fn</th>\n",
       "      <th>val_precision</th>\n",
       "      <th>val_recall</th>\n",
       "      <th>val_auc</th>\n",
       "    </tr>\n",
       "  </thead>\n",
       "  <tbody>\n",
       "    <tr>\n",
       "      <th>299</th>\n",
       "      <td>0.431484</td>\n",
       "      <td>0.78246</td>\n",
       "      <td>25009.0</td>\n",
       "      <td>6953.0</td>\n",
       "      <td>25009.0</td>\n",
       "      <td>6953.0</td>\n",
       "      <td>0.78246</td>\n",
       "      <td>0.78246</td>\n",
       "      <td>0.87651</td>\n",
       "      <td>0.561334</td>\n",
       "      <td>0.732639</td>\n",
       "      <td>5275.0</td>\n",
       "      <td>1925.0</td>\n",
       "      <td>5275.0</td>\n",
       "      <td>1925.0</td>\n",
       "      <td>0.732639</td>\n",
       "      <td>0.732639</td>\n",
       "      <td>0.812272</td>\n",
       "    </tr>\n",
       "  </tbody>\n",
       "</table>\n",
       "</div>"
      ],
      "text/plain": [
       "         loss  accuracy       tp      fp       tn      fn  precision   recall  \\\n",
       "299  0.431484   0.78246  25009.0  6953.0  25009.0  6953.0    0.78246  0.78246   \n",
       "\n",
       "         auc  val_loss  val_accuracy  val_tp  val_fp  val_tn  val_fn  \\\n",
       "299  0.87651  0.561334      0.732639  5275.0  1925.0  5275.0  1925.0   \n",
       "\n",
       "     val_precision  val_recall   val_auc  \n",
       "299       0.732639    0.732639  0.812272  "
      ]
     },
     "execution_count": 57,
     "metadata": {},
     "output_type": "execute_result"
    }
   ],
   "source": [
    "metrics_df = pd.DataFrame(train_histories[-1].history) # pick the latest training history\n",
    "\n",
    "metrics_df.tail(1) # pick the last epoch's metrics"
   ]
  },
  {
   "cell_type": "markdown",
   "metadata": {
    "hidden": true
   },
   "source": [
    "`Tip:` You can copy the final metrics row from above and paste it using `Shift + Cmd + V` in our [sheet](https://docs.google.com/spreadsheets/d/1v-nYiDA3elM1UP9stkB42MK0bTbuLxYJE7qAYDP8FHw/edit#gid=925421130) to accurately place all values in the respective columns\n",
    "\n",
    "**IMPORTANT**: Please don't forget to update git version ID column after you check-in."
   ]
  },
  {
   "cell_type": "markdown",
   "metadata": {
    "hidden": true
   },
   "source": [
    "### Model Metrics with p-value\n",
    "\n",
    "TODO: Run multiple times on different samples of `y_test` to compute p-value"
   ]
  },
  {
   "cell_type": "code",
   "execution_count": 58,
   "metadata": {
    "hidden": true
   },
   "outputs": [],
   "source": [
    "from sklearn.metrics import roc_auc_score, classification_report, precision_score, recall_score, f1_score\n",
    "import sklearn\n",
    "from collections import OrderedDict\n",
    "\n",
    "assert sklearn.__version__.startswith('0.22'), \"Please upgrade scikit-learn (https://scikit-learn.org/stable/install.html)\""
   ]
  },
  {
   "cell_type": "code",
   "execution_count": 59,
   "metadata": {
    "hidden": true
   },
   "outputs": [],
   "source": [
    "y_prob = model.predict([embed_features[FAV][\"test\"], embed_features[UNFAV][\"test\"], X_test], BATCH_SIZE)\n",
    "y_true = y_test\n",
    "y_pred = (y_prob / np.max(y_prob, axis=1).reshape(-1, 1)).astype(int) # convert probabilities to predictions"
   ]
  },
  {
   "cell_type": "code",
   "execution_count": 60,
   "metadata": {
    "hidden": true
   },
   "outputs": [
    {
     "data": {
      "text/html": [
       "<div>\n",
       "<style scoped>\n",
       "    .dataframe tbody tr th:only-of-type {\n",
       "        vertical-align: middle;\n",
       "    }\n",
       "\n",
       "    .dataframe tbody tr th {\n",
       "        vertical-align: top;\n",
       "    }\n",
       "\n",
       "    .dataframe thead th {\n",
       "        text-align: right;\n",
       "    }\n",
       "</style>\n",
       "<table border=\"1\" class=\"dataframe\">\n",
       "  <thead>\n",
       "    <tr style=\"text-align: right;\">\n",
       "      <th></th>\n",
       "      <th>macro_roc_auc_ovo</th>\n",
       "      <th>weighted_roc_auc_ovo</th>\n",
       "      <th>macro_roc_auc_ovr</th>\n",
       "      <th>weighted_roc_auc_ovr</th>\n",
       "      <th>weighted_precision</th>\n",
       "      <th>weighted_recall</th>\n",
       "      <th>weighted_f1</th>\n",
       "    </tr>\n",
       "  </thead>\n",
       "  <tbody>\n",
       "    <tr>\n",
       "      <th>0</th>\n",
       "      <td>0.810109</td>\n",
       "      <td>0.810109</td>\n",
       "      <td>0.810109</td>\n",
       "      <td>0.810109</td>\n",
       "      <td>0.733541</td>\n",
       "      <td>0.732639</td>\n",
       "      <td>0.73294</td>\n",
       "    </tr>\n",
       "  </tbody>\n",
       "</table>\n",
       "</div>"
      ],
      "text/plain": [
       "   macro_roc_auc_ovo  weighted_roc_auc_ovo  macro_roc_auc_ovr  \\\n",
       "0           0.810109              0.810109           0.810109   \n",
       "\n",
       "   weighted_roc_auc_ovr  weighted_precision  weighted_recall  weighted_f1  \n",
       "0              0.810109            0.733541         0.732639      0.73294  "
      ]
     },
     "execution_count": 60,
     "metadata": {},
     "output_type": "execute_result"
    }
   ],
   "source": [
    "pd.DataFrame(OrderedDict({\n",
    "    \"macro_roc_auc_ovo\": [roc_auc_score(y_test, y_prob, multi_class=\"ovo\", average=\"macro\")],\n",
    "    \"weighted_roc_auc_ovo\": roc_auc_score(y_test, y_prob, multi_class=\"ovo\", average=\"weighted\"),\n",
    "    \"macro_roc_auc_ovr\": roc_auc_score(y_test, y_prob, multi_class=\"ovr\", average=\"macro\"),\n",
    "    \"weighted_roc_auc_ovr\": roc_auc_score(y_test, y_prob, multi_class=\"ovr\", average=\"weighted\"),\n",
    "    \"weighted_precision\": precision_score(y_test, y_pred, average=\"weighted\"),\n",
    "    \"weighted_recall\": recall_score(y_test, y_pred, average=\"weighted\"),\n",
    "    \"weighted_f1\": f1_score(y_test, y_pred, average=\"weighted\")\n",
    "}))"
   ]
  },
  {
   "cell_type": "markdown",
   "metadata": {
    "hidden": true
   },
   "source": [
    "Also paste the above numbers to our [sheet](https://docs.google.com/spreadsheets/d/1v-nYiDA3elM1UP9stkB42MK0bTbuLxYJE7qAYDP8FHw/edit#gid=925421130&range=W1:AC1)"
   ]
  },
  {
   "cell_type": "code",
   "execution_count": 61,
   "metadata": {
    "hidden": true
   },
   "outputs": [
    {
     "name": "stdout",
     "output_type": "stream",
     "text": [
      "              precision    recall  f1-score   support\n",
      "\n",
      "           0       0.76      0.74      0.75      3933\n",
      "           1       0.70      0.72      0.71      3267\n",
      "\n",
      "   micro avg       0.73      0.73      0.73      7200\n",
      "   macro avg       0.73      0.73      0.73      7200\n",
      "weighted avg       0.73      0.73      0.73      7200\n",
      " samples avg       0.73      0.73      0.73      7200\n",
      "\n"
     ]
    }
   ],
   "source": [
    "print(classification_report(y_true, y_pred))"
   ]
  },
  {
   "cell_type": "markdown",
   "metadata": {
    "heading_collapsed": true
   },
   "source": [
    "## Export\n",
    "\n",
    "Save the model for future reference"
   ]
  },
  {
   "cell_type": "code",
   "execution_count": 62,
   "metadata": {
    "hidden": true
   },
   "outputs": [
    {
     "name": "stdout",
     "output_type": "stream",
     "text": [
      "WARNING:tensorflow:From /Users/nipasuma/opt/miniconda3/envs/env37/lib/python3.7/site-packages/tensorflow_core/python/ops/resource_variable_ops.py:1786: calling BaseResourceVariable.__init__ (from tensorflow.python.ops.resource_variable_ops) with constraint is deprecated and will be removed in a future version.\n",
      "Instructions for updating:\n",
      "If using Keras pass *_constraint arguments to layers.\n"
     ]
    },
    {
     "name": "stderr",
     "output_type": "stream",
     "text": [
      "WARNING:tensorflow:From /Users/nipasuma/opt/miniconda3/envs/env37/lib/python3.7/site-packages/tensorflow_core/python/ops/resource_variable_ops.py:1786: calling BaseResourceVariable.__init__ (from tensorflow.python.ops.resource_variable_ops) with constraint is deprecated and will be removed in a future version.\n",
      "Instructions for updating:\n",
      "If using Keras pass *_constraint arguments to layers.\n"
     ]
    },
    {
     "name": "stdout",
     "output_type": "stream",
     "text": [
      "INFO:tensorflow:Assets written to: logs/1589144135/keras_saved_model/assets\n"
     ]
    },
    {
     "name": "stderr",
     "output_type": "stream",
     "text": [
      "INFO:tensorflow:Assets written to: logs/1589144135/keras_saved_model/assets\n"
     ]
    }
   ],
   "source": [
    "model.save((logdir/\"keras_saved_model\").as_posix(), save_format=\"tf\")"
   ]
  },
  {
   "cell_type": "markdown",
   "metadata": {},
   "source": [
    "## Predict"
   ]
  },
  {
   "cell_type": "code",
   "execution_count": null,
   "metadata": {},
   "outputs": [],
   "source": [
    "PREDICTED_RATING, PREDICTION_CONFIDENCE = \"pred_rating\", \"pred_confidence\""
   ]
  },
  {
   "cell_type": "code",
   "execution_count": 35,
   "metadata": {},
   "outputs": [],
   "source": [
    "def predict_on_dataset(df:pd.DataFrame, model:tf.keras.Model, es:Dict, inp_cols_of_interest:List[str]):\n",
    "    \"\"\"\n",
    "    Make predictions on df using the model and return inp_cols_of_interest\n",
    "    IMPORTANT: embedding store, es should be the same as the model was trained on\n",
    "    \"\"\"\n",
    "    X = transform_pd_X(df[SELECTED_COLS], SELECTED_INP_COLS)\n",
    "\n",
    "    embed_features = {}\n",
    "    for col in EMBED_COLS:\n",
    "        embed_features[col], _ = transform_embed_col(df[col], es[col][\"tokenizer\"], es[col][\"maxlen\"])\n",
    "     \n",
    "    predict_proba = model.predict([embed_features[FAV], embed_features[UNFAV], X], batch_size=BATCH_SIZE)  \n",
    "    df[PREDICTED_RATING], df[PREDICTION_CONFIDENCE] = np.argmax(predict_proba, axis=1), np.max(predict_proba, axis=1)\n",
    "    \n",
    "    return df[inp_cols_of_interest + [RATING, PREDICTED_RATING, PREDICTION_CONFIDENCE]]"
   ]
  },
  {
   "cell_type": "markdown",
   "metadata": {
    "heading_collapsed": true
   },
   "source": [
    "### Adhoc Predictions"
   ]
  },
  {
   "cell_type": "code",
   "execution_count": null,
   "metadata": {
    "hidden": true
   },
   "outputs": [],
   "source": [
    "PredictionReport = namedtuple(\"PredictionReport\", \"probabilities predicted_rating confidence\")\n",
    "\n",
    "# Note: Create a dataframe with all SELECTED_INP_COLS\n",
    "test_df = pd.DataFrame({\n",
    "    AGE: [\"45\"],\n",
    "    ZIP_CODE: [\"94086\"],\n",
    "    FAVE_SPORTS: [\"I do not like Sports\"]\n",
    "})\n",
    "\n",
    "probabilities = model.predict(transform_pd_X(test_df, SELECTED_INP_COLS))\n",
    "predicted_rating, confidence = np.argmax(probabilities), np.max(probabilities)\n",
    "\n",
    "PredictionReport(probabilities, predicted_rating, confidence)"
   ]
  },
  {
   "cell_type": "markdown",
   "metadata": {},
   "source": [
    "## Fairness Metrics"
   ]
  },
  {
   "cell_type": "markdown",
   "metadata": {},
   "source": [
    "### Prepare State - Data & Model"
   ]
  },
  {
   "cell_type": "markdown",
   "metadata": {},
   "source": [
    "Restore previously saved input data"
   ]
  },
  {
   "cell_type": "code",
   "execution_count": null,
   "metadata": {},
   "outputs": [],
   "source": [
    "RANDOM_SEED = 1589144135 # seed used in a historical run of interest for fairness analysis"
   ]
  },
  {
   "cell_type": "code",
   "execution_count": 37,
   "metadata": {},
   "outputs": [
    {
     "data": {
      "text/plain": [
       "((31962, 308), (31962, 2), (31962, 40), (31962, 34))"
      ]
     },
     "execution_count": 37,
     "metadata": {},
     "output_type": "execute_result"
    }
   ],
   "source": [
    "with open(f\"inp-{RANDOM_SEED}.pickle\", \"rb\") as f:\n",
    "#     X_train, X_test, y_train, y_test, embed_features, embedding_store, sample_weights_train = pickle.load(f)\n",
    "    X_train, X_test, y_train, y_test, embed_features, embedding_store = pickle.load(f)\n",
    "    \n",
    "X_train.shape, y_train.shape, embed_features[FAV][\"train\"].shape, embed_features[UNFAV][\"train\"].shape"
   ]
  },
  {
   "cell_type": "markdown",
   "metadata": {},
   "source": [
    "Restore previously saved model. \n",
    "\n",
    "**Note:** This is not suitable for training in its raw form"
   ]
  },
  {
   "cell_type": "code",
   "execution_count": 68,
   "metadata": {},
   "outputs": [
    {
     "name": "stdout",
     "output_type": "stream",
     "text": [
      "Model: \"model\"\n",
      "__________________________________________________________________________________________________\n",
      "Layer (type)                    Output Shape         Param #     Connected to                     \n",
      "==================================================================================================\n",
      "fav (InputLayer)                [(None, 40)]         0                                            \n",
      "__________________________________________________________________________________________________\n",
      "unfav (InputLayer)              [(None, 34)]         0                                            \n",
      "__________________________________________________________________________________________________\n",
      "embedding (Embedding)           (None, 40, 50)       58400       fav[0][0]                        \n",
      "__________________________________________________________________________________________________\n",
      "embedding_1 (Embedding)         (None, 34, 50)       47450       unfav[0][0]                      \n",
      "__________________________________________________________________________________________________\n",
      "flatten (Flatten)               (None, 2000)         0           embedding[0][0]                  \n",
      "__________________________________________________________________________________________________\n",
      "flatten_1 (Flatten)             (None, 1700)         0           embedding_1[0][0]                \n",
      "__________________________________________________________________________________________________\n",
      "non_embed_inputs (InputLayer)   [(None, 308)]        0                                            \n",
      "__________________________________________________________________________________________________\n",
      "concatenate (Concatenate)       (None, 4008)         0           flatten[0][0]                    \n",
      "                                                                 flatten_1[0][0]                  \n",
      "                                                                 non_embed_inputs[0][0]           \n",
      "__________________________________________________________________________________________________\n",
      "dense (Dense)                   (None, 20)           80180       concatenate[0][0]                \n",
      "__________________________________________________________________________________________________\n",
      "dense_1 (Dense)                 (None, 10)           210         dense[0][0]                      \n",
      "__________________________________________________________________________________________________\n",
      "dense_2 (Dense)                 (None, 2)            22          dense_1[0][0]                    \n",
      "==================================================================================================\n",
      "Total params: 186,262\n",
      "Trainable params: 186,262\n",
      "Non-trainable params: 0\n",
      "__________________________________________________________________________________________________\n"
     ]
    }
   ],
   "source": [
    "model = tf.keras.models.load_model(f\"logs/{RANDOM_SEED}/keras_saved_model\")\n",
    "model.summary()"
   ]
  },
  {
   "cell_type": "markdown",
   "metadata": {},
   "source": [
    "Load and filter data with raw and transformed columns, basically all columns to test for fairness of the subset"
   ]
  },
  {
   "cell_type": "code",
   "execution_count": 69,
   "metadata": {},
   "outputs": [],
   "source": [
    "fairness_df = ad_dataset_pd() #.sample(n=100)\n",
    "merge_minority_classes(fairness_df, RATING) # modifies original dataframe\n",
    "fairness_df[RATING] = fairness_df[RATING].astype(\"float\")\n",
    "fairness_df[RATING] = fairness_df[RATING] - 1"
   ]
  },
  {
   "cell_type": "markdown",
   "metadata": {},
   "source": [
    "**IMPORTANT**: Use the same `RANDOM_SEED` used while generating the input data. Care must be taken if you restored a previously generated input data from disk, that was generated on a different `RANDOM_SEED`"
   ]
  },
  {
   "cell_type": "code",
   "execution_count": 70,
   "metadata": {},
   "outputs": [
    {
     "data": {
      "text/plain": [
       "((28800, 284), (7200, 284))"
      ]
     },
     "execution_count": 70,
     "metadata": {},
     "output_type": "execute_result"
    }
   ],
   "source": [
    "train_fairness_df, val_fairness_df = train_test_split(fairness_df, test_size=TEST_FRAC, random_state=RANDOM_SEED)\n",
    "train_fairness_df.shape, val_fairness_df.shape"
   ]
  },
  {
   "cell_type": "code",
   "execution_count": 71,
   "metadata": {
    "scrolled": true
   },
   "outputs": [
    {
     "name": "stderr",
     "output_type": "stream",
     "text": [
      "/Users/nipasuma/opt/miniconda3/envs/env37/lib/python3.7/site-packages/ipykernel_launcher.py:3: SettingWithCopyWarning: \n",
      "A value is trying to be set on a copy of a slice from a DataFrame.\n",
      "Try using .loc[row_indexer,col_indexer] = value instead\n",
      "\n",
      "See the caveats in the documentation: https://pandas.pydata.org/pandas-docs/stable/user_guide/indexing.html#returning-a-view-versus-a-copy\n",
      "  This is separate from the ipykernel package so we can avoid doing imports until\n",
      "/Users/nipasuma/opt/miniconda3/envs/env37/lib/python3.7/site-packages/ipykernel_launcher.py:4: SettingWithCopyWarning: \n",
      "A value is trying to be set on a copy of a slice from a DataFrame.\n",
      "Try using .loc[row_indexer,col_indexer] = value instead\n",
      "\n",
      "See the caveats in the documentation: https://pandas.pydata.org/pandas-docs/stable/user_guide/indexing.html#returning-a-view-versus-a-copy\n",
      "  after removing the cwd from sys.path.\n",
      "/Users/nipasuma/opt/miniconda3/envs/env37/lib/python3.7/site-packages/ipykernel_launcher.py:5: SettingWithCopyWarning: \n",
      "A value is trying to be set on a copy of a slice from a DataFrame.\n",
      "Try using .loc[row_indexer,col_indexer] = value instead\n",
      "\n",
      "See the caveats in the documentation: https://pandas.pydata.org/pandas-docs/stable/user_guide/indexing.html#returning-a-view-versus-a-copy\n",
      "  \"\"\"\n",
      "/Users/nipasuma/opt/miniconda3/envs/env37/lib/python3.7/site-packages/pandas/core/frame.py:2963: SettingWithCopyWarning: \n",
      "A value is trying to be set on a copy of a slice from a DataFrame.\n",
      "Try using .loc[row_indexer,col_indexer] = value instead\n",
      "\n",
      "See the caveats in the documentation: https://pandas.pydata.org/pandas-docs/stable/user_guide/indexing.html#returning-a-view-versus-a-copy\n",
      "  self[k1] = value[k2]\n",
      "/Users/nipasuma/opt/miniconda3/envs/env37/lib/python3.7/site-packages/ipykernel_launcher.py:20: SettingWithCopyWarning: \n",
      "A value is trying to be set on a copy of a slice from a DataFrame.\n",
      "Try using .loc[row_indexer,col_indexer] = value instead\n",
      "\n",
      "See the caveats in the documentation: https://pandas.pydata.org/pandas-docs/stable/user_guide/indexing.html#returning-a-view-versus-a-copy\n"
     ]
    },
    {
     "name": "stdout",
     "output_type": "stream",
     "text": [
      "CPU times: user 35.1 s, sys: 797 ms, total: 35.9 s\n",
      "Wall time: 38.7 s\n"
     ]
    },
    {
     "name": "stderr",
     "output_type": "stream",
     "text": [
      "/Users/nipasuma/opt/miniconda3/envs/env37/lib/python3.7/site-packages/ipykernel_launcher.py:13: SettingWithCopyWarning: \n",
      "A value is trying to be set on a copy of a slice from a DataFrame.\n",
      "Try using .loc[row_indexer,col_indexer] = value instead\n",
      "\n",
      "See the caveats in the documentation: https://pandas.pydata.org/pandas-docs/stable/user_guide/indexing.html#returning-a-view-versus-a-copy\n",
      "  del sys.path[0]\n"
     ]
    }
   ],
   "source": [
    "%%time\n",
    "\n",
    "res = predict_on_dataset(val_fairness_df, model, embedding_store, [AGE, GENDER, INCOME, HOME_COUNTRY])"
   ]
  },
  {
   "cell_type": "markdown",
   "metadata": {},
   "source": [
    "\n",
    "Serialize for future reference to skip prediction generation. As the inference data is w.r.t the model, we'll save it in the same folder as the model"
   ]
  },
  {
   "cell_type": "code",
   "execution_count": 72,
   "metadata": {},
   "outputs": [
    {
     "name": "stdout",
     "output_type": "stream",
     "text": [
      "Saved inference data at logs/1589144135/inference_data.csv\n"
     ]
    }
   ],
   "source": [
    "out_path = f\"logs/{RANDOM_SEED}/inference_data.csv\"\n",
    "\n",
    "res.to_csv(out_path, index=False)\n",
    "print(f\"Saved inference data at {out_path}\")"
   ]
  },
  {
   "cell_type": "markdown",
   "metadata": {},
   "source": [
    "Feel free to restart the kernel if the execution is slow as we have all the info for computing fairness metrics of columns you selected above"
   ]
  },
  {
   "cell_type": "code",
   "execution_count": null,
   "metadata": {},
   "outputs": [],
   "source": [
    "# Credits: https://stackoverflow.com/a/50671617/1585523 has good explanations for all metrics and is from where the code has been copied\n",
    "\n",
    "def metrics_from_df(df:pd.DataFrame, confidence_threshold=0):\n",
    "    \"\"\"Drop examples with probability < confidence_threshold from calc\"\"\"\n",
    "    y_true = df[RATING]\n",
    "    y_pred = df[PREDICTED_RATING]\n",
    "    cnf_matrix = confusion_matrix(y_true, y_pred)\n",
    "    \n",
    "    FP = cnf_matrix.sum(axis=0) - np.diag(cnf_matrix)  \n",
    "    FN = cnf_matrix.sum(axis=1) - np.diag(cnf_matrix)\n",
    "    TP = np.diag(cnf_matrix)\n",
    "    TN = cnf_matrix.sum() - (FP + FN + TP)\n",
    "\n",
    "    FP = FP.astype(float)\n",
    "    FN = FN.astype(float)\n",
    "    TP = TP.astype(float)\n",
    "    TN = TN.astype(float)\n",
    "\n",
    "    # Sensitivity, hit rate, recall, or true positive rate\n",
    "    TPR = TP/(TP+FN)\n",
    "    # Specificity or true negative rate\n",
    "    TNR = TN/(TN+FP) \n",
    "    # Precision or positive predictive value\n",
    "    PPV = TP/(TP+FP)\n",
    "    # Negative predictive value\n",
    "    NPV = TN/(TN+FN)\n",
    "    # Fall out or false positive rate\n",
    "    FPR = FP/(FP+TN)\n",
    "    # False negative rate\n",
    "    FNR = FN/(TP+FN)\n",
    "    # False discovery rate\n",
    "    FDR = FP/(TP+FP)\n",
    "    # Overall accuracy\n",
    "    ACC = (TP+TN)/(TP+FP+FN+TN)\n",
    "    \n",
    "    return {\n",
    "        \"TPR\": TPR, \"TNR\": TNR, \"PPV\": PPV, \"NPV\": NPV, \"FPR\": FPR, \"FNR\": FNR, \"FDR\": FDR, \"ACC\": ACC\n",
    "    }"
   ]
  },
  {
   "cell_type": "code",
   "execution_count": null,
   "metadata": {},
   "outputs": [],
   "source": [
    "class GroupFairnessMetrics:\n",
    "    def __init__(self, model_inference_data:pd.DataFrame, protected_feature:str):\n",
    "        \"\"\"\n",
    "        Compute fairness metrics between 2 groups of population - privileged & unprivileged\n",
    "        Based on your dataset you could use,\n",
    "            \"Female\" to privileged_grp_label and \n",
    "            \"Male\" to be unprivileged_grp_label\n",
    "        for Gender as the protected_feature\n",
    "        All metrics are computed on model_inference_data which has RATING and PREDICTED_RATING values for each row\n",
    "        \"\"\"\n",
    "        self._df, self._pf, = model_inference_data, protected_feature\n",
    "        self._base_metrics = \"fairness_metrics_per_class\"\n",
    "        self._pf_metrics_df = self._df.groupby(self._pf).apply(metrics_from_df).to_frame(self._base_metrics)\n",
    "    \n",
    "    def fetch_base_metrics(self):\n",
    "        return self._pf_metrics_df\n",
    "    \n",
    "    def equal_opportunity_difference(self, pg_lbl:str, upg_lbl:str, rating_class=1):\n",
    "        r\"\"\"TPR{unprivileged} - TPR{privileged} ideally should be zero\"\"\"\n",
    "        upg_opp = self._pf_metrics_df.loc[upg_lbl][self._base_metrics][\"TPR\"][rating_class]\n",
    "        pg_opp = self._pf_metrics_df.loc[pg_lbl][self._base_metrics][\"TPR\"][rating_class]\n",
    "        return upg_opp - pg_opp\n",
    "\n",
    "    def statistical_parity_difference(self):\n",
    "        raise NotImplementedError(\"TODO\")\n",
    "\n",
    "    def average_odds_difference(self, pg_lbl:str, upg_lbl:str, rating_class=1):\n",
    "        \"\"\"Average of difference in FPR and TPR for unprivileged and privileged groups\"\"\"\n",
    "        tpr_diff = self.equal_opportunity_difference(pg_lbl, upg_lbl, rating_class)\n",
    "        \n",
    "        upg_fpr = self._pf_metrics_df.loc[upg_lbl][self._base_metrics][\"FPR\"][rating_class]\n",
    "        pg_fpr = self._pf_metrics_df.loc[pg_lbl][self._base_metrics][\"FPR\"][rating_class]\n",
    "        fpr_diff = upg_fpr - pg_fpr\n",
    "        \n",
    "        return 0.5 * (fpr_diff + tpr_diff)\n",
    "\n",
    "    def disparate_impact():\n",
    "        raise NotImplementedError(\"TODO\")\n",
    "\n",
    "    def theil_index():\n",
    "        raise NotImplementedError(\"TODO\")"
   ]
  },
  {
   "cell_type": "code",
   "execution_count": null,
   "metadata": {},
   "outputs": [],
   "source": [
    "def plot_for_metric_class(metric_df:pd.DataFrame, metric:str=\"FPR\", rating_class:int=1):\n",
    "    \"\"\"Generates plot for metric and given rating_class from metric_df indexed by dimension of interest\"\"\"\n",
    "    plot_df = metric_df.apply(lambda m: m[\"fairness_metrics_per_class\"][metric][rating_class], axis=1)\n",
    "    plot_df = plot_df.reset_index().rename({0: metric}, axis=1)\n",
    "    return plot_df"
   ]
  },
  {
   "cell_type": "code",
   "execution_count": null,
   "metadata": {},
   "outputs": [],
   "source": [
    "res = pd.read_csv(f\"logs/{RANDOM_SEED}/inference_data.csv\")"
   ]
  },
  {
   "cell_type": "code",
   "execution_count": null,
   "metadata": {
    "scrolled": true
   },
   "outputs": [
    {
     "data": {
      "text/html": [
       "<div>\n",
       "<style scoped>\n",
       "    .dataframe tbody tr th:only-of-type {\n",
       "        vertical-align: middle;\n",
       "    }\n",
       "\n",
       "    .dataframe tbody tr th {\n",
       "        vertical-align: top;\n",
       "    }\n",
       "\n",
       "    .dataframe thead th {\n",
       "        text-align: right;\n",
       "    }\n",
       "</style>\n",
       "<table border=\"1\" class=\"dataframe\">\n",
       "  <thead>\n",
       "    <tr style=\"text-align: right;\">\n",
       "      <th></th>\n",
       "      <th>1729</th>\n",
       "      <th>1755</th>\n",
       "      <th>4721</th>\n",
       "      <th>5961</th>\n",
       "    </tr>\n",
       "  </thead>\n",
       "  <tbody>\n",
       "    <tr>\n",
       "      <th>Age</th>\n",
       "      <td>22</td>\n",
       "      <td>26</td>\n",
       "      <td>35</td>\n",
       "      <td>37</td>\n",
       "    </tr>\n",
       "    <tr>\n",
       "      <th>Gender</th>\n",
       "      <td>M</td>\n",
       "      <td>F</td>\n",
       "      <td>F</td>\n",
       "      <td>F</td>\n",
       "    </tr>\n",
       "    <tr>\n",
       "      <th>Income</th>\n",
       "      <td>1</td>\n",
       "      <td>1</td>\n",
       "      <td>3</td>\n",
       "      <td>1</td>\n",
       "    </tr>\n",
       "    <tr>\n",
       "      <th>Homecountry</th>\n",
       "      <td>United States of America</td>\n",
       "      <td>United States of America</td>\n",
       "      <td>United States of America</td>\n",
       "      <td>United States of America</td>\n",
       "    </tr>\n",
       "    <tr>\n",
       "      <th>Rating</th>\n",
       "      <td>1</td>\n",
       "      <td>0</td>\n",
       "      <td>1</td>\n",
       "      <td>1</td>\n",
       "    </tr>\n",
       "    <tr>\n",
       "      <th>pred_rating</th>\n",
       "      <td>1</td>\n",
       "      <td>0</td>\n",
       "      <td>0</td>\n",
       "      <td>1</td>\n",
       "    </tr>\n",
       "    <tr>\n",
       "      <th>pred_confidence</th>\n",
       "      <td>0.692889</td>\n",
       "      <td>0.906044</td>\n",
       "      <td>0.51106</td>\n",
       "      <td>0.774398</td>\n",
       "    </tr>\n",
       "  </tbody>\n",
       "</table>\n",
       "</div>"
      ],
      "text/plain": [
       "                                     1729                      1755  \\\n",
       "Age                                    22                        26   \n",
       "Gender                                  M                         F   \n",
       "Income                                  1                         1   \n",
       "Homecountry      United States of America  United States of America   \n",
       "Rating                                  1                         0   \n",
       "pred_rating                             1                         0   \n",
       "pred_confidence                  0.692889                  0.906044   \n",
       "\n",
       "                                     4721                      5961  \n",
       "Age                                    35                        37  \n",
       "Gender                                  F                         F  \n",
       "Income                                  3                         1  \n",
       "Homecountry      United States of America  United States of America  \n",
       "Rating                                  1                         1  \n",
       "pred_rating                             0                         1  \n",
       "pred_confidence                   0.51106                  0.774398  "
      ]
     },
     "execution_count": 41,
     "metadata": {},
     "output_type": "execute_result"
    }
   ],
   "source": [
    "res.sample(4).T"
   ]
  },
  {
   "cell_type": "markdown",
   "metadata": {},
   "source": [
    "### Gender Bias"
   ]
  },
  {
   "cell_type": "code",
   "execution_count": null,
   "metadata": {},
   "outputs": [],
   "source": [
    "gender_fairness_metrics = GroupFairnessMetrics(res, GENDER)"
   ]
  },
  {
   "cell_type": "markdown",
   "metadata": {},
   "source": [
    "Plot Metrics"
   ]
  },
  {
   "cell_type": "code",
   "execution_count": null,
   "metadata": {
    "scrolled": true
   },
   "outputs": [
    {
     "data": {
      "text/html": [
       "<div>\n",
       "<style scoped>\n",
       "    .dataframe tbody tr th:only-of-type {\n",
       "        vertical-align: middle;\n",
       "    }\n",
       "\n",
       "    .dataframe tbody tr th {\n",
       "        vertical-align: top;\n",
       "    }\n",
       "\n",
       "    .dataframe thead th {\n",
       "        text-align: right;\n",
       "    }\n",
       "</style>\n",
       "<table border=\"1\" class=\"dataframe\">\n",
       "  <thead>\n",
       "    <tr style=\"text-align: right;\">\n",
       "      <th></th>\n",
       "      <th>Gender</th>\n",
       "      <th>FPR</th>\n",
       "    </tr>\n",
       "  </thead>\n",
       "  <tbody>\n",
       "    <tr>\n",
       "      <th>0</th>\n",
       "      <td>F</td>\n",
       "      <td>0.164069</td>\n",
       "    </tr>\n",
       "    <tr>\n",
       "      <th>1</th>\n",
       "      <td>M</td>\n",
       "      <td>0.092942</td>\n",
       "    </tr>\n",
       "  </tbody>\n",
       "</table>\n",
       "</div>"
      ],
      "text/plain": [
       "  Gender       FPR\n",
       "0      F  0.164069\n",
       "1      M  0.092942"
      ]
     },
     "execution_count": 80,
     "metadata": {},
     "output_type": "execute_result"
    }
   ],
   "source": [
    "plot_df = plot_for_metric_class(gender_fairness_metrics.fetch_base_metrics())\n",
    "plot_df"
   ]
  },
  {
   "cell_type": "code",
   "execution_count": null,
   "metadata": {},
   "outputs": [
    {
     "data": {
      "image/png": "[encoded data removed]",
      "text/plain": [
       "<Figure size 432x288 with 1 Axes>"
      ]
     },
     "metadata": {
      "needs_background": "light"
     },
     "output_type": "display_data"
    }
   ],
   "source": [
    "%matplotlib inline\n",
    "\n",
    "ax = sns.barplot(x=GENDER, y=\"FPR\", data=plot_df)"
   ]
  },
  {
   "cell_type": "markdown",
   "metadata": {},
   "source": [
    "Copy to clipboard for easy pasting into results sheet"
   ]
  },
  {
   "cell_type": "code",
   "execution_count": null,
   "metadata": {},
   "outputs": [],
   "source": [
    "plot_df.to_clipboard(False)"
   ]
  },
  {
   "cell_type": "markdown",
   "metadata": {},
   "source": [
    "Group Fairness metrics"
   ]
  },
  {
   "cell_type": "code",
   "execution_count": null,
   "metadata": {},
   "outputs": [
    {
     "data": {
      "text/plain": [
       "0.05256020979995524"
      ]
     },
     "execution_count": 54,
     "metadata": {},
     "output_type": "execute_result"
    }
   ],
   "source": [
    "gender_fairness_metrics.equal_opportunity_difference(\"F\", \"M\")"
   ]
  },
  {
   "cell_type": "code",
   "execution_count": null,
   "metadata": {},
   "outputs": [
    {
     "data": {
      "text/plain": [
       "0.008020284537845673"
      ]
     },
     "execution_count": 55,
     "metadata": {},
     "output_type": "execute_result"
    }
   ],
   "source": [
    "gender_fairness_metrics.average_odds_difference(\"F\", \"M\")"
   ]
  },
  {
   "cell_type": "markdown",
   "metadata": {},
   "source": [
    "### Age Bias"
   ]
  },
  {
   "cell_type": "code",
   "execution_count": null,
   "metadata": {},
   "outputs": [],
   "source": [
    "res[AGE] = res[AGE].astype(\"int\")"
   ]
  },
  {
   "cell_type": "code",
   "execution_count": null,
   "metadata": {},
   "outputs": [
    {
     "data": {
      "image/png": "[encoded data removed]",
      "text/plain": [
       "<Figure size 432x288 with 1 Axes>"
      ]
     },
     "metadata": {
      "needs_background": "light"
     },
     "output_type": "display_data"
    }
   ],
   "source": [
    "ax = sns.distplot(res[AGE], kde=False, bins=50)"
   ]
  },
  {
   "cell_type": "code",
   "execution_count": null,
   "metadata": {},
   "outputs": [],
   "source": [
    "AGE_BUCKET = AGE + \"_bucket\"\n",
    "bucket_boundaries = [0, 20, 40, 100] # refer pandas.cut() for syntax on binning\n",
    "age_labels = [\"young\", \"middle-age\", \"old\"] # refer pandas.cut() for syntax on labels"
   ]
  },
  {
   "cell_type": "code",
   "execution_count": null,
   "metadata": {},
   "outputs": [
    {
     "data": {
      "text/html": [
       "<div>\n",
       "<style scoped>\n",
       "    .dataframe tbody tr th:only-of-type {\n",
       "        vertical-align: middle;\n",
       "    }\n",
       "\n",
       "    .dataframe tbody tr th {\n",
       "        vertical-align: top;\n",
       "    }\n",
       "\n",
       "    .dataframe thead th {\n",
       "        text-align: right;\n",
       "    }\n",
       "</style>\n",
       "<table border=\"1\" class=\"dataframe\">\n",
       "  <thead>\n",
       "    <tr style=\"text-align: right;\">\n",
       "      <th></th>\n",
       "      <th>Age</th>\n",
       "      <th>Age_bucket</th>\n",
       "    </tr>\n",
       "  </thead>\n",
       "  <tbody>\n",
       "    <tr>\n",
       "      <th>5863</th>\n",
       "      <td>24</td>\n",
       "      <td>middle-age</td>\n",
       "    </tr>\n",
       "    <tr>\n",
       "      <th>2643</th>\n",
       "      <td>27</td>\n",
       "      <td>middle-age</td>\n",
       "    </tr>\n",
       "    <tr>\n",
       "      <th>3688</th>\n",
       "      <td>34</td>\n",
       "      <td>middle-age</td>\n",
       "    </tr>\n",
       "    <tr>\n",
       "      <th>170</th>\n",
       "      <td>61</td>\n",
       "      <td>old</td>\n",
       "    </tr>\n",
       "    <tr>\n",
       "      <th>258</th>\n",
       "      <td>39</td>\n",
       "      <td>middle-age</td>\n",
       "    </tr>\n",
       "  </tbody>\n",
       "</table>\n",
       "</div>"
      ],
      "text/plain": [
       "      Age  Age_bucket\n",
       "5863   24  middle-age\n",
       "2643   27  middle-age\n",
       "3688   34  middle-age\n",
       "170    61         old\n",
       "258    39  middle-age"
      ]
     },
     "execution_count": 59,
     "metadata": {},
     "output_type": "execute_result"
    }
   ],
   "source": [
    "res[AGE_BUCKET] = pd.cut(res[AGE], bins=bucket_boundaries, labels=age_labels)\n",
    "res[[AGE, AGE_BUCKET]].sample(n=5)"
   ]
  },
  {
   "cell_type": "code",
   "execution_count": null,
   "metadata": {
    "scrolled": true
   },
   "outputs": [
    {
     "data": {
      "text/plain": [
       "middle-age    5032\n",
       "old           1225\n",
       "young          943\n",
       "Name: Age_bucket, dtype: int64"
      ]
     },
     "execution_count": 69,
     "metadata": {},
     "output_type": "execute_result"
    },
    {
     "data": {
      "image/png": "[encoded data removed]",
      "text/plain": [
       "<Figure size 432x288 with 1 Axes>"
      ]
     },
     "metadata": {
      "needs_background": "light"
     },
     "output_type": "display_data"
    }
   ],
   "source": [
    "ax = sns.countplot(res[AGE_BUCKET])\n",
    "res[AGE_BUCKET].value_counts()"
   ]
  },
  {
   "cell_type": "code",
   "execution_count": null,
   "metadata": {},
   "outputs": [
    {
     "data": {
      "text/html": [
       "<div>\n",
       "<style scoped>\n",
       "    .dataframe tbody tr th:only-of-type {\n",
       "        vertical-align: middle;\n",
       "    }\n",
       "\n",
       "    .dataframe tbody tr th {\n",
       "        vertical-align: top;\n",
       "    }\n",
       "\n",
       "    .dataframe thead th {\n",
       "        text-align: right;\n",
       "    }\n",
       "</style>\n",
       "<table border=\"1\" class=\"dataframe\">\n",
       "  <thead>\n",
       "    <tr style=\"text-align: right;\">\n",
       "      <th></th>\n",
       "      <th>fairness_metrics_per_class</th>\n",
       "    </tr>\n",
       "    <tr>\n",
       "      <th>Age_bucket</th>\n",
       "      <th></th>\n",
       "    </tr>\n",
       "  </thead>\n",
       "  <tbody>\n",
       "    <tr>\n",
       "      <th>young</th>\n",
       "      <td>{'TPR': [0.7955010224948875, 0.757709251101321...</td>\n",
       "    </tr>\n",
       "    <tr>\n",
       "      <th>middle-age</th>\n",
       "      <td>{'TPR': [0.8685047720042418, 0.625056740807989...</td>\n",
       "    </tr>\n",
       "    <tr>\n",
       "      <th>old</th>\n",
       "      <td>{'TPR': [0.8792341678939617, 0.527472527472527...</td>\n",
       "    </tr>\n",
       "  </tbody>\n",
       "</table>\n",
       "</div>"
      ],
      "text/plain": [
       "                                   fairness_metrics_per_class\n",
       "Age_bucket                                                   \n",
       "young       {'TPR': [0.7955010224948875, 0.757709251101321...\n",
       "middle-age  {'TPR': [0.8685047720042418, 0.625056740807989...\n",
       "old         {'TPR': [0.8792341678939617, 0.527472527472527..."
      ]
     },
     "execution_count": 70,
     "metadata": {},
     "output_type": "execute_result"
    }
   ],
   "source": [
    "age_metrics_df = res.groupby(AGE_BUCKET).apply(metrics_from_df).to_frame(\"fairness_metrics_per_class\")\n",
    "age_metrics_df"
   ]
  },
  {
   "cell_type": "markdown",
   "metadata": {},
   "source": [
    "Plot Metrics"
   ]
  },
  {
   "cell_type": "code",
   "execution_count": null,
   "metadata": {},
   "outputs": [
    {
     "data": {
      "text/html": [
       "<div>\n",
       "<style scoped>\n",
       "    .dataframe tbody tr th:only-of-type {\n",
       "        vertical-align: middle;\n",
       "    }\n",
       "\n",
       "    .dataframe tbody tr th {\n",
       "        vertical-align: top;\n",
       "    }\n",
       "\n",
       "    .dataframe thead th {\n",
       "        text-align: right;\n",
       "    }\n",
       "</style>\n",
       "<table border=\"1\" class=\"dataframe\">\n",
       "  <thead>\n",
       "    <tr style=\"text-align: right;\">\n",
       "      <th></th>\n",
       "      <th>Age_bucket</th>\n",
       "      <th>FPR</th>\n",
       "    </tr>\n",
       "  </thead>\n",
       "  <tbody>\n",
       "    <tr>\n",
       "      <th>0</th>\n",
       "      <td>young</td>\n",
       "      <td>0.204499</td>\n",
       "    </tr>\n",
       "    <tr>\n",
       "      <th>1</th>\n",
       "      <td>middle-age</td>\n",
       "      <td>0.131495</td>\n",
       "    </tr>\n",
       "    <tr>\n",
       "      <th>2</th>\n",
       "      <td>old</td>\n",
       "      <td>0.120766</td>\n",
       "    </tr>\n",
       "  </tbody>\n",
       "</table>\n",
       "</div>"
      ],
      "text/plain": [
       "   Age_bucket       FPR\n",
       "0       young  0.204499\n",
       "1  middle-age  0.131495\n",
       "2         old  0.120766"
      ]
     },
     "execution_count": 71,
     "metadata": {},
     "output_type": "execute_result"
    }
   ],
   "source": [
    "plot_df = plot_for_metric_class(age_metrics_df)\n",
    "plot_df"
   ]
  },
  {
   "cell_type": "code",
   "execution_count": null,
   "metadata": {},
   "outputs": [
    {
     "data": {
      "image/png": "[encoded data removed]",
      "text/plain": [
       "<Figure size 432x288 with 1 Axes>"
      ]
     },
     "metadata": {
      "needs_background": "light"
     },
     "output_type": "display_data"
    }
   ],
   "source": [
    "ax = sns.barplot(x=AGE_BUCKET, y=\"FPR\", data=plot_df)"
   ]
  },
  {
   "cell_type": "markdown",
   "metadata": {},
   "source": [
    "Copy to clipboard for easy pasting into results sheet"
   ]
  },
  {
   "cell_type": "code",
   "execution_count": 64,
   "metadata": {},
   "outputs": [],
   "source": [
    "plot_df.to_clipboard(False)"
   ]
  },
  {
   "cell_type": "markdown",
   "metadata": {},
   "source": [
    "Group Fairness metrics"
   ]
  },
  {
   "cell_type": "code",
   "execution_count": null,
   "metadata": {},
   "outputs": [],
   "source": [
    "age_gfm = GroupFairnessMetrics(res, AGE_BUCKET)"
   ]
  },
  {
   "cell_type": "code",
   "execution_count": null,
   "metadata": {},
   "outputs": [
    {
     "name": "stdout",
     "output_type": "stream",
     "text": [
      "-0.06384027986469099\t-0.10599451292053452\n"
     ]
    }
   ],
   "source": [
    "print(f'{age_gfm.equal_opportunity_difference(\"young\", \"middle-age\")}\\t{age_gfm.equal_opportunity_difference(\"young\", \"old\")}')"
   ]
  },
  {
   "cell_type": "code",
   "execution_count": null,
   "metadata": {},
   "outputs": [
    {
     "name": "stdout",
     "output_type": "stream",
     "text": [
      "-0.06653515739833082\t-0.07821301844073512\n"
     ]
    }
   ],
   "source": [
    "print(f'{age_gfm.average_odds_difference(\"young\", \"middle-age\")}\\t{age_gfm.average_odds_difference(\"young\", \"old\")}')"
   ]
  },
  {
   "cell_type": "markdown",
   "metadata": {},
   "source": [
    "### Income Bias"
   ]
  },
  {
   "cell_type": "code",
   "execution_count": null,
   "metadata": {},
   "outputs": [],
   "source": [
    "ax = sns.countplot(res[INCOME])\n",
    "res[INCOME].value_counts()"
   ]
  },
  {
   "cell_type": "code",
   "execution_count": null,
   "metadata": {},
   "outputs": [],
   "source": [
    "income_metrics_df = res.groupby(INCOME).apply(metrics_from_df).to_frame(\"fairness_metrics_per_class\")\n",
    "income_metrics_df"
   ]
  },
  {
   "cell_type": "markdown",
   "metadata": {},
   "source": [
    "Plot Metrics"
   ]
  },
  {
   "cell_type": "code",
   "execution_count": null,
   "metadata": {
    "scrolled": true
   },
   "outputs": [],
   "source": [
    "plot_df = plot_for_metric_class(income_metrics_df)\n",
    "plot_df"
   ]
  },
  {
   "cell_type": "code",
   "execution_count": null,
   "metadata": {
    "scrolled": true
   },
   "outputs": [],
   "source": [
    "ax = sns.barplot(x=INCOME, y=\"FPR\", data=plot_df)"
   ]
  },
  {
   "cell_type": "markdown",
   "metadata": {},
   "source": [
    "Copy to clipboard for easy pasting into results sheet"
   ]
  },
  {
   "cell_type": "code",
   "execution_count": null,
   "metadata": {},
   "outputs": [],
   "source": [
    "plot_df.to_clipboard(False)"
   ]
  },
  {
   "cell_type": "code",
   "execution_count": null,
   "metadata": {},
   "outputs": [],
   "source": [
    "income_gfm = GroupFairnessMetrics(res, INCOME)"
   ]
  },
  {
   "cell_type": "code",
   "execution_count": null,
   "metadata": {},
   "outputs": [],
   "source": [
    "income_gfm.equal_opportunity_difference(0, 1), income_gfm.equal_opportunity_difference(0, 3)"
   ]
  },
  {
   "cell_type": "code",
   "execution_count": null,
   "metadata": {},
   "outputs": [],
   "source": [
    "income_gfm.average_odds_difference(0, 1), income_gfm.average_odds_difference(0, 3)"
   ]
  },
  {
   "cell_type": "markdown",
   "metadata": {},
   "source": [
    "### Homecountry Bias"
   ]
  },
  {
   "cell_type": "code",
   "execution_count": null,
   "metadata": {},
   "outputs": [],
   "source": [
    "ax = sns.countplot(res[HOME_COUNTRY])\n",
    "res[HOME_COUNTRY].value_counts()"
   ]
  },
  {
   "cell_type": "code",
   "execution_count": null,
   "metadata": {},
   "outputs": [],
   "source": [
    "homecountry_metrics_df = res.groupby(HOME_COUNTRY).apply(metrics_from_df).to_frame(\"fairness_metrics_per_class\")\n",
    "homecountry_metrics_df"
   ]
  },
  {
   "cell_type": "markdown",
   "metadata": {},
   "source": [
    "Plot Metrics"
   ]
  },
  {
   "cell_type": "code",
   "execution_count": null,
   "metadata": {
    "scrolled": true
   },
   "outputs": [],
   "source": [
    "plot_df = plot_for_metric_class(homecountry_metrics_df)\n",
    "plot_df"
   ]
  },
  {
   "cell_type": "code",
   "execution_count": null,
   "metadata": {
    "scrolled": true
   },
   "outputs": [],
   "source": [
    "ax = sns.barplot(x=HOME_COUNTRY, y=\"FPR\", data=plot_df)"
   ]
  },
  {
   "cell_type": "markdown",
   "metadata": {},
   "source": [
    "Copy to clipboard for easy pasting into results sheet"
   ]
  },
  {
   "cell_type": "markdown",
   "metadata": {},
   "source": [
    "### AdCat 11 (Kitchen & Home)"
   ]
  },
  {
   "cell_type": "code",
   "execution_count": null,
   "metadata": {},
   "outputs": [],
   "source": [
    "# Filter train & val df for Ads of Category 11 - \"Kitchen & Home\"\n",
    "train_fairness_df_adcat11 = train_fairness_df[train_fairness_df['AdId'].str.startswith(\"A11_\")]\n",
    "val_fairness_df_adcat11 = val_fairness_df[val_fairness_df['AdId'].str.startswith(\"A11_\")]\n",
    "train_fairness_df_adcat11.shape, val_fairness_df_adcat11.shape"
   ]
  },
  {
   "cell_type": "code",
   "execution_count": null,
   "metadata": {},
   "outputs": [],
   "source": [
    "val_fairness_df_adcat11[GENDER].value_counts()"
   ]
  },
  {
   "cell_type": "code",
   "execution_count": null,
   "metadata": {},
   "outputs": [],
   "source": [
    "val_fairness_df[GENDER].value_counts()"
   ]
  },
  {
   "cell_type": "code",
   "execution_count": null,
   "metadata": {},
   "outputs": [],
   "source": [
    "%%time\n",
    "\n",
    "res = predict_on_dataset(val_fairness_df_adcat11, model, embedding_store, [AGE, GENDER, INCOME, HOME_COUNTRY])"
   ]
  },
  {
   "cell_type": "code",
   "execution_count": null,
   "metadata": {},
   "outputs": [],
   "source": [
    "out_path = f\"logs/{RANDOM_SEED}/inference_data_AdCat11.csv\"\n",
    "\n",
    "res.to_csv(out_path, index=False)\n",
    "print(f\"Saved inference data at {out_path}\")"
   ]
  },
  {
   "cell_type": "code",
   "execution_count": null,
   "metadata": {},
   "outputs": [],
   "source": [
    "out_path"
   ]
  },
  {
   "cell_type": "code",
   "execution_count": null,
   "metadata": {},
   "outputs": [],
   "source": [
    "# res = pd.read_csv(\"logs/\" + str(RANDOM_SEED) + \"/inference_data.csv\")\n",
    "res = pd.read_csv(out_path)"
   ]
  },
  {
   "cell_type": "code",
   "execution_count": null,
   "metadata": {
    "scrolled": true
   },
   "outputs": [],
   "source": [
    "res.sample(4).T"
   ]
  },
  {
   "cell_type": "markdown",
   "metadata": {},
   "source": [
    "#### Gender Bias"
   ]
  },
  {
   "cell_type": "code",
   "execution_count": null,
   "metadata": {},
   "outputs": [],
   "source": [
    "gender_metrics_df = res.groupby(GENDER).apply(metrics_from_df).to_frame(\"fairness_metrics_per_class\")\n",
    "gender_metrics_df"
   ]
  },
  {
   "cell_type": "markdown",
   "metadata": {},
   "source": [
    "Plot Metrics"
   ]
  },
  {
   "cell_type": "code",
   "execution_count": null,
   "metadata": {},
   "outputs": [],
   "source": [
    "plot_df = plot_for_metric_class(gender_metrics_df)\n",
    "plot_df"
   ]
  },
  {
   "cell_type": "code",
   "execution_count": null,
   "metadata": {
    "scrolled": false
   },
   "outputs": [],
   "source": [
    "ax = sns.barplot(x=GENDER, y=\"FPR\", data=plot_df)"
   ]
  },
  {
   "cell_type": "markdown",
   "metadata": {},
   "source": [
    "Copy to clipboard for easy pasting into results sheet"
   ]
  },
  {
   "cell_type": "code",
   "execution_count": null,
   "metadata": {},
   "outputs": [],
   "source": [
    "plot_df.to_clipboard(False)"
   ]
  },
  {
   "cell_type": "code",
   "execution_count": null,
   "metadata": {},
   "outputs": [],
   "source": [
    "gender_fairness_metrics = GroupFairnessMetrics(res, GENDER)"
   ]
  },
  {
   "cell_type": "code",
   "execution_count": null,
   "metadata": {},
   "outputs": [],
   "source": [
    "gender_fairness_metrics.equal_opportunity_difference(\"F\", \"M\")"
   ]
  },
  {
   "cell_type": "code",
   "execution_count": null,
   "metadata": {},
   "outputs": [],
   "source": [
    "gender_fairness_metrics.average_odds_difference(\"F\", \"M\")"
   ]
  },
  {
   "cell_type": "markdown",
   "metadata": {},
   "source": [
    "#### Income Bias"
   ]
  },
  {
   "cell_type": "code",
   "execution_count": null,
   "metadata": {},
   "outputs": [],
   "source": [
    "ax = sns.countplot(res[INCOME])\n",
    "res[INCOME].value_counts()"
   ]
  },
  {
   "cell_type": "code",
   "execution_count": null,
   "metadata": {},
   "outputs": [],
   "source": [
    "income_metrics_df = res.groupby(INCOME).apply(metrics_from_df).to_frame(\"fairness_metrics_per_class\")\n",
    "income_metrics_df"
   ]
  },
  {
   "cell_type": "markdown",
   "metadata": {},
   "source": [
    "Plot Metrics"
   ]
  },
  {
   "cell_type": "code",
   "execution_count": null,
   "metadata": {},
   "outputs": [],
   "source": [
    "plot_df = plot_for_metric_class(income_metrics_df)\n",
    "plot_df"
   ]
  },
  {
   "cell_type": "code",
   "execution_count": null,
   "metadata": {
    "scrolled": false
   },
   "outputs": [],
   "source": [
    "ax = sns.barplot(x=INCOME, y=\"FPR\", data=plot_df)"
   ]
  },
  {
   "cell_type": "markdown",
   "metadata": {},
   "source": [
    "Copy to clipboard for easy pasting into results sheet"
   ]
  },
  {
   "cell_type": "code",
   "execution_count": null,
   "metadata": {},
   "outputs": [],
   "source": [
    "plot_df.to_clipboard(False)"
   ]
  },
  {
   "cell_type": "code",
   "execution_count": null,
   "metadata": {},
   "outputs": [],
   "source": [
    "income_gfm = GroupFairnessMetrics(res, INCOME)"
   ]
  },
  {
   "cell_type": "code",
   "execution_count": null,
   "metadata": {},
   "outputs": [],
   "source": [
    "income_gfm.equal_opportunity_difference(0, 1), income_gfm.equal_opportunity_difference(0, 3)"
   ]
  },
  {
   "cell_type": "code",
   "execution_count": null,
   "metadata": {},
   "outputs": [],
   "source": [
    "income_gfm.average_odds_difference(0, 1), income_gfm.average_odds_difference(0, 3)"
   ]
  },
  {
   "cell_type": "markdown",
   "metadata": {},
   "source": [
    "### AdCat 03 (Baby Products)"
   ]
  },
  {
   "cell_type": "code",
   "execution_count": null,
   "metadata": {},
   "outputs": [],
   "source": [
    "# Filter train & val df for Ads of Category 11 - \"Kitchen & Home\"\n",
    "train_fairness_df_adcat03 = train_fairness_df[train_fairness_df['AdId'].str.startswith(\"A03_\")]\n",
    "val_fairness_df_adcat03 = val_fairness_df[val_fairness_df['AdId'].str.startswith(\"A03_\")]\n",
    "train_fairness_df_adcat03.shape, val_fairness_df_adcat03.shape"
   ]
  },
  {
   "cell_type": "code",
   "execution_count": null,
   "metadata": {},
   "outputs": [],
   "source": [
    "val_fairness_df_adcat03[GENDER].value_counts()"
   ]
  },
  {
   "cell_type": "code",
   "execution_count": null,
   "metadata": {},
   "outputs": [],
   "source": [
    "val_fairness_df[GENDER].value_counts()"
   ]
  },
  {
   "cell_type": "code",
   "execution_count": null,
   "metadata": {},
   "outputs": [],
   "source": [
    "%%time\n",
    "\n",
    "res = predict_on_dataset(val_fairness_df_adcat03, model, embedding_store, [AGE, GENDER, INCOME, HOME_COUNTRY])"
   ]
  },
  {
   "cell_type": "code",
   "execution_count": null,
   "metadata": {},
   "outputs": [],
   "source": [
    "out_path = f\"logs/{RANDOM_SEED}/inference_data_AdCat03.csv\"\n",
    "\n",
    "res.to_csv(out_path, index=False)\n",
    "print(f\"Saved inference data at {out_path}\")"
   ]
  },
  {
   "cell_type": "code",
   "execution_count": null,
   "metadata": {},
   "outputs": [],
   "source": [
    "out_path"
   ]
  },
  {
   "cell_type": "code",
   "execution_count": null,
   "metadata": {},
   "outputs": [],
   "source": [
    "# res = pd.read_csv(\"logs/\" + str(RANDOM_SEED) + \"/inference_data.csv\")\n",
    "res = pd.read_csv(out_path)"
   ]
  },
  {
   "cell_type": "code",
   "execution_count": null,
   "metadata": {
    "scrolled": true
   },
   "outputs": [],
   "source": [
    "res.sample(4).T"
   ]
  },
  {
   "cell_type": "markdown",
   "metadata": {},
   "source": [
    "#### Gender Bias"
   ]
  },
  {
   "cell_type": "code",
   "execution_count": null,
   "metadata": {},
   "outputs": [],
   "source": [
    "gender_metrics_df = res.groupby(GENDER).apply(metrics_from_df).to_frame(\"fairness_metrics_per_class\")\n",
    "gender_metrics_df"
   ]
  },
  {
   "cell_type": "markdown",
   "metadata": {},
   "source": [
    "Plot Metrics"
   ]
  },
  {
   "cell_type": "code",
   "execution_count": null,
   "metadata": {},
   "outputs": [],
   "source": [
    "plot_df = plot_for_metric_class(gender_metrics_df)\n",
    "plot_df"
   ]
  },
  {
   "cell_type": "code",
   "execution_count": null,
   "metadata": {
    "scrolled": false
   },
   "outputs": [],
   "source": [
    "ax = sns.barplot(x=GENDER, y=\"FPR\", data=plot_df)"
   ]
  },
  {
   "cell_type": "markdown",
   "metadata": {},
   "source": [
    "Copy to clipboard for easy pasting into results sheet"
   ]
  },
  {
   "cell_type": "code",
   "execution_count": null,
   "metadata": {},
   "outputs": [],
   "source": [
    "plot_df.to_clipboard(False)"
   ]
  },
  {
   "cell_type": "code",
   "execution_count": null,
   "metadata": {},
   "outputs": [],
   "source": [
    "gender_fairness_metrics = GroupFairnessMetrics(res, GENDER)"
   ]
  },
  {
   "cell_type": "code",
   "execution_count": null,
   "metadata": {},
   "outputs": [],
   "source": [
    "gender_fairness_metrics.equal_opportunity_difference(\"F\", \"M\")"
   ]
  },
  {
   "cell_type": "code",
   "execution_count": null,
   "metadata": {},
   "outputs": [],
   "source": [
    "gender_fairness_metrics.average_odds_difference(\"F\", \"M\")"
   ]
  },
  {
   "cell_type": "markdown",
   "metadata": {},
   "source": [
    "### AdCat 06 (Consumer Electronics)"
   ]
  },
  {
   "cell_type": "code",
   "execution_count": null,
   "metadata": {},
   "outputs": [],
   "source": [
    "# Filter train & val df for Ads of Category 11 - \"Kitchen & Home\"\n",
    "train_fairness_df_adcat06 = train_fairness_df[train_fairness_df['AdId'].str.startswith(\"A06_\")]\n",
    "val_fairness_df_adcat06 = val_fairness_df[val_fairness_df['AdId'].str.startswith(\"A06_\")]\n",
    "train_fairness_df_adcat06.shape, val_fairness_df_adcat06.shape"
   ]
  },
  {
   "cell_type": "code",
   "execution_count": null,
   "metadata": {},
   "outputs": [],
   "source": [
    "val_fairness_df_adcat06[GENDER].value_counts()"
   ]
  },
  {
   "cell_type": "code",
   "execution_count": null,
   "metadata": {},
   "outputs": [],
   "source": [
    "val_fairness_df[GENDER].value_counts()"
   ]
  },
  {
   "cell_type": "code",
   "execution_count": null,
   "metadata": {},
   "outputs": [],
   "source": [
    "%%time\n",
    "\n",
    "res = predict_on_dataset(val_fairness_df_adcat06, model, embedding_store, [AGE, GENDER, INCOME, HOME_COUNTRY])"
   ]
  },
  {
   "cell_type": "code",
   "execution_count": null,
   "metadata": {},
   "outputs": [],
   "source": [
    "out_path = f\"logs/{RANDOM_SEED}/inference_data_AdCat06.csv\"\n",
    "\n",
    "res.to_csv(out_path, index=False)\n",
    "print(f\"Saved inference data at {out_path}\")"
   ]
  },
  {
   "cell_type": "code",
   "execution_count": null,
   "metadata": {},
   "outputs": [],
   "source": [
    "out_path"
   ]
  },
  {
   "cell_type": "code",
   "execution_count": null,
   "metadata": {},
   "outputs": [],
   "source": [
    "# res = pd.read_csv(\"logs/\" + str(RANDOM_SEED) + \"/inference_data.csv\")\n",
    "res = pd.read_csv(out_path)"
   ]
  },
  {
   "cell_type": "code",
   "execution_count": null,
   "metadata": {
    "scrolled": true
   },
   "outputs": [],
   "source": [
    "res.sample(4).T"
   ]
  },
  {
   "cell_type": "markdown",
   "metadata": {},
   "source": [
    "#### Gender Bias"
   ]
  },
  {
   "cell_type": "code",
   "execution_count": null,
   "metadata": {},
   "outputs": [],
   "source": [
    "gender_metrics_df = res.groupby(GENDER).apply(metrics_from_df).to_frame(\"fairness_metrics_per_class\")\n",
    "gender_metrics_df"
   ]
  },
  {
   "cell_type": "markdown",
   "metadata": {},
   "source": [
    "Plot Metrics"
   ]
  },
  {
   "cell_type": "code",
   "execution_count": null,
   "metadata": {},
   "outputs": [],
   "source": [
    "plot_df = plot_for_metric_class(gender_metrics_df)\n",
    "plot_df"
   ]
  },
  {
   "cell_type": "code",
   "execution_count": null,
   "metadata": {
    "scrolled": false
   },
   "outputs": [],
   "source": [
    "ax = sns.barplot(x=GENDER, y=\"FPR\", data=plot_df)"
   ]
  },
  {
   "cell_type": "markdown",
   "metadata": {},
   "source": [
    "Copy to clipboard for easy pasting into results sheet"
   ]
  },
  {
   "cell_type": "code",
   "execution_count": null,
   "metadata": {},
   "outputs": [],
   "source": [
    "plot_df.to_clipboard(False)"
   ]
  },
  {
   "cell_type": "code",
   "execution_count": null,
   "metadata": {},
   "outputs": [],
   "source": [
    "gender_fairness_metrics = GroupFairnessMetrics(res, GENDER)"
   ]
  },
  {
   "cell_type": "code",
   "execution_count": null,
   "metadata": {},
   "outputs": [],
   "source": [
    "gender_fairness_metrics.equal_opportunity_difference(\"F\", \"M\")"
   ]
  },
  {
   "cell_type": "code",
   "execution_count": null,
   "metadata": {},
   "outputs": [],
   "source": [
    "gender_fairness_metrics.average_odds_difference(\"F\", \"M\")"
   ]
  },
  {
   "cell_type": "markdown",
   "metadata": {},
   "source": [
    "#### Age Bias"
   ]
  },
  {
   "cell_type": "code",
   "execution_count": null,
   "metadata": {},
   "outputs": [],
   "source": [
    "res[AGE] = res[AGE].astype(\"int\")"
   ]
  },
  {
   "cell_type": "code",
   "execution_count": null,
   "metadata": {
    "scrolled": true
   },
   "outputs": [],
   "source": [
    "ax = sns.distplot(res[AGE], kde=False, bins=50)"
   ]
  },
  {
   "cell_type": "code",
   "execution_count": null,
   "metadata": {},
   "outputs": [],
   "source": [
    "AGE_BUCKET = AGE + \"_bucket\"\n",
    "bucket_boundaries = [0, 20, 40, 100] # refer pandas.cut() for syntax on binning\n",
    "age_labels = [\"young\", \"middle-age\", \"old\"] # refer pandas.cut() for syntax on labels"
   ]
  },
  {
   "cell_type": "code",
   "execution_count": null,
   "metadata": {},
   "outputs": [],
   "source": [
    "res[AGE_BUCKET] = pd.cut(res[AGE], bins=bucket_boundaries, labels=age_labels)\n",
    "res[[AGE, AGE_BUCKET]].sample(n=5)"
   ]
  },
  {
   "cell_type": "code",
   "execution_count": null,
   "metadata": {
    "scrolled": true
   },
   "outputs": [],
   "source": [
    "ax = sns.countplot(res[AGE_BUCKET])\n",
    "res[AGE_BUCKET].value_counts()"
   ]
  },
  {
   "cell_type": "code",
   "execution_count": null,
   "metadata": {},
   "outputs": [],
   "source": [
    "age_metrics_df = res.groupby(AGE_BUCKET).apply(metrics_from_df).to_frame(\"fairness_metrics_per_class\")\n",
    "age_metrics_df"
   ]
  },
  {
   "cell_type": "markdown",
   "metadata": {},
   "source": [
    "Plot Metrics"
   ]
  },
  {
   "cell_type": "code",
   "execution_count": null,
   "metadata": {},
   "outputs": [],
   "source": [
    "plot_df = plot_for_metric_class(age_metrics_df)\n",
    "plot_df"
   ]
  },
  {
   "cell_type": "code",
   "execution_count": null,
   "metadata": {},
   "outputs": [],
   "source": [
    "ax = sns.barplot(x=AGE_BUCKET, y=\"FPR\", data=plot_df)"
   ]
  },
  {
   "cell_type": "markdown",
   "metadata": {},
   "source": [
    "Copy to clipboard for easy pasting into results sheet"
   ]
  },
  {
   "cell_type": "code",
   "execution_count": null,
   "metadata": {},
   "outputs": [],
   "source": [
    "plot_df.to_clipboard(False)"
   ]
  },
  {
   "cell_type": "code",
   "execution_count": null,
   "metadata": {},
   "outputs": [],
   "source": [
    "age_gfm = GroupFairnessMetrics(res, AGE_BUCKET)"
   ]
  },
  {
   "cell_type": "code",
   "execution_count": null,
   "metadata": {},
   "outputs": [],
   "source": [
    "age_gfm.equal_opportunity_difference(\"young\", \"middle-age\"), age_gfm.equal_opportunity_difference(\"young\", \"old\")"
   ]
  },
  {
   "cell_type": "code",
   "execution_count": null,
   "metadata": {},
   "outputs": [],
   "source": [
    "age_gfm.average_odds_difference(\"young\", \"middle-age\"), age_gfm.average_odds_difference(\"young\", \"old\")"
   ]
  },
  {
   "cell_type": "markdown",
   "metadata": {},
   "source": [
    "#### Income Bias"
   ]
  },
  {
   "cell_type": "code",
   "execution_count": null,
   "metadata": {},
   "outputs": [],
   "source": [
    "ax = sns.countplot(res[INCOME])\n",
    "res[INCOME].value_counts()"
   ]
  },
  {
   "cell_type": "code",
   "execution_count": null,
   "metadata": {},
   "outputs": [],
   "source": [
    "income_metrics_df = res.groupby(INCOME).apply(metrics_from_df).to_frame(\"fairness_metrics_per_class\")\n",
    "income_metrics_df"
   ]
  },
  {
   "cell_type": "markdown",
   "metadata": {},
   "source": [
    "Plot Metrics"
   ]
  },
  {
   "cell_type": "code",
   "execution_count": null,
   "metadata": {},
   "outputs": [],
   "source": [
    "plot_df = plot_for_metric_class(income_metrics_df)\n",
    "plot_df"
   ]
  },
  {
   "cell_type": "code",
   "execution_count": null,
   "metadata": {
    "scrolled": false
   },
   "outputs": [],
   "source": [
    "ax = sns.barplot(x=INCOME, y=\"FPR\", data=plot_df)"
   ]
  },
  {
   "cell_type": "markdown",
   "metadata": {},
   "source": [
    "Copy to clipboard for easy pasting into results sheet"
   ]
  },
  {
   "cell_type": "code",
   "execution_count": null,
   "metadata": {},
   "outputs": [],
   "source": [
    "plot_df.to_clipboard(False)"
   ]
  },
  {
   "cell_type": "code",
   "execution_count": null,
   "metadata": {},
   "outputs": [],
   "source": [
    "income_gfm = GroupFairnessMetrics(res, INCOME)"
   ]
  },
  {
   "cell_type": "code",
   "execution_count": null,
   "metadata": {},
   "outputs": [],
   "source": [
    "income_gfm.equal_opportunity_difference(0, 1), income_gfm.equal_opportunity_difference(0, 3)"
   ]
  },
  {
   "cell_type": "code",
   "execution_count": null,
   "metadata": {},
   "outputs": [],
   "source": [
    "income_gfm.average_odds_difference(0, 1), income_gfm.average_odds_difference(0, 3)"
   ]
  },
  {
   "cell_type": "markdown",
   "metadata": {},
   "source": [
    "### AdCat 18 (Sports & Outdoors)"
   ]
  },
  {
   "cell_type": "code",
   "execution_count": null,
   "metadata": {},
   "outputs": [],
   "source": [
    "# Filter train & val df for Ads of Category 11 - \"Kitchen & Home\"\n",
    "train_fairness_df_adcat18 = train_fairness_df[train_fairness_df['AdId'].str.startswith(\"A18_\")]\n",
    "val_fairness_df_adcat18 = val_fairness_df[val_fairness_df['AdId'].str.startswith(\"A18_\")]\n",
    "train_fairness_df_adcat18.shape, val_fairness_df_adcat18.shape"
   ]
  },
  {
   "cell_type": "code",
   "execution_count": null,
   "metadata": {},
   "outputs": [],
   "source": [
    "val_fairness_df_adcat18[GENDER].value_counts()"
   ]
  },
  {
   "cell_type": "code",
   "execution_count": null,
   "metadata": {},
   "outputs": [],
   "source": [
    "val_fairness_df[GENDER].value_counts()"
   ]
  },
  {
   "cell_type": "code",
   "execution_count": null,
   "metadata": {},
   "outputs": [],
   "source": [
    "%%time\n",
    "\n",
    "res = predict_on_dataset(val_fairness_df_adcat18, model, embedding_store, [AGE, GENDER, INCOME, HOME_COUNTRY])"
   ]
  },
  {
   "cell_type": "code",
   "execution_count": null,
   "metadata": {},
   "outputs": [],
   "source": [
    "out_path = f\"logs/{RANDOM_SEED}/inference_data_AdCat18.csv\"\n",
    "\n",
    "res.to_csv(out_path, index=False)\n",
    "print(f\"Saved inference data at {out_path}\")"
   ]
  },
  {
   "cell_type": "code",
   "execution_count": null,
   "metadata": {},
   "outputs": [],
   "source": [
    "out_path"
   ]
  },
  {
   "cell_type": "code",
   "execution_count": null,
   "metadata": {},
   "outputs": [],
   "source": [
    "# res = pd.read_csv(\"logs/\" + str(RANDOM_SEED) + \"/inference_data.csv\")\n",
    "res = pd.read_csv(out_path)"
   ]
  },
  {
   "cell_type": "code",
   "execution_count": null,
   "metadata": {
    "scrolled": true
   },
   "outputs": [],
   "source": [
    "res.sample(4).T"
   ]
  },
  {
   "cell_type": "markdown",
   "metadata": {},
   "source": [
    "#### Gender Bias"
   ]
  },
  {
   "cell_type": "code",
   "execution_count": null,
   "metadata": {},
   "outputs": [],
   "source": [
    "gender_metrics_df = res.groupby(GENDER).apply(metrics_from_df).to_frame(\"fairness_metrics_per_class\")\n",
    "gender_metrics_df"
   ]
  },
  {
   "cell_type": "markdown",
   "metadata": {},
   "source": [
    "Plot Metrics"
   ]
  },
  {
   "cell_type": "code",
   "execution_count": null,
   "metadata": {},
   "outputs": [],
   "source": [
    "plot_df = plot_for_metric_class(gender_metrics_df)\n",
    "plot_df"
   ]
  },
  {
   "cell_type": "code",
   "execution_count": null,
   "metadata": {
    "scrolled": false
   },
   "outputs": [],
   "source": [
    "ax = sns.barplot(x=GENDER, y=\"FPR\", data=plot_df)"
   ]
  },
  {
   "cell_type": "markdown",
   "metadata": {},
   "source": [
    "Copy to clipboard for easy pasting into results sheet"
   ]
  },
  {
   "cell_type": "code",
   "execution_count": null,
   "metadata": {},
   "outputs": [],
   "source": [
    "plot_df.to_clipboard(False)"
   ]
  },
  {
   "cell_type": "code",
   "execution_count": null,
   "metadata": {},
   "outputs": [],
   "source": [
    "gender_fairness_metrics = GroupFairnessMetrics(res, GENDER)"
   ]
  },
  {
   "cell_type": "code",
   "execution_count": null,
   "metadata": {},
   "outputs": [],
   "source": [
    "gender_fairness_metrics.equal_opportunity_difference(\"F\", \"M\")"
   ]
  },
  {
   "cell_type": "code",
   "execution_count": null,
   "metadata": {},
   "outputs": [],
   "source": [
    "gender_fairness_metrics.average_odds_difference(\"F\", \"M\")"
   ]
  },
  {
   "cell_type": "markdown",
   "metadata": {},
   "source": [
    "#### Age Bias"
   ]
  },
  {
   "cell_type": "code",
   "execution_count": null,
   "metadata": {},
   "outputs": [],
   "source": [
    "res[AGE] = res[AGE].astype(\"int\")"
   ]
  },
  {
   "cell_type": "code",
   "execution_count": null,
   "metadata": {
    "scrolled": true
   },
   "outputs": [],
   "source": [
    "ax = sns.distplot(res[AGE], kde=False, bins=50)"
   ]
  },
  {
   "cell_type": "code",
   "execution_count": null,
   "metadata": {},
   "outputs": [],
   "source": [
    "AGE_BUCKET = AGE + \"_bucket\"\n",
    "bucket_boundaries = [0, 20, 40, 100] # refer pandas.cut() for syntax on binning\n",
    "age_labels = [\"young\", \"middle-age\", \"old\"] # refer pandas.cut() for syntax on labels"
   ]
  },
  {
   "cell_type": "code",
   "execution_count": null,
   "metadata": {},
   "outputs": [],
   "source": [
    "res[AGE_BUCKET] = pd.cut(res[AGE], bins=bucket_boundaries, labels=age_labels)\n",
    "res[[AGE, AGE_BUCKET]].sample(n=5)"
   ]
  },
  {
   "cell_type": "code",
   "execution_count": null,
   "metadata": {
    "scrolled": true
   },
   "outputs": [],
   "source": [
    "ax = sns.countplot(res[AGE_BUCKET])\n",
    "res[AGE_BUCKET].value_counts()"
   ]
  },
  {
   "cell_type": "code",
   "execution_count": null,
   "metadata": {},
   "outputs": [],
   "source": [
    "age_metrics_df = res.groupby(AGE_BUCKET).apply(metrics_from_df).to_frame(\"fairness_metrics_per_class\")\n",
    "age_metrics_df"
   ]
  },
  {
   "cell_type": "markdown",
   "metadata": {},
   "source": [
    "Plot Metrics"
   ]
  },
  {
   "cell_type": "code",
   "execution_count": null,
   "metadata": {},
   "outputs": [],
   "source": [
    "plot_df = plot_for_metric_class(age_metrics_df)\n",
    "plot_df"
   ]
  },
  {
   "cell_type": "code",
   "execution_count": null,
   "metadata": {},
   "outputs": [],
   "source": [
    "ax = sns.barplot(x=AGE_BUCKET, y=\"FPR\", data=plot_df)"
   ]
  },
  {
   "cell_type": "markdown",
   "metadata": {},
   "source": [
    "Copy to clipboard for easy pasting into results sheet"
   ]
  },
  {
   "cell_type": "code",
   "execution_count": null,
   "metadata": {},
   "outputs": [],
   "source": [
    "plot_df.to_clipboard(False)"
   ]
  },
  {
   "cell_type": "code",
   "execution_count": null,
   "metadata": {},
   "outputs": [],
   "source": [
    "age_gfm = GroupFairnessMetrics(res, AGE_BUCKET)"
   ]
  },
  {
   "cell_type": "code",
   "execution_count": null,
   "metadata": {},
   "outputs": [],
   "source": [
    "age_gfm.equal_opportunity_difference(\"young\", \"middle-age\"), age_gfm.equal_opportunity_difference(\"young\", \"old\")"
   ]
  },
  {
   "cell_type": "code",
   "execution_count": null,
   "metadata": {},
   "outputs": [],
   "source": [
    "age_gfm.average_odds_difference(\"young\", \"middle-age\"), age_gfm.average_odds_difference(\"young\", \"old\")"
   ]
  },
  {
   "cell_type": "markdown",
   "metadata": {
    "heading_collapsed": true
   },
   "source": [
    "## Rough"
   ]
  },
  {
   "cell_type": "markdown",
   "metadata": {
    "hidden": true
   },
   "source": [
    "### Featurize using Feature Columns\n",
    "\n",
    "Create feature columns like one-hot, embeddings, bucketing from raw features created earlier"
   ]
  },
  {
   "cell_type": "code",
   "execution_count": null,
   "metadata": {
    "hidden": true
   },
   "outputs": [],
   "source": [
    "EXAMPLE_BATCH = next(iter(input_fn_train(3)))[0]"
   ]
  },
  {
   "cell_type": "code",
   "execution_count": null,
   "metadata": {
    "hidden": true
   },
   "outputs": [],
   "source": [
    "EXAMPLE_BATCH"
   ]
  },
  {
   "cell_type": "code",
   "execution_count": null,
   "metadata": {
    "hidden": true
   },
   "outputs": [],
   "source": [
    "def test_feature_column(feature_column):\n",
    "    feature_layer = tf.keras.layers.DenseFeatures(feature_column)\n",
    "    return feature_layer(EXAMPLE_BATCH).numpy()"
   ]
  },
  {
   "cell_type": "code",
   "execution_count": null,
   "metadata": {
    "hidden": true
   },
   "outputs": [],
   "source": [
    "age_fc = tf.feature_column.numeric_column(AGE, normalizer_fn=lambda x: (x - MEAN_AGE) / STD_AGE)"
   ]
  },
  {
   "cell_type": "code",
   "execution_count": null,
   "metadata": {
    "hidden": true
   },
   "outputs": [],
   "source": [
    "zip_fcs = [\n",
    "    tf.feature_column.indicator_column(\n",
    "        tf.feature_column.categorical_column_with_vocabulary_list(\n",
    "            f\"{ZIP_CODE}{i}\", vocabulary_list=list(string.digits), \n",
    "            num_oov_buckets=1)\n",
    "    )\n",
    "    for i in range(FIRST_K_ZIP_DIGITS)\n",
    "]"
   ]
  },
  {
   "cell_type": "code",
   "execution_count": null,
   "metadata": {
    "hidden": true,
    "scrolled": true
   },
   "outputs": [],
   "source": [
    "EXAMPLE_BATCH[AGE], test_feature_column(age_fc)"
   ]
  },
  {
   "cell_type": "code",
   "execution_count": null,
   "metadata": {
    "hidden": true
   },
   "outputs": [],
   "source": [
    "{k: v for k, v in EXAMPLE_BATCH.items() if k.startswith(ZIP_CODE)}, test_feature_column(zip_fcs)"
   ]
  },
  {
   "cell_type": "code",
   "execution_count": null,
   "metadata": {
    "hidden": true
   },
   "outputs": [],
   "source": [
    "tf.keras.layers.concatenate(age_fc, zip_fcs[0])"
   ]
  },
  {
   "cell_type": "markdown",
   "metadata": {
    "hidden": true
   },
   "source": [
    "### Fairness Indicators using TFMA"
   ]
  },
  {
   "cell_type": "code",
   "execution_count": null,
   "metadata": {
    "hidden": true
   },
   "outputs": [],
   "source": [
    "import os\n",
    "import tempfile\n",
    "import apache_beam as beam\n",
    "import numpy as np\n",
    "import pandas as pd\n",
    "from datetime import datetime\n",
    "\n",
    "import tensorflow_hub as hub\n",
    "import tensorflow as tf\n",
    "import tensorflow_model_analysis as tfma\n",
    "import tensorflow_data_validation as tfdv\n",
    "from tensorflow_model_analysis.addons.fairness.post_export_metrics import fairness_indicators\n",
    "from tensorflow_model_analysis.addons.fairness.view import widget_view\n",
    "from fairness_indicators.examples import util\n",
    "\n",
    "from witwidget.notebook.visualization import WitConfigBuilder\n",
    "from witwidget.notebook.visualization import WitWidget\n"
   ]
  },
  {
   "cell_type": "code",
   "execution_count": null,
   "metadata": {
    "hidden": true
   },
   "outputs": [],
   "source": [
    "logdir"
   ]
  },
  {
   "cell_type": "code",
   "execution_count": null,
   "metadata": {
    "hidden": true
   },
   "outputs": [],
   "source": [
    "y_train[:100, :].shape"
   ]
  },
  {
   "cell_type": "code",
   "execution_count": null,
   "metadata": {
    "hidden": true
   },
   "outputs": [],
   "source": [
    "from collections import OrderedDict"
   ]
  },
  {
   "cell_type": "code",
   "execution_count": null,
   "metadata": {
    "hidden": true
   },
   "outputs": [],
   "source": [
    "def dl():\n",
    "    for i in range(100):\n",
    "        yield OrderedDict({\n",
    "            FAV: embed_features[FAV][\"train\"][i, :],\n",
    "            UNFAV: embed_features[UNFAV][\"train\"][i, :],\n",
    "            \"non_embed_inputs\": X_train[i, :],\n",
    "            RATING: y_train[i, :]\n",
    "        })"
   ]
  },
  {
   "cell_type": "code",
   "execution_count": null,
   "metadata": {
    "hidden": true
   },
   "outputs": [],
   "source": [
    "dataset = tf.data.Dataset.from_generator(dl, \n",
    "            (tf.float32, tf.float32, tf.float32, tf.float32),\n",
    "            (tf.TensorShape([40]), tf.TensorShape([34]), tf.TensorShape([308]), tf.TensorShape([2])))"
   ]
  },
  {
   "cell_type": "code",
   "execution_count": null,
   "metadata": {
    "hidden": true
   },
   "outputs": [],
   "source": [
    "NON_EMBED_INPUTS = \"non_embed_inputs\""
   ]
  },
  {
   "cell_type": "code",
   "execution_count": null,
   "metadata": {
    "hidden": true
   },
   "outputs": [],
   "source": [
    "dataset = tf.data.Dataset.from_generator(dl, \n",
    "            {FAV: tf.float32, UNFAV: tf.float32, NON_EMBED_INPUTS: tf.float32, RATING: tf.float32},\n",
    "            {FAV: tf.TensorShape([40]), UNFAV: tf.TensorShape([34]), NON_EMBED_INPUTS: tf.TensorShape([308]), RATING: tf.TensorShape([2])})"
   ]
  },
  {
   "cell_type": "code",
   "execution_count": null,
   "metadata": {
    "hidden": true
   },
   "outputs": [],
   "source": [
    "fields_to_save = [FAV, UNFAV, NON_EMBED_INPUTS]"
   ]
  },
  {
   "cell_type": "code",
   "execution_count": null,
   "metadata": {
    "hidden": true
   },
   "outputs": [],
   "source": [
    "def serialize_example(*example:List[tf.Tensor]):\n",
    "    \"\"\"\n",
    "    Creates a tf.Example message ready to be written to a file.\n",
    "    \"\"\"\n",
    "    # Create a dictionary mapping the feature name to the tf.Example-compatible data type.\n",
    "    fields = {field: dtype_feature_map[example[i].dtype](example[i]) for i, field in enumerate(fields_to_save)}\n",
    "\n",
    "    # Create a Features message using tf.train.Example.\n",
    "    example_proto = tf.train.Example(features=tf.train.Features(feature=fields))\n",
    "    return example_proto.SerializeToString()\n",
    "\n",
    "def tf_serialize_example(example:Dict):\n",
    "    tf_string = tf.py_function(\n",
    "        serialize_example,\n",
    "        [example[field] for field in fields_to_save],  # pass these args to the above function.\n",
    "        tf.string)      # the return type is `tf.string`.\n",
    "    return tf.reshape(tf_string, ()) # The result is a scalar"
   ]
  },
  {
   "cell_type": "code",
   "execution_count": null,
   "metadata": {
    "hidden": true
   },
   "outputs": [],
   "source": [
    "# The following functions can be used to convert a value to a type compatible\n",
    "# with tf.Example.\n",
    "\n",
    "def _bytes_feature(value):\n",
    "    \"\"\"Returns a bytes_list from a string / byte.\"\"\"\n",
    "    if isinstance(value, type(tf.constant(0))):\n",
    "        value = value.numpy() # BytesList won't unpack a string from an EagerTensor.\n",
    "    return tf.train.Feature(bytes_list=tf.train.BytesList(value=[value]))\n",
    "\n",
    "def _float_feature(value):\n",
    "    \"\"\"Returns a float_list from a float / double.\"\"\"\n",
    "    if len(value.shape) > 0:\n",
    "        return tf.train.Feature(float_list=tf.train.FloatList(value=value))\n",
    "    return tf.train.Feature(float_list=tf.train.FloatList(value=[value]))\n",
    "\n",
    "def _int64_feature(value):\n",
    "    \"\"\"Returns an int64_list from a bool / enum / int / uint.\"\"\"\n",
    "    if len(value.shape) > 0:\n",
    "        return tf.train.Feature(int64_list=tf.train.Int64List(value=value))\n",
    "    return tf.train.Feature(int64_list=tf.train.Int64List(value=[value]))"
   ]
  },
  {
   "cell_type": "code",
   "execution_count": null,
   "metadata": {
    "hidden": true
   },
   "outputs": [],
   "source": [
    "dtype_feature_map = {\n",
    "    tf.dtypes.string: _bytes_feature,\n",
    "    tf.dtypes.float16: _float_feature,\n",
    "    tf.dtypes.float32: _float_feature,\n",
    "    tf.dtypes.float64: _float_feature,\n",
    "    tf.dtypes.int8: _int64_feature,\n",
    "    tf.dtypes.int16: _int64_feature,\n",
    "    tf.dtypes.int32: _int64_feature,\n",
    "    tf.dtypes.int64: _int64_feature\n",
    "}"
   ]
  },
  {
   "cell_type": "code",
   "execution_count": null,
   "metadata": {
    "hidden": true
   },
   "outputs": [],
   "source": [
    "analysis_data_folder = Path(\"./analysis_data_with_temporal_as_ints\")\n",
    "analysis_train_data_folder = analysis_data_folder/\"train.tfrecords\"\n",
    "analysis_val_data_folder = analysis_data_folder/\"val.tfrecords\"\n",
    "\n",
    "analysis_data_folder.mkdir(exist_ok=True, parents=True)"
   ]
  },
  {
   "cell_type": "code",
   "execution_count": null,
   "metadata": {
    "hidden": true
   },
   "outputs": [],
   "source": [
    "from shutil import rmtree"
   ]
  },
  {
   "cell_type": "code",
   "execution_count": null,
   "metadata": {
    "hidden": true
   },
   "outputs": [],
   "source": [
    "def save_dataset_part(dataset:tf.data, part:int, save_in_folder:Union[Path, str], overwrite=False):\n",
    "    \"\"\"\n",
    "    Save a sharded dataset to a folder\n",
    "    \"\"\"\n",
    "    print(f\"Working on part-{part} of the file\")\n",
    "    save_in_folder:Path = Path(save_in_folder) # change to Path object if not already\n",
    "    overwrite and rmtree(save_in_folder, ignore_errors=True)\n",
    "    save_in_folder.mkdir(parents=True, exist_ok=True)\n",
    "    writer = tf.data.experimental.TFRecordWriter(f\"{save_in_folder}/part-{part}\")\n",
    "    writer.write(dataset)\n",
    "    \n",
    "save_dataset_part_parallel_fn = partial(save_dataset_part, save_in_folder=analysis_data_folder)"
   ]
  },
  {
   "cell_type": "code",
   "execution_count": null,
   "metadata": {
    "hidden": true
   },
   "outputs": [],
   "source": [
    "def prepare_dataset_for_save(dataset):\n",
    "    return dataset.\\\n",
    "        unbatch().\\\n",
    "        map(tf_serialize_example, tf.data.experimental.AUTOTUNE)"
   ]
  },
  {
   "cell_type": "code",
   "execution_count": null,
   "metadata": {
    "hidden": true
   },
   "outputs": [],
   "source": [
    "d1 = prepare_dataset_for_save(dataset.batch(1))"
   ]
  },
  {
   "cell_type": "code",
   "execution_count": null,
   "metadata": {
    "hidden": true
   },
   "outputs": [],
   "source": [
    "save_dataset_part(d1, 0, analysis_train_data_folder, overwrite=True)"
   ]
  },
  {
   "cell_type": "code",
   "execution_count": null,
   "metadata": {
    "hidden": true
   },
   "outputs": [],
   "source": [
    "! ls {logdir}"
   ]
  },
  {
   "cell_type": "code",
   "execution_count": null,
   "metadata": {
    "hidden": true
   },
   "outputs": [],
   "source": [
    "#@title Fairness Indicators Computation Options\n",
    "tfma_eval_result_path = f'{logdir}/tfma_eval_result'\n",
    "\n",
    "#@markdown Modify the slice_selection for experiments on other identities.\n",
    "slice_selection = 'gender' #@param [\"sexual_orientation\", \"gender\", \"religion\", \"race\", \"disability\"]\n",
    "#@markdown Confidence Intervals can help you make better decisions regarding your data, but as it requires computing multiple resamples, is slower particularly in the colab environment that cannot take advantage of parallelization.\n",
    "compute_confidence_intervals = False #@param {type:\"boolean\"}\n",
    "\n",
    "# # Define slices that you want the evaluation to run on.\n",
    "slice_spec = [\n",
    "    tfma.slicer.SingleSliceSpec(), # Overall slice\n",
    "    tfma.slicer.SingleSliceSpec(columns=[slice_selection]),\n",
    "]\n",
    "\n",
    "# # Add the fairness metrics.\n",
    "add_metrics_callbacks = [\n",
    "  tfma.post_export_metrics.fairness_indicators(\n",
    "      thresholds=[0.1, 0.3, 0.5, 0.7, 0.9],\n",
    "      labels_key=RATING\n",
    "      )\n",
    "]\n",
    "\n",
    "eval_shared_model = tfma.default_eval_shared_model(\n",
    "    eval_saved_model_path=(logdir/\"keras_saved_model\").as_posix(),\n",
    "    add_metrics_callbacks=add_metrics_callbacks)\n"
   ]
  },
  {
   "cell_type": "code",
   "execution_count": null,
   "metadata": {
    "hidden": true
   },
   "outputs": [],
   "source": [
    "from google.protobuf import text_format"
   ]
  },
  {
   "cell_type": "code",
   "execution_count": null,
   "metadata": {
    "hidden": true
   },
   "outputs": [],
   "source": [
    "eval_config = text_format.Parse(\"\"\"\n",
    "  # https://www.tensorflow.org/tfx/model_analysis/setup#model_specs\n",
    "  model_specs {\n",
    "    # This assumes a serving model with a \"serving_default\" signature.\n",
    "    label_key: \"%(label_key)s\"\n",
    "  }\n",
    "  metrics_specs {\n",
    "    metrics { class_name: \"ExampleCount\" }\n",
    "    metrics { class_name: \"WeightedExampleCount\" }\n",
    "    metrics { class_name: \"SparseCategoricalCrossentropy\" }\n",
    "    metrics { class_name: \"SparseCategoricalAccuracy\" }\n",
    "    metrics { class_name: \"Precision\" config: '\"top_k\": 1' }\n",
    "    metrics { class_name: \"Precision\" config: '\"top_k\": 3' }\n",
    "    metrics { class_name: \"Recall\" config: '\"top_k\": 1' }\n",
    "    metrics { class_name: \"Recall\" config: '\"top_k\": 3' }\n",
    "    metrics { class_name: \"AUC\" }\n",
    "  }\n",
    "  # https://www.tensorflow.org/tfx/model_analysis/setup#slicing_specs\n",
    "  slicing_specs {\n",
    "    feature_keys: [\"Age\"]\n",
    "  }\n",
    "\"\"\" % {\"label_key\": RATING}, tfma.EvalConfig())\n",
    "\n",
    "eval_shared_model = tfma.default_eval_shared_model(\n",
    "    eval_saved_model_path=(logdir/\"keras_saved_model\").as_posix(), \n",
    "    eval_config=eval_config, add_metrics_callbacks=add_metrics_callbacks)"
   ]
  },
  {
   "cell_type": "code",
   "execution_count": null,
   "metadata": {
    "hidden": true
   },
   "outputs": [],
   "source": [
    "eval_result = tfma.run_model_analysis(eval_shared_model=eval_shared_model,\n",
    "                                          eval_config=eval_config,\n",
    "                                          data_location=(analysis_train_data_folder/\"*\").as_posix(),\n",
    "                                          file_format='tfrecords',\n",
    "#                                           slice_spec=slice_list,\n",
    "#                                           output_path='sample_data',\n",
    "#                                           extractors=None, \n",
    "                                          desired_batch_size=1024,\n",
    "                                          random_seed_for_testing=RANDOM_SEED)"
   ]
  },
  {
   "cell_type": "code",
   "execution_count": null,
   "metadata": {
    "hidden": true
   },
   "outputs": [],
   "source": [
    "slices = [tfma.slicer.SingleSliceSpec(columns=[AGE])]\n",
    "tfma.view.render_slicing_metrics(eval_result, slicing_spec=slices[0])"
   ]
  },
  {
   "cell_type": "code",
   "execution_count": null,
   "metadata": {
    "hidden": true
   },
   "outputs": [],
   "source": [
    "validate_tf_file = \"analysis_data_with_temporal_as_ints/train.tfrecords/part-0\""
   ]
  },
  {
   "cell_type": "code",
   "execution_count": null,
   "metadata": {
    "hidden": true
   },
   "outputs": [],
   "source": [
    "# Run the fairness evaluation.\n",
    "with beam.Pipeline() as pipeline:\n",
    "    _ = (\n",
    "      pipeline\n",
    "      | 'ReadData' >> beam.io.ReadFromTFRecord(validate_tf_file)\n",
    "      | 'ExtractEvaluateAndWriteResults' >>\n",
    "       tfma.ExtractEvaluateAndWriteResults(\n",
    "                 eval_shared_model=eval_shared_model,\n",
    "                 slice_spec=slice_spec,\n",
    "                 compute_confidence_intervals=compute_confidence_intervals,\n",
    "                 output_path=tfma_eval_result_path)\n",
    "    )\n",
    "\n",
    "#     eval_result = tfma.load_eval_result(output_path=tfma_eval_result_path)"
   ]
  },
  {
   "cell_type": "code",
   "execution_count": null,
   "metadata": {
    "hidden": true
   },
   "outputs": [],
   "source": [
    "logdir"
   ]
  },
  {
   "cell_type": "code",
   "execution_count": null,
   "metadata": {
    "hidden": true
   },
   "outputs": [],
   "source": [
    "def create_target_for_model(d:Dict, target_col:str=RATING) -> Tuple[Dict, np.array]:\n",
    "    target = d.pop(target_col)\n",
    "    return d, target"
   ]
  },
  {
   "cell_type": "code",
   "execution_count": null,
   "metadata": {
    "hidden": true
   },
   "outputs": [],
   "source": [
    "for d in dataset.batch(1).take(2):\n",
    "    pprint(d)"
   ]
  },
  {
   "cell_type": "code",
   "execution_count": null,
   "metadata": {
    "hidden": true
   },
   "outputs": [],
   "source": [
    "for d in dataset.map(create_dataset_pd).take(2):\n",
    "    pprint(d)"
   ]
  },
  {
   "cell_type": "code",
   "execution_count": null,
   "metadata": {
    "hidden": true
   },
   "outputs": [],
   "source": [
    "for d in dl():\n",
    "    for k in d:\n",
    "        print(k, d[k].shape)\n",
    "    break"
   ]
  },
  {
   "cell_type": "code",
   "execution_count": null,
   "metadata": {
    "hidden": true
   },
   "outputs": [],
   "source": [
    "tf.data.Dataset.from_generator()"
   ]
  },
  {
   "cell_type": "code",
   "execution_count": null,
   "metadata": {
    "hidden": true,
    "scrolled": true
   },
   "outputs": [],
   "source": [
    "num_samples = 100\n",
    "\n",
    "pd.DataFrame(\n",
    "    {\n",
    "        FAV: embed_features[FAV][\"train\"][:num_samples, :],\n",
    "        UNFAV: embed_features[UNFAV][\"train\"][:num_samples, :],\n",
    "        \"non_embed_inputs\": X_train[:num_samples, :],\n",
    "        RATING: y_train[:num_samples, :]\n",
    "    },\n",
    "    index=range(num_samples)\n",
    ")"
   ]
  },
  {
   "cell_type": "code",
   "execution_count": null,
   "metadata": {
    "hidden": true
   },
   "outputs": [],
   "source": [
    "beam.io.ReadF"
   ]
  },
  {
   "cell_type": "code",
   "execution_count": null,
   "metadata": {
    "hidden": true
   },
   "outputs": [],
   "source": [
    "eval_shared_model??"
   ]
  },
  {
   "cell_type": "code",
   "execution_count": null,
   "metadata": {
    "hidden": true
   },
   "outputs": [],
   "source": [
    "tfma.ExtractEvaluateAndWriteResults??"
   ]
  },
  {
   "cell_type": "markdown",
   "metadata": {
    "hidden": true
   },
   "source": [
    "### Fairness Indicators using IBM's AIF360 Library"
   ]
  },
  {
   "cell_type": "markdown",
   "metadata": {
    "hidden": true
   },
   "source": [
    "```\n",
    "@misc{aif360-oct-2018,\n",
    "    title = \"{AI Fairness} 360:  An Extensible Toolkit for Detecting, Understanding, and Mitigating Unwanted Algorithmic Bias\",\n",
    "    author = {Rachel K. E. Bellamy and Kuntal Dey and Michael Hind and\n",
    "\tSamuel C. Hoffman and Stephanie Houde and Kalapriya Kannan and\n",
    "\tPranay Lohia and Jacquelyn Martino and Sameep Mehta and\n",
    "\tAleksandra Mojsilovic and Seema Nagar and Karthikeyan Natesan Ramamurthy and\n",
    "\tJohn Richards and Diptikalyan Saha and Prasanna Sattigeri and\n",
    "\tMoninder Singh and Kush R. Varshney and Yunfeng Zhang},\n",
    "    month = oct,\n",
    "    year = {2018},\n",
    "    url = {https://arxiv.org/abs/1810.01943}\n",
    "}\n",
    "```"
   ]
  },
  {
   "cell_type": "code",
   "execution_count": null,
   "metadata": {
    "hidden": true,
    "scrolled": true
   },
   "outputs": [],
   "source": [
    "! ./setup.sh # uncomment if you wish to install any new packages"
   ]
  },
  {
   "cell_type": "code",
   "execution_count": null,
   "metadata": {
    "hidden": true
   },
   "outputs": [],
   "source": [
    "from aif360.datasets import GermanDataset\n",
    "from aif360.metrics import BinaryLabelDatasetMetric\n",
    "from aif360.algorithms.preprocessing import Reweighing"
   ]
  },
  {
   "cell_type": "code",
   "execution_count": null,
   "metadata": {
    "hidden": true
   },
   "outputs": [],
   "source": [
    "from aif360.metrics import DatasetMetric"
   ]
  },
  {
   "cell_type": "code",
   "execution_count": null,
   "metadata": {
    "hidden": true
   },
   "outputs": [],
   "source": [
    "import aif360.sklearn.metrics as fm"
   ]
  },
  {
   "cell_type": "code",
   "execution_count": null,
   "metadata": {
    "hidden": true
   },
   "outputs": [],
   "source": [
    "fm"
   ]
  },
  {
   "cell_type": "code",
   "execution_count": null,
   "metadata": {
    "hidden": true
   },
   "outputs": [],
   "source": []
  },
  {
   "cell_type": "code",
   "execution_count": null,
   "metadata": {
    "hidden": true
   },
   "outputs": [],
   "source": []
  },
  {
   "cell_type": "code",
   "execution_count": null,
   "metadata": {
    "hidden": true
   },
   "outputs": [],
   "source": []
  }
 ],
 "metadata": {
  "kernelspec": {
   "display_name": "Python 3",
   "language": "python",
   "name": "python3"
  },
  "language_info": {
   "codemirror_mode": {
    "name": "ipython",
    "version": 3
   },
   "file_extension": ".py",
   "mimetype": "text/x-python",
   "name": "python",
   "nbconvert_exporter": "python",
   "pygments_lexer": "ipython3",
   "version": "3.7.7"
  },
  "toc": {
   "base_numbering": 1,
   "nav_menu": {},
   "number_sections": false,
   "sideBar": true,
   "skip_h1_title": true,
   "title_cell": "Table of Contents",
   "title_sidebar": "Contents",
   "toc_cell": false,
   "toc_position": {
    "height": "calc(100% - 180px)",
    "left": "10px",
    "top": "150px",
    "width": "286px"
   },
   "toc_section_display": true,
   "toc_window_display": true
  },
  "varInspector": {
   "cols": {
    "lenName": 16,
    "lenType": 16,
    "lenVar": 40
   },
   "kernels_config": {
    "python": {
     "delete_cmd_postfix": "",
     "delete_cmd_prefix": "del ",
     "library": "var_list.py",
     "varRefreshCmd": "print(var_dic_list())"
    },
    "r": {
     "delete_cmd_postfix": ") ",
     "delete_cmd_prefix": "rm(",
     "library": "var_list.r",
     "varRefreshCmd": "cat(var_dic_list()) "
    }
   },
   "types_to_exclude": [
    "module",
    "function",
    "builtin_function_or_method",
    "instance",
    "_Feature"
   ],
   "window_display": false
  }
 },
 "nbformat": 4,
 "nbformat_minor": 2
}
