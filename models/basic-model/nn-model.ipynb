{
 "cells": [
  {
   "cell_type": "markdown",
   "metadata": {},
   "source": [
    "# Neural Network Model\n",
    "\n",
    "The aim of the notebook is demo end to end pipeline for Ads prediction in Tensorflow"
   ]
  },
  {
   "cell_type": "code",
   "execution_count": 80,
   "metadata": {},
   "outputs": [
    {
     "name": "stdout",
     "output_type": "stream",
     "text": [
      "Using Tensorflow, 2.1.0 on Python interpreter, sys.version_info(major=3, minor=7, micro=5, releaselevel='final', serial=0)\n"
     ]
    }
   ],
   "source": [
    "import tensorflow as tf\n",
    "import sys\n",
    "from pathlib import Path\n",
    "import datetime\n",
    "import time\n",
    "import numpy as np\n",
    "import pandas as pd\n",
    "from pprint import pprint\n",
    "from typing import Dict, Any, Union, List\n",
    "from functools import partial\n",
    "\n",
    "print(f\"Using Tensorflow, {tf.__version__} on Python interpreter, {sys.version_info}\")"
   ]
  },
  {
   "cell_type": "code",
   "execution_count": 2,
   "metadata": {},
   "outputs": [
    {
     "name": "stdout",
     "output_type": "stream",
     "text": [
      "Using random seed, 1587796063\n"
     ]
    }
   ],
   "source": [
    "RANDOM_SEED = int(time.time())\n",
    "\n",
    "tf.random.set_seed(RANDOM_SEED)\n",
    "np.random.seed(RANDOM_SEED)\n",
    "\n",
    "print(f\"Using random seed, {RANDOM_SEED}\")"
   ]
  },
  {
   "cell_type": "markdown",
   "metadata": {},
   "source": [
    "## Load Data\n",
    "\n",
    "Dataset credits:\n",
    "```\n",
    "@inproceedings{roffo2016personality,\n",
    "  title={Personality in computational advertising: A benchmark},\n",
    "  author={Roffo, Giorgio and Vinciarelli, Alessandro},\n",
    "  booktitle={4 th Workshop on Emotions and Personality in Personalized Systems (EMPIRE) 2016},\n",
    "  pages={18},\n",
    "  year={2016}\n",
    "}\n",
    "```"
   ]
  },
  {
   "cell_type": "code",
   "execution_count": 3,
   "metadata": {},
   "outputs": [],
   "source": [
    "DATA_FOLDER = Path(\"../../dataset/\")\n",
    "BATCH_SIZE = 4096 # bigger the batch, faster the training but bigger the RAM needed\n",
    "TARGET_COL = \"Rating\"\n",
    "\n",
    "# data files path are relative DATA_FOLDER\n",
    "users_ads_rating_csv = DATA_FOLDER/\"AllUsers_Ads_Ratings_df.csv\""
   ]
  },
  {
   "cell_type": "code",
   "execution_count": 4,
   "metadata": {
    "code_folding": [
     41
    ]
   },
   "outputs": [],
   "source": [
    "USER_ID = \"UserId\"\n",
    "AD_ID = \"AdId\"\n",
    "AGE = \"Age\"\n",
    "ZIP_CODE = \"Cap/Zip-Code\"\n",
    "COUNTRIES_VISITED = \"Countries visited\"\n",
    "FAVE_SPORTS = \"Fave Sports\"\n",
    "GENDER = \"Gender\"\n",
    "HOME_COUNTRY = \"Home country\"\n",
    "HOME_TOWN = \"Home town\"\n",
    "INCOME = \"Income\"\n",
    "LAST_NAME = \"Last Name\"\n",
    "MOST_LISTENED_MUSICS = \"Most listened musics\"\n",
    "MOST_READ_BOOKS = \"Most read books\"\n",
    "MOST_VISITED_WEBSITES = \"Most visited websites\"\n",
    "MOST_WATCHED_MOVIES = \"Most watched movies\"\n",
    "MOST_WATCHED_TV_PROGRAMMES = \"Most watched tv programmes\"\n",
    "NAME = \"Name\"\n",
    "PAYPAL = \"Paypal\"\n",
    "TIMEPASS = \"Timepass\"\n",
    "TYPE_OF_JOB = \"Type of Job\"\n",
    "WEEKLY_WORKING_HOURS = \"Weekly working hours\"\n",
    "FAVE1 = \"fave1\"\n",
    "FAVE10 = \"fave10\"\n",
    "FAVE2 = \"fave2\"\n",
    "FAVE3 = \"fave3\"\n",
    "FAVE4 = \"fave4\"\n",
    "FAVE5 = \"fave5\"\n",
    "FAVE6 = \"fave6\"\n",
    "FAVE7 = \"fave7\"\n",
    "FAVE8 = \"fave8\"\n",
    "FAVE9 = \"fave9\"\n",
    "UNFAVE1 = \"unfave1\"\n",
    "UNFAVE2 = \"unfave2\"\n",
    "UNFAVE3 = \"unfave3\"\n",
    "UNFAVE4 = \"unfave4\"\n",
    "UNFAVE5 = \"unfave5\"\n",
    "UNFAVE6 = \"unfave6\"\n",
    "ADFILEPATH = \"AdFilePath\"\n",
    "RATING = \"Rating\"\n",
    "\n",
    "# Read all columns as strings to avoid any errors\n",
    "COL_DEFAULTS = {\n",
    "    USER_ID: \"**\",\n",
    "    AD_ID: \"**\",\n",
    "    AGE: \"**\",\n",
    "    ZIP_CODE: \"**\",\n",
    "    COUNTRIES_VISITED: \"**\",\n",
    "    FAVE_SPORTS: \"**\",\n",
    "    GENDER: \"**\",\n",
    "    HOME_COUNTRY: \"**\",\n",
    "    HOME_TOWN: \"**\",\n",
    "    INCOME: \"**\",\n",
    "    LAST_NAME: \"**\",\n",
    "    MOST_LISTENED_MUSICS: \"**\",\n",
    "    MOST_READ_BOOKS: \"**\",\n",
    "    MOST_VISITED_WEBSITES: \"**\",\n",
    "    MOST_WATCHED_MOVIES: \"**\",\n",
    "    MOST_WATCHED_TV_PROGRAMMES: \"**\",\n",
    "    NAME: \"**\",\n",
    "    PAYPAL: \"**\",\n",
    "    TIMEPASS: \"**\",\n",
    "    TYPE_OF_JOB: \"**\",\n",
    "    WEEKLY_WORKING_HOURS: \"**\",\n",
    "    FAVE1: \"**\",\n",
    "    FAVE10: \"**\",\n",
    "    FAVE2: \"**\",\n",
    "    FAVE3: \"**\",\n",
    "    FAVE4: \"**\",\n",
    "    FAVE5: \"**\",\n",
    "    FAVE6: \"**\",\n",
    "    FAVE7: \"**\",\n",
    "    FAVE8: \"**\",\n",
    "    FAVE9: \"**\",\n",
    "    UNFAVE1: \"**\",\n",
    "    UNFAVE2: \"**\",\n",
    "    UNFAVE3: \"**\",\n",
    "    UNFAVE4: \"**\",\n",
    "    UNFAVE5: \"**\",\n",
    "    UNFAVE6: \"**\",\n",
    "    ADFILEPATH: \"**\",\n",
    "    RATING: \"**\"\n",
    "}\n",
    "\n",
    "SELECTED_COLS = [AGE, ZIP_CODE, FAVE_SPORTS, GENDER, HOME_COUNTRY, HOME_TOWN, INCOME, MOST_LISTENED_MUSICS, MOST_READ_BOOKS, \n",
    "                 MOST_VISITED_WEBSITES, MOST_WATCHED_MOVIES, MOST_WATCHED_TV_PROGRAMMES, TIMEPASS, TYPE_OF_JOB, WEEKLY_WORKING_HOURS, \n",
    "                 FAVE1, FAVE2, FAVE3, FAVE4, FAVE5, FAVE6, FAVE7, FAVE8, FAVE9, FAVE10, UNFAVE1, UNFAVE2, UNFAVE3, UNFAVE4, UNFAVE5, \n",
    "                 UNFAVE6, RATING]"
   ]
  },
  {
   "cell_type": "code",
   "execution_count": 54,
   "metadata": {},
   "outputs": [],
   "source": [
    "def ad_dataset(batch_size=BATCH_SIZE, shuffle=True):\n",
    "    return tf.data.experimental.make_csv_dataset(\n",
    "        users_ads_rating_csv.as_posix(),\n",
    "        batch_size,\n",
    "        column_defaults={col:default for col, default in COL_DEFAULTS.items() if col in SELECTED_COLS},\n",
    "        select_columns=list(SELECTED_COLS),\n",
    "        label_name=None,\n",
    "        shuffle=shuffle,\n",
    "        shuffle_buffer_size=1000,\n",
    "        shuffle_seed=RANDOM_SEED,\n",
    "        sloppy=True,\n",
    "        ignore_errors=False # set true while training if required\n",
    "    )"
   ]
  },
  {
   "cell_type": "code",
   "execution_count": 56,
   "metadata": {
    "scrolled": true
   },
   "outputs": [
    {
     "name": "stdout",
     "output_type": "stream",
     "text": [
      "OrderedDict([('Age',\n",
      "              <tf.Tensor: shape=(3,), dtype=string, numpy=array([b'26', b'22', b'26'], dtype=object)>),\n",
      "             ('Cap/Zip-Code',\n",
      "              <tf.Tensor: shape=(3,), dtype=string, numpy=array([b'60638', b'54942', b'60638'], dtype=object)>),\n",
      "             ('Fave Sports',\n",
      "              <tf.Tensor: shape=(3,), dtype=string, numpy=\n",
      "array([b'Nothing', b'Team sports (Footbal, Baseball, Rugby, ...) ',\n",
      "       b'Nothing'], dtype=object)>),\n",
      "             ('Gender',\n",
      "              <tf.Tensor: shape=(3,), dtype=string, numpy=array([b'F', b'M', b'F'], dtype=object)>),\n",
      "             ('Home country',\n",
      "              <tf.Tensor: shape=(3,), dtype=string, numpy=\n",
      "array([b'United States of America', b'United States of America',\n",
      "       b'United States of America'], dtype=object)>),\n",
      "             ('Home town',\n",
      "              <tf.Tensor: shape=(3,), dtype=string, numpy=array([b'Chicago', b'Greenville', b'Chicago'], dtype=object)>),\n",
      "             ('Income',\n",
      "              <tf.Tensor: shape=(3,), dtype=string, numpy=array([b'1', b'1', b'1'], dtype=object)>),\n",
      "             ('Most listened musics',\n",
      "              <tf.Tensor: shape=(3,), dtype=string, numpy=\n",
      "array([b'Dance Music, Electronic Music, Indie Pop, Pop (Popular music), Rock',\n",
      "       b'Hip Hop - Rap, Dance Music, Electronic Music, Rock',\n",
      "       b'Dance Music, Electronic Music, Indie Pop, Pop (Popular music), Rock'],\n",
      "      dtype=object)>),\n",
      "             ('Most read books',\n",
      "              <tf.Tensor: shape=(3,), dtype=string, numpy=\n",
      "array([b'Romance, Mystery, Science fiction, Science', b'Biographies',\n",
      "       b'Romance, Mystery, Science fiction, Science'], dtype=object)>),\n",
      "             ('Most visited websites',\n",
      "              <tf.Tensor: shape=(3,), dtype=string, numpy=\n",
      "array([b'Toys &amp; games sites, Console &amp; video games sites',\n",
      "       b'Sports &amp; outdoor sites, Media (Books, DVD, CD/DVD Music) sites',\n",
      "       b'Toys &amp; games sites, Console &amp; video games sites'],\n",
      "      dtype=object)>),\n",
      "             ('Most watched movies',\n",
      "              <tf.Tensor: shape=(3,), dtype=string, numpy=array([b'Drama', b'Comedy, Documentary', b'Drama'], dtype=object)>),\n",
      "             ('Most watched tv programmes',\n",
      "              <tf.Tensor: shape=(3,), dtype=string, numpy=array([b'Drama', b'Sport, News', b'Drama'], dtype=object)>),\n",
      "             ('Timepass',\n",
      "              <tf.Tensor: shape=(3,), dtype=string, numpy=array([b'Internet', b'Sports', b'Internet'], dtype=object)>),\n",
      "             ('Type of Job',\n",
      "              <tf.Tensor: shape=(3,), dtype=string, numpy=\n",
      "array([b'Contract employment', b'Contract employment',\n",
      "       b'Contract employment'], dtype=object)>),\n",
      "             ('Weekly working hours',\n",
      "              <tf.Tensor: shape=(3,), dtype=string, numpy=array([b'Full Time', b'Full Time', b'Full Time'], dtype=object)>),\n",
      "             ('fave1',\n",
      "              <tf.Tensor: shape=(3,), dtype=string, numpy=array([b'kirby videogames', b'Bucks', b'kirby videogames'], dtype=object)>),\n",
      "             ('fave10',\n",
      "              <tf.Tensor: shape=(3,), dtype=string, numpy=array([b'fave10', b'fave10', b'fave10'], dtype=object)>),\n",
      "             ('fave2',\n",
      "              <tf.Tensor: shape=(3,), dtype=string, numpy=array([b'beagle cute', b'Meme', b'beagle cute'], dtype=object)>),\n",
      "             ('fave3',\n",
      "              <tf.Tensor: shape=(3,), dtype=string, numpy=\n",
      "array([b'friedzucchini', b'Marshall Kings', b'friedzucchini'],\n",
      "      dtype=object)>),\n",
      "             ('fave4',\n",
      "              <tf.Tensor: shape=(3,), dtype=string, numpy=\n",
      "array([b'brownies chocolate peanutbutter', b'Joke',\n",
      "       b'brownies chocolate peanutbutter'], dtype=object)>),\n",
      "             ('fave5',\n",
      "              <tf.Tensor: shape=(3,), dtype=string, numpy=\n",
      "array([b'monet art impression postimpressionism', b'TMNT',\n",
      "       b'monet art impression postimpressionism'], dtype=object)>),\n",
      "             ('fave6',\n",
      "              <tf.Tensor: shape=(3,), dtype=string, numpy=array([b'fave6', b'fave6', b'fave6'], dtype=object)>),\n",
      "             ('fave7',\n",
      "              <tf.Tensor: shape=(3,), dtype=string, numpy=array([b'fave7', b'fave7', b'fave7'], dtype=object)>),\n",
      "             ('fave8',\n",
      "              <tf.Tensor: shape=(3,), dtype=string, numpy=array([b'fave8', b'fave8', b'fave8'], dtype=object)>),\n",
      "             ('fave9',\n",
      "              <tf.Tensor: shape=(3,), dtype=string, numpy=array([b'fave9', b'fave9', b'fave9'], dtype=object)>),\n",
      "             ('unfave1',\n",
      "              <tf.Tensor: shape=(3,), dtype=string, numpy=array([b'seafood fish', b'Ew', b'seafood fish'], dtype=object)>),\n",
      "             ('unfave2',\n",
      "              <tf.Tensor: shape=(3,), dtype=string, numpy=array([b'pizza', b'Useless', b'pizza'], dtype=object)>),\n",
      "             ('unfave3',\n",
      "              <tf.Tensor: shape=(3,), dtype=string, numpy=array([b'bacon', b'Ice Cream', b'bacon'], dtype=object)>),\n",
      "             ('unfave4',\n",
      "              <tf.Tensor: shape=(3,), dtype=string, numpy=array([b'bad odor', b'Play Dog', b'bad odor'], dtype=object)>),\n",
      "             ('unfave5',\n",
      "              <tf.Tensor: shape=(3,), dtype=string, numpy=array([b'doglicks', b'More Sweets', b'doglicks'], dtype=object)>),\n",
      "             ('unfave6',\n",
      "              <tf.Tensor: shape=(3,), dtype=string, numpy=array([b'unfave6', b'unfave6', b'unfave6'], dtype=object)>),\n",
      "             ('Rating',\n",
      "              <tf.Tensor: shape=(3,), dtype=string, numpy=array([b'1.0', b'4.0', b'1.0'], dtype=object)>)])\n"
     ]
    }
   ],
   "source": [
    "for d in ad_dataset(3).take(1):\n",
    "    pprint(d)"
   ]
  },
  {
   "cell_type": "markdown",
   "metadata": {},
   "source": [
    "## Transform Data"
   ]
  },
  {
   "cell_type": "markdown",
   "metadata": {},
   "source": [
    "### Age\n",
    "\n",
    "Convert to a number and remove any outliers"
   ]
  },
  {
   "cell_type": "code",
   "execution_count": 58,
   "metadata": {},
   "outputs": [],
   "source": [
    "# Obtained from Tensorflow Data Validation APIs data-exploration/tensorflow-data-validation.ipynb\n",
    "\n",
    "MEAN_AGE, STD_AGE, MEDIAN_AGE, MAX_AGE = 31.74, 12.07, 29, 140"
   ]
  },
  {
   "cell_type": "code",
   "execution_count": 132,
   "metadata": {},
   "outputs": [],
   "source": [
    "def fix_age(age_str:tf.string, default_age=MEDIAN_AGE) -> int:\n",
    "    \"\"\"Typecast age to an integer and update outliers with the default\"\"\"\n",
    "    try:\n",
    "        age = int(age_str)\n",
    "        if age < 0 or age > MAX_AGE:\n",
    "            raise ValueError(f\"{age} is not a valid age\")\n",
    "    except:\n",
    "        age = default_age\n",
    "    return age\n",
    "\n",
    "def fix_age_tf(example:Dict):\n",
    "    \"\"\"Wrap in a py_function for TF to run inside its execution graph\"\"\"\n",
    "    example[AGE] = tf.py_function(fix_age, [example[AGE]], tf.int16)\n",
    "    return example"
   ]
  },
  {
   "cell_type": "markdown",
   "metadata": {},
   "source": [
    "Visual Tests"
   ]
  },
  {
   "cell_type": "code",
   "execution_count": 133,
   "metadata": {},
   "outputs": [
    {
     "data": {
      "text/plain": [
       "(50, 29, 29, 29, 29)"
      ]
     },
     "execution_count": 133,
     "metadata": {},
     "output_type": "execute_result"
    }
   ],
   "source": [
    "fix_age(\"50\"), fix_age(\"50.5\"), fix_age(\"-10\"), fix_age(\"bad_age_10\"), fix_age(\"300\")"
   ]
  },
  {
   "cell_type": "code",
   "execution_count": 134,
   "metadata": {},
   "outputs": [
    {
     "name": "stdout",
     "output_type": "stream",
     "text": [
      "<tf.Tensor: shape=(10,), dtype=int16, numpy=array([26, 22, 26, 26, 62, 24, 26, 24, 26, 26], dtype=int16)>\n",
      "<tf.Tensor: shape=(10,), dtype=int16, numpy=array([26, 22, 22, 26, 22, 22, 22, 22, 62, 26], dtype=int16)>\n",
      "<tf.Tensor: shape=(10,), dtype=int16, numpy=array([24, 22, 26, 22, 62, 26, 22, 62, 26, 62], dtype=int16)>\n",
      "<tf.Tensor: shape=(10,), dtype=int16, numpy=array([22, 22, 26, 26, 62, 24, 22, 26, 26, 24], dtype=int16)>\n",
      "<tf.Tensor: shape=(10,), dtype=int16, numpy=array([26, 22, 62, 26, 22, 22, 62, 62, 62, 24], dtype=int16)>\n"
     ]
    }
   ],
   "source": [
    "for d in ad_dataset(1, True).map(fix_age_tf).batch(10).take(5):\n",
    "    pprint(d[AGE])"
   ]
  },
  {
   "cell_type": "markdown",
   "metadata": {},
   "source": [
    "### Zip Code\n",
    "\n",
    "Prepare zip-code column for one-hot encoding each character"
   ]
  },
  {
   "cell_type": "code",
   "execution_count": 84,
   "metadata": {},
   "outputs": [],
   "source": [
    "DEFAULT_ZIP_CODE = \"00000\""
   ]
  },
  {
   "cell_type": "code",
   "execution_count": 162,
   "metadata": {},
   "outputs": [],
   "source": [
    "def fix_zip_code(zip_code:tf.string, n_digits) -> List[str]:\n",
    "    \"\"\"Extracts the the first n_digits as a list\"\"\"\n",
    "    try:\n",
    "        zip_code = zip_code.numpy()[0].decode('ascii') # very ineffecient way\n",
    "        return list(zip_code.strip()[:n_digits])\n",
    "    except:\n",
    "        return list(DEFAULT_ZIP_CODE[:n_digits])\n",
    "\n",
    "def fix_zip_code_tf(example:Dict, n_digits=2):\n",
    "    \"\"\"Creates new columns for the first n_digits in zip_code\"\"\"\n",
    "    fix_zip_code_fn = partial(fix_zip_code, n_digits=n_digits)\n",
    "    zip_digits = tf.py_function(fix_zip_code_fn, [example[ZIP_CODE]], [tf.string] * n_digits)\n",
    "    zip_features = {}\n",
    "    for i in range(n_digits):\n",
    "        val = zip_digits[i]\n",
    "        val.set_shape([]) # https://github.com/tensorflow/tensorflow/issues/24520#issuecomment-579421744\n",
    "        zip_features[f\"{ZIP_CODE}{i}\"] = val\n",
    "    example.update(zip_features)\n",
    "    example.pop(ZIP_CODE)\n",
    "    return example"
   ]
  },
  {
   "cell_type": "markdown",
   "metadata": {},
   "source": [
    "Visual Tests"
   ]
  },
  {
   "cell_type": "code",
   "execution_count": 163,
   "metadata": {},
   "outputs": [
    {
     "data": {
      "text/plain": [
       "(['4', '3', '5', '5', '6'],\n",
       " ['4', '3'],\n",
       " ['4', '3', '5', '5'],\n",
       " ['0', '0', '0', '0'],\n",
       " ['0', '0', '0'])"
      ]
     },
     "execution_count": 163,
     "metadata": {},
     "output_type": "execute_result"
    }
   ],
   "source": [
    "(fix_zip_code(tf.constant([b\"43556\"], shape=(1,), dtype=tf.string), 10),\n",
    "fix_zip_code(tf.constant([b\"43556\"], shape=(1,), dtype=tf.string), 2),\n",
    "fix_zip_code(tf.constant([b\"43556\"], shape=(1,), dtype=tf.string), 4),\n",
    "fix_zip_code(tf.constant([43556], shape=(1,), dtype=tf.int32), 4),\\\n",
    "fix_zip_code(None, 3))"
   ]
  },
  {
   "cell_type": "code",
   "execution_count": 165,
   "metadata": {},
   "outputs": [
    {
     "name": "stdout",
     "output_type": "stream",
     "text": [
      "{'Cap/Zip-Code0': <tf.Tensor: shape=(5,), dtype=string, numpy=array([b'6', b'5', b'6', b'6', b'1'], dtype=object)>,\n",
      " 'Cap/Zip-Code1': <tf.Tensor: shape=(5,), dtype=string, numpy=array([b'0', b'4', b'0', b'0', b'5'], dtype=object)>}\n",
      "{'Cap/Zip-Code0': <tf.Tensor: shape=(5,), dtype=string, numpy=array([b'N', b'6', b'N', b'6', b'6'], dtype=object)>,\n",
      " 'Cap/Zip-Code1': <tf.Tensor: shape=(5,), dtype=string, numpy=array([b'W', b'0', b'W', b'0', b'0'], dtype=object)>}\n",
      "{'Cap/Zip-Code0': <tf.Tensor: shape=(5,), dtype=string, numpy=array([b'6', b'5', b'5', b'6', b'5'], dtype=object)>,\n",
      " 'Cap/Zip-Code1': <tf.Tensor: shape=(5,), dtype=string, numpy=array([b'0', b'4', b'4', b'0', b'4'], dtype=object)>}\n"
     ]
    }
   ],
   "source": [
    "for d in ad_dataset(1, True).map(fix_zip_code_tf).batch(5).take(3):\n",
    "    pprint({k: v for k, v in d.items() if k.startswith(ZIP_CODE)})"
   ]
  },
  {
   "cell_type": "markdown",
   "metadata": {},
   "source": [
    "## Tensorboard"
   ]
  },
  {
   "cell_type": "markdown",
   "metadata": {},
   "source": [
    "## Featurize"
   ]
  },
  {
   "cell_type": "markdown",
   "metadata": {},
   "source": [
    "## Model"
   ]
  },
  {
   "cell_type": "markdown",
   "metadata": {},
   "source": [
    "## Export"
   ]
  },
  {
   "cell_type": "code",
   "execution_count": null,
   "metadata": {},
   "outputs": [],
   "source": []
  }
 ],
 "metadata": {
  "kernelspec": {
   "display_name": "Python 3",
   "language": "python",
   "name": "python3"
  },
  "language_info": {
   "codemirror_mode": {
    "name": "ipython",
    "version": 3
   },
   "file_extension": ".py",
   "mimetype": "text/x-python",
   "name": "python",
   "nbconvert_exporter": "python",
   "pygments_lexer": "ipython3",
   "version": "3.7.5"
  },
  "toc": {
   "base_numbering": 1,
   "nav_menu": {},
   "number_sections": false,
   "sideBar": true,
   "skip_h1_title": true,
   "title_cell": "Table of Contents",
   "title_sidebar": "Contents",
   "toc_cell": false,
   "toc_position": {},
   "toc_section_display": true,
   "toc_window_display": true
  },
  "varInspector": {
   "cols": {
    "lenName": 16,
    "lenType": 16,
    "lenVar": 40
   },
   "kernels_config": {
    "python": {
     "delete_cmd_postfix": "",
     "delete_cmd_prefix": "del ",
     "library": "var_list.py",
     "varRefreshCmd": "print(var_dic_list())"
    },
    "r": {
     "delete_cmd_postfix": ") ",
     "delete_cmd_prefix": "rm(",
     "library": "var_list.r",
     "varRefreshCmd": "cat(var_dic_list()) "
    }
   },
   "types_to_exclude": [
    "module",
    "function",
    "builtin_function_or_method",
    "instance",
    "_Feature"
   ],
   "window_display": false
  }
 },
 "nbformat": 4,
 "nbformat_minor": 2
}
